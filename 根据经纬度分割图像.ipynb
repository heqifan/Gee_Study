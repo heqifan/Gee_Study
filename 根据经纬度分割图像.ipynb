{
 "cells": [
  {
   "cell_type": "code",
   "execution_count": 1,
   "id": "3c391441",
   "metadata": {
    "ExecuteTime": {
     "end_time": "2022-08-24T08:27:48.160513Z",
     "start_time": "2022-08-24T08:27:42.560525Z"
    }
   },
   "outputs": [
    {
     "data": {
      "application/vnd.jupyter.widget-view+json": {
       "model_id": "9b4ba48f89514f409d1e777e1bec8bde",
       "version_major": 2,
       "version_minor": 0
      },
      "text/plain": [
       "Map(center=[20, 0], controls=(WidgetControl(options=['position', 'transparent_bg'], widget=HBox(children=(Togg…"
      ]
     },
     "metadata": {},
     "output_type": "display_data"
    }
   ],
   "source": [
    "#导入各种需要的库\n",
    "#导入各种需要的库\n",
    "import geemap\n",
    "import ee\n",
    "Map = geemap.Map()\n",
    "from IPython.display import Image\n",
    "import PySimpleGUI as sg\n",
    "from tqdm.notebook import tqdm\n",
    "from time import sleep\n",
    "import csv\n",
    "import logging\n",
    "logging.basicConfig(\n",
    "    level=logging.INFO,\n",
    "    format=\"%(asctime)s [*] %(processName)s %(message)s\"\n",
    ")\n",
    "Map"
   ]
  },
  {
   "cell_type": "code",
   "execution_count": 6,
   "id": "9c0220b4",
   "metadata": {
    "ExecuteTime": {
     "end_time": "2022-08-24T08:32:01.571187Z",
     "start_time": "2022-08-24T08:31:59.197481Z"
    }
   },
   "outputs": [
    {
     "name": "stdout",
     "output_type": "stream",
     "text": [
      "{'type': 'Image', 'bands': [{'id': 'longitude', 'data_type': {'type': 'PixelType', 'precision': 'double'}, 'crs': 'EPSG:4326', 'crs_transform': [1, 0, 0, 0, 1, 0]}, {'id': 'latitude', 'data_type': {'type': 'PixelType', 'precision': 'double'}, 'crs': 'EPSG:4326', 'crs_transform': [1, 0, 0, 0, 1, 0]}]}\n"
     ]
    }
   ],
   "source": [
    "\n",
    "# set study area\n",
    "Ukraine = ee.FeatureCollection(\"FAO/GAUL/2015/level0\") \\\n",
    "                .filter(ee.Filter.eq('ADM0_NAME','Ukraine'))\n",
    "roi = Ukraine\n",
    "Map.addLayer(roi, {'color':'grey'}, 'studyArea')\n",
    "Map.centerObject(roi)\n",
    "\n",
    "# gird partitioning\n",
    "lonLat = ee.Image.pixelLonLat()\n",
    "print(lonLat.getInfo())\n",
    "lonGrid = lonLat \\\n",
    "  .select('longitude') \\\n",
    "  .multiply(10000000) \\\n",
    "  .toInt()\n",
    "\n",
    "latGrid = lonLat \\\n",
    "  .select('latitude') \\\n",
    "  .multiply(10000000) \\\n",
    "  .toInt()\n",
    "\n",
    "grid = lonGrid \\\n",
    "  .multiply(latGrid) \\\n",
    "  .reduceToVectors(**{\n",
    "    'geometry': roi.geometry().bounds(),\n",
    "    'scale': 50000,\n",
    "    'geometryType': 'polygon',\n",
    "  })\n",
    "\n",
    "Map.addLayer(grid,{'color':'red'},'grid')\n"
   ]
  },
  {
   "cell_type": "code",
   "execution_count": null,
   "id": "b9086195",
   "metadata": {},
   "outputs": [],
   "source": [
    "\n"
   ]
  }
 ],
 "metadata": {
  "kernelspec": {
   "display_name": "Python 3 (ipykernel)",
   "language": "python",
   "name": "python3"
  },
  "language_info": {
   "codemirror_mode": {
    "name": "ipython",
    "version": 3
   },
   "file_extension": ".py",
   "mimetype": "text/x-python",
   "name": "python",
   "nbconvert_exporter": "python",
   "pygments_lexer": "ipython3",
   "version": "3.8.13"
  },
  "toc": {
   "base_numbering": 1,
   "nav_menu": {},
   "number_sections": true,
   "sideBar": true,
   "skip_h1_title": false,
   "title_cell": "Table of Contents",
   "title_sidebar": "Contents",
   "toc_cell": false,
   "toc_position": {},
   "toc_section_display": true,
   "toc_window_display": false
  },
  "varInspector": {
   "cols": {
    "lenName": 16,
    "lenType": 16,
    "lenVar": 40
   },
   "kernels_config": {
    "python": {
     "delete_cmd_postfix": "",
     "delete_cmd_prefix": "del ",
     "library": "var_list.py",
     "varRefreshCmd": "print(var_dic_list())"
    },
    "r": {
     "delete_cmd_postfix": ") ",
     "delete_cmd_prefix": "rm(",
     "library": "var_list.r",
     "varRefreshCmd": "cat(var_dic_list()) "
    }
   },
   "types_to_exclude": [
    "module",
    "function",
    "builtin_function_or_method",
    "instance",
    "_Feature"
   ],
   "window_display": false
  }
 },
 "nbformat": 4,
 "nbformat_minor": 5
}
