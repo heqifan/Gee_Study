{
 "cells": [
  {
   "cell_type": "code",
   "execution_count": 1,
   "id": "754017b6",
   "metadata": {
    "ExecuteTime": {
     "end_time": "2022-08-01T13:52:17.809186Z",
     "start_time": "2022-08-01T13:52:11.101799Z"
    }
   },
   "outputs": [
    {
     "data": {
      "application/vnd.jupyter.widget-view+json": {
       "model_id": "846622ce3bf84318a6dd9a08fbff7555",
       "version_major": 2,
       "version_minor": 0
      },
      "text/plain": [
       "Map(center=[20, 0], controls=(WidgetControl(options=['position', 'transparent_bg'], widget=HBox(children=(Togg…"
      ]
     },
     "metadata": {},
     "output_type": "display_data"
    }
   ],
   "source": [
    "import geemap\n",
    "import ee\n",
    "Map = geemap.Map()\n",
    "Map"
   ]
  },
  {
   "cell_type": "code",
   "execution_count": 6,
   "id": "79bc4f6e",
   "metadata": {
    "ExecuteTime": {
     "end_time": "2022-08-01T13:55:55.509501Z",
     "start_time": "2022-08-01T13:55:50.747020Z"
    }
   },
   "outputs": [
    {
     "name": "stdout",
     "output_type": "stream",
     "text": [
      "Sentinel-2 image {'type': 'Image', 'bands': [{'id': 'B1', 'data_type': {'type': 'PixelType', 'precision': 'int', 'min': 0, 'max': 65535}, 'dimensions': [1830, 1830], 'crs': 'EPSG:32610', 'crs_transform': [60, 0, 499980, 0, -60, 4200000]}, {'id': 'B2', 'data_type': {'type': 'PixelType', 'precision': 'int', 'min': 0, 'max': 65535}, 'dimensions': [10980, 10980], 'crs': 'EPSG:32610', 'crs_transform': [10, 0, 499980, 0, -10, 4200000]}, {'id': 'B3', 'data_type': {'type': 'PixelType', 'precision': 'int', 'min': 0, 'max': 65535}, 'dimensions': [10980, 10980], 'crs': 'EPSG:32610', 'crs_transform': [10, 0, 499980, 0, -10, 4200000]}, {'id': 'B4', 'data_type': {'type': 'PixelType', 'precision': 'int', 'min': 0, 'max': 65535}, 'dimensions': [10980, 10980], 'crs': 'EPSG:32610', 'crs_transform': [10, 0, 499980, 0, -10, 4200000]}, {'id': 'B5', 'data_type': {'type': 'PixelType', 'precision': 'int', 'min': 0, 'max': 65535}, 'dimensions': [5490, 5490], 'crs': 'EPSG:32610', 'crs_transform': [20, 0, 499980, 0, -20, 4200000]}, {'id': 'B6', 'data_type': {'type': 'PixelType', 'precision': 'int', 'min': 0, 'max': 65535}, 'dimensions': [5490, 5490], 'crs': 'EPSG:32610', 'crs_transform': [20, 0, 499980, 0, -20, 4200000]}, {'id': 'B7', 'data_type': {'type': 'PixelType', 'precision': 'int', 'min': 0, 'max': 65535}, 'dimensions': [5490, 5490], 'crs': 'EPSG:32610', 'crs_transform': [20, 0, 499980, 0, -20, 4200000]}, {'id': 'B8', 'data_type': {'type': 'PixelType', 'precision': 'int', 'min': 0, 'max': 65535}, 'dimensions': [10980, 10980], 'crs': 'EPSG:32610', 'crs_transform': [10, 0, 499980, 0, -10, 4200000]}, {'id': 'B8A', 'data_type': {'type': 'PixelType', 'precision': 'int', 'min': 0, 'max': 65535}, 'dimensions': [5490, 5490], 'crs': 'EPSG:32610', 'crs_transform': [20, 0, 499980, 0, -20, 4200000]}, {'id': 'B9', 'data_type': {'type': 'PixelType', 'precision': 'int', 'min': 0, 'max': 65535}, 'dimensions': [1830, 1830], 'crs': 'EPSG:32610', 'crs_transform': [60, 0, 499980, 0, -60, 4200000]}, {'id': 'B11', 'data_type': {'type': 'PixelType', 'precision': 'int', 'min': 0, 'max': 65535}, 'dimensions': [5490, 5490], 'crs': 'EPSG:32610', 'crs_transform': [20, 0, 499980, 0, -20, 4200000]}, {'id': 'B12', 'data_type': {'type': 'PixelType', 'precision': 'int', 'min': 0, 'max': 65535}, 'dimensions': [5490, 5490], 'crs': 'EPSG:32610', 'crs_transform': [20, 0, 499980, 0, -20, 4200000]}, {'id': 'AOT', 'data_type': {'type': 'PixelType', 'precision': 'int', 'min': 0, 'max': 65535}, 'dimensions': [10980, 10980], 'crs': 'EPSG:32610', 'crs_transform': [10, 0, 499980, 0, -10, 4200000]}, {'id': 'WVP', 'data_type': {'type': 'PixelType', 'precision': 'int', 'min': 0, 'max': 65535}, 'dimensions': [10980, 10980], 'crs': 'EPSG:32610', 'crs_transform': [10, 0, 499980, 0, -10, 4200000]}, {'id': 'SCL', 'data_type': {'type': 'PixelType', 'precision': 'int', 'min': 0, 'max': 255}, 'dimensions': [5490, 5490], 'crs': 'EPSG:32610', 'crs_transform': [20, 0, 499980, 0, -20, 4200000]}, {'id': 'TCI_R', 'data_type': {'type': 'PixelType', 'precision': 'int', 'min': 0, 'max': 255}, 'dimensions': [10980, 10980], 'crs': 'EPSG:32610', 'crs_transform': [10, 0, 499980, 0, -10, 4200000]}, {'id': 'TCI_G', 'data_type': {'type': 'PixelType', 'precision': 'int', 'min': 0, 'max': 255}, 'dimensions': [10980, 10980], 'crs': 'EPSG:32610', 'crs_transform': [10, 0, 499980, 0, -10, 4200000]}, {'id': 'TCI_B', 'data_type': {'type': 'PixelType', 'precision': 'int', 'min': 0, 'max': 255}, 'dimensions': [10980, 10980], 'crs': 'EPSG:32610', 'crs_transform': [10, 0, 499980, 0, -10, 4200000]}, {'id': 'MSK_CLDPRB', 'data_type': {'type': 'PixelType', 'precision': 'int', 'min': 0, 'max': 255}, 'dimensions': [5490, 5490], 'crs': 'EPSG:32610', 'crs_transform': [20, 0, 499980, 0, -20, 4200000]}, {'id': 'MSK_SNWPRB', 'data_type': {'type': 'PixelType', 'precision': 'int', 'min': 0, 'max': 255}, 'dimensions': [5490, 5490], 'crs': 'EPSG:32610', 'crs_transform': [20, 0, 499980, 0, -20, 4200000]}, {'id': 'QA10', 'data_type': {'type': 'PixelType', 'precision': 'int', 'min': 0, 'max': 65535}, 'dimensions': [10980, 10980], 'crs': 'EPSG:32610', 'crs_transform': [10, 0, 499980, 0, -10, 4200000]}, {'id': 'QA20', 'data_type': {'type': 'PixelType', 'precision': 'int', 'min': 0, 'max': 4294967295}, 'dimensions': [5490, 5490], 'crs': 'EPSG:32610', 'crs_transform': [20, 0, 499980, 0, -20, 4200000]}, {'id': 'QA60', 'data_type': {'type': 'PixelType', 'precision': 'int', 'min': 0, 'max': 65535}, 'dimensions': [1830, 1830], 'crs': 'EPSG:32610', 'crs_transform': [60, 0, 499980, 0, -60, 4200000]}], 'id': 'COPERNICUS/S2_SR/20210109T185751_20210109T185931_T10SEG', 'version': 1610299137248490.0, 'properties': {'DATATAKE_IDENTIFIER': 'GS2A_20210109T185751_028996_N02.14', 'AOT_RETRIEVAL_ACCURACY': 0, 'SPACECRAFT_NAME': 'Sentinel-2A', 'SATURATED_DEFECTIVE_PIXEL_PERCENTAGE': 0, 'MEAN_INCIDENCE_AZIMUTH_ANGLE_B8A': 114.81862842369, 'CLOUD_SHADOW_PERCENTAGE': 1.014897, 'MEAN_SOLAR_AZIMUTH_ANGLE': 160.858672675194, 'system:footprint': {'type': 'LinearRing', 'coordinates': [[-123.0003408468679, 37.94760085151261], [-123.00034179205034, 37.947589574707514], [-123.00033723798937, 36.95806136788806], [-123.00029152551673, 36.95801992306331], [-123.0002526011579, 36.95797423741872], [-123.00023412711913, 36.957971363363285], [-121.76721790044816, 36.95157206200717], [-121.76716539030087, 36.951608138255864], [-121.76710775082277, 36.95163857717662], [-121.76710392557732, 36.95165337679644], [-121.7590314099813, 37.44633070146803], [-121.75075919661508, 37.9409574689974], [-121.75080484540509, 37.940999372863686], [-121.75084345122438, 37.94104550336575], [-121.75086214547893, 37.94104856554029], [-123.00022759676041, 37.94767956582706], [-123.00028018332104, 37.94764299733767], [-123.00033818317185, 37.94761187496444], [-123.0003408468679, 37.94760085151261]]}, 'VEGETATION_PERCENTAGE': 19.360131, 'SOLAR_IRRADIANCE_B12': 85.25, 'SOLAR_IRRADIANCE_B10': 367.15, 'SENSOR_QUALITY': 'PASSED', 'SOLAR_IRRADIANCE_B11': 245.59, 'GENERATION_TIME': 1610226905000, 'SOLAR_IRRADIANCE_B8A': 955.32, 'FORMAT_CORRECTNESS': 'PASSED', 'CLOUD_COVERAGE_ASSESSMENT': 2.666846, 'THIN_CIRRUS_PERCENTAGE': 2.315835, 'system:time_end': 1610219050359, 'WATER_VAPOUR_RETRIEVAL_ACCURACY': 0, 'system:time_start': 1610219050359, 'DATASTRIP_ID': 'S2A_OPER_MSI_L2A_DS_VGS2_20210109T211505_S20210109T185931_N02.14', 'PROCESSING_BASELINE': '02.14', 'SENSING_ORBIT_NUMBER': 113, 'NODATA_PIXEL_PERCENTAGE': 0, 'SENSING_ORBIT_DIRECTION': 'DESCENDING', 'GENERAL_QUALITY': 'PASSED', 'GRANULE_ID': 'L2A_T10SEG_A028996_20210109T185931', 'REFLECTANCE_CONVERSION_CORRECTION': 1.03427546410492, 'MEDIUM_PROBA_CLOUDS_PERCENTAGE': 0.172458, 'MEAN_INCIDENCE_AZIMUTH_ANGLE_B8': 119.209385817403, 'DATATAKE_TYPE': 'INS-NOBS', 'MEAN_INCIDENCE_AZIMUTH_ANGLE_B9': 114.494157238077, 'MEAN_INCIDENCE_AZIMUTH_ANGLE_B6': 115.63281958741, 'MEAN_INCIDENCE_AZIMUTH_ANGLE_B7': 115.219539288212, 'MEAN_INCIDENCE_AZIMUTH_ANGLE_B4': 116.650813119898, 'MEAN_INCIDENCE_ZENITH_ANGLE_B1': 4.04776629377222, 'NOT_VEGETATED_PERCENTAGE': 16.314156, 'MEAN_INCIDENCE_AZIMUTH_ANGLE_B5': 116.086847216907, 'RADIOMETRIC_QUALITY': 'PASSED', 'MEAN_INCIDENCE_AZIMUTH_ANGLE_B2': 120.556797537776, 'MEAN_INCIDENCE_AZIMUTH_ANGLE_B3': 118.133363407682, 'MEAN_INCIDENCE_ZENITH_ANGLE_B5': 3.74414649361719, 'MEAN_INCIDENCE_AZIMUTH_ANGLE_B1': 114.755276426601, 'MEAN_INCIDENCE_ZENITH_ANGLE_B4': 3.68776408026973, 'MEAN_INCIDENCE_ZENITH_ANGLE_B3': 3.58093427597667, 'MEAN_INCIDENCE_ZENITH_ANGLE_B2': 3.48525702064288, 'MEAN_INCIDENCE_ZENITH_ANGLE_B9': 4.13110693374827, 'MEAN_INCIDENCE_ZENITH_ANGLE_B8': 3.53011114837964, 'MEAN_INCIDENCE_ZENITH_ANGLE_B7': 3.88449677397704, 'DARK_FEATURES_PERCENTAGE': 8.372843, 'HIGH_PROBA_CLOUDS_PERCENTAGE': 0.178553, 'MEAN_INCIDENCE_ZENITH_ANGLE_B6': 3.81212529024762, 'UNCLASSIFIED_PERCENTAGE': 1.873756, 'MEAN_SOLAR_ZENITH_ANGLE': 61.8490219854971, 'MEAN_INCIDENCE_ZENITH_ANGLE_B8A': 3.96383715348226, 'RADIATIVE_TRANSFER_ACCURACY': 0, 'MGRS_TILE': '10SEG', 'CLOUDY_PIXEL_PERCENTAGE': 2.666846, 'PRODUCT_ID': 'S2A_MSIL2A_20210109T185751_N0214_R113_T10SEG_20210109T211505', 'MEAN_INCIDENCE_ZENITH_ANGLE_B10': 3.6431254422503, 'SOLAR_IRRADIANCE_B9': 812.92, 'SNOW_ICE_PERCENTAGE': 0.043294, 'DEGRADED_MSI_DATA_PERCENTAGE': 0, 'MEAN_INCIDENCE_ZENITH_ANGLE_B11': 3.80220808500519, 'MEAN_INCIDENCE_ZENITH_ANGLE_B12': 3.98215324076357, 'SOLAR_IRRADIANCE_B6': 1287.61, 'MEAN_INCIDENCE_AZIMUTH_ANGLE_B10': 117.021330777455, 'SOLAR_IRRADIANCE_B5': 1424.64, 'MEAN_INCIDENCE_AZIMUTH_ANGLE_B11': 115.553475771544, 'SOLAR_IRRADIANCE_B8': 1041.63, 'MEAN_INCIDENCE_AZIMUTH_ANGLE_B12': 114.57702538485, 'SOLAR_IRRADIANCE_B7': 1162.08, 'SOLAR_IRRADIANCE_B2': 1959.66, 'SOLAR_IRRADIANCE_B1': 1884.69, 'SOLAR_IRRADIANCE_B4': 1512.06, 'GEOMETRIC_QUALITY': 'PASSED', 'SOLAR_IRRADIANCE_B3': 1823.24, 'system:asset_size': 1351904937, 'WATER_PERCENTAGE': 50.354075, 'system:index': '20210109T185751_20210109T185931_T10SEG'}}\n"
     ]
    },
    {
     "name": "stdout",
     "output_type": "stream",
     "text": [
      "Land mask {'type': 'Image', 'bands': [{'id': 'B11', 'data_type': {'type': 'PixelType', 'precision': 'int', 'min': 0, 'max': 1}, 'dimensions': [5490, 5490], 'crs': 'EPSG:32610', 'crs_transform': [20, 0, 499980, 0, -20, 4200000]}]}\n",
      "Land mask, masked {'type': 'Image', 'bands': [{'id': 'B11', 'data_type': {'type': 'PixelType', 'precision': 'int', 'min': 0, 'max': 1}, 'dimensions': [5490, 5490], 'crs': 'EPSG:32610', 'crs_transform': [20, 0, 499980, 0, -20, 4200000]}]}\n"
     ]
    }
   ],
   "source": [
    "#A Sentinel-2 surface reflectance image.\n",
    "img = ee.Image('COPERNICUS/S2_SR/20210109T185751_20210109T185931_T10SEG')\n",
    "print('Sentinel-2 image', img.getInfo())\n",
    "Map.setCenter(-122.36, 37.47, 10)\n",
    "Map.addLayer(img, {}, 'Sentinel-2 image')\n",
    "\n",
    "#Create a Boolean land mask from the SWIR1 band; water is value 0, land is 1.\n",
    "landMask = img.select('B11').gt(100)\n",
    "print('Land mask', landMask.getInfo())\n",
    "Map.addLayer(landMask, {}, 'Land mask')\n",
    "\n",
    "#Mask the land mask by itself; pixel values equal to 0 (water) become invalid.\n",
    "landMaskMasked = landMask.selfMask()\n",
    "print('Land mask, masked', landMaskMasked.getInfo())\n",
    "Map.addLayer(landMaskMasked, {}, 'Land mask, masked')"
   ]
  },
  {
   "cell_type": "code",
   "execution_count": null,
   "id": "13f72a84",
   "metadata": {},
   "outputs": [],
   "source": []
  }
 ],
 "metadata": {
  "kernelspec": {
   "display_name": "Python 3 (ipykernel)",
   "language": "python",
   "name": "python3"
  },
  "language_info": {
   "codemirror_mode": {
    "name": "ipython",
    "version": 3
   },
   "file_extension": ".py",
   "mimetype": "text/x-python",
   "name": "python",
   "nbconvert_exporter": "python",
   "pygments_lexer": "ipython3",
   "version": "3.8.13"
  },
  "toc": {
   "base_numbering": 1,
   "nav_menu": {},
   "number_sections": true,
   "sideBar": true,
   "skip_h1_title": false,
   "title_cell": "Table of Contents",
   "title_sidebar": "Contents",
   "toc_cell": false,
   "toc_position": {},
   "toc_section_display": true,
   "toc_window_display": false
  },
  "varInspector": {
   "cols": {
    "lenName": 16,
    "lenType": 16,
    "lenVar": 40
   },
   "kernels_config": {
    "python": {
     "delete_cmd_postfix": "",
     "delete_cmd_prefix": "del ",
     "library": "var_list.py",
     "varRefreshCmd": "print(var_dic_list())"
    },
    "r": {
     "delete_cmd_postfix": ") ",
     "delete_cmd_prefix": "rm(",
     "library": "var_list.r",
     "varRefreshCmd": "cat(var_dic_list()) "
    }
   },
   "types_to_exclude": [
    "module",
    "function",
    "builtin_function_or_method",
    "instance",
    "_Feature"
   ],
   "window_display": false
  }
 },
 "nbformat": 4,
 "nbformat_minor": 5
}
