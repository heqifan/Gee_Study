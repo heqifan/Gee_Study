{
 "cells": [
  {
   "cell_type": "code",
   "execution_count": 1,
   "id": "f6fc602f",
   "metadata": {},
   "outputs": [
    {
     "data": {
      "application/vnd.jupyter.widget-view+json": {
       "model_id": "31ab6a8b4bcc4820881b007231c4b732",
       "version_major": 2,
       "version_minor": 0
      },
      "text/plain": [
       "Map(center=[40, -100], controls=(WidgetControl(options=['position', 'transparent_bg'], widget=HBox(children=(T…"
      ]
     },
     "metadata": {},
     "output_type": "display_data"
    }
   ],
   "source": [
    "import geemap\n",
    "import ee\n",
    "ee.Initialize()\n",
    "reducer = ee.Reducer.mean()\n",
    "Map = geemap.Map()\n",
    "Map"
   ]
  },
  {
   "cell_type": "code",
   "execution_count": 2,
   "id": "d3029a72",
   "metadata": {},
   "outputs": [],
   "source": [
    "point = ee.Geometry.Point([-122.4439, 37.7538])\n",
    "# point = ee.Geometry.Point([-87.7719, 41.8799])\n",
    "\n",
    "image = ee.ImageCollection('LANDSAT/LC08/C01/T1_SR') \\\n",
    "    .filterBounds(point) \\\n",
    "    .filterDate('2016-01-01', '2016-12-31') \\\n",
    "    .sort('CLOUD_COVER') \\\n",
    "    .first() \\\n",
    "    .select('B[1-7]')\n",
    "\n",
    "vis_params = {\n",
    "    'min': 0,\n",
    "    'max': 3000,\n",
    "    'bands': ['B5', 'B4', 'B3']\n",
    "}\n",
    "\n",
    "Map.centerObject(point, 8)\n",
    "Map.addLayer(image, vis_params, \"Landsat-8\")\n",
    "# Map"
   ]
  },
  {
   "cell_type": "code",
   "execution_count": 3,
   "id": "a8ac787f",
   "metadata": {},
   "outputs": [],
   "source": [
    "nlcd = ee.Image('USGS/NLCD/NLCD2016').select('landcover').clip(image.geometry())\n",
    "Map.addLayer(nlcd, {}, 'NLCD')\n",
    "# Map"
   ]
  },
  {
   "cell_type": "code",
   "execution_count": 4,
   "id": "6225a6ba",
   "metadata": {},
   "outputs": [],
   "source": [
    "# 选取样点\n",
    "points = nlcd.sample(**{\n",
    "    'region': image.geometry(),\n",
    "    'scale': 30,\n",
    "    'numPixels': 5000,\n",
    "    'seed': 0,\n",
    "    'geometries': True\n",
    "})\n",
    "Map.addLayer(points, {}, 'training', False)"
   ]
  },
  {
   "cell_type": "code",
   "execution_count": 5,
   "id": "2510bf9f",
   "metadata": {},
   "outputs": [
    {
     "name": "stdout",
     "output_type": "stream",
     "text": [
      "3583\n"
     ]
    }
   ],
   "source": [
    "print(points.size().getInfo())"
   ]
  },
  {
   "cell_type": "code",
   "execution_count": 6,
   "id": "11bd1f10",
   "metadata": {},
   "outputs": [
    {
     "name": "stdout",
     "output_type": "stream",
     "text": [
      "{'type': 'Feature', 'geometry': {'type': 'Point', 'coordinates': [-122.25798986874739, 38.2706212827936]}, 'id': '0', 'properties': {'landcover': 31}}\n"
     ]
    }
   ],
   "source": [
    "print(points.first().getInfo())"
   ]
  },
  {
   "cell_type": "code",
   "execution_count": 7,
   "id": "af4a0c4b",
   "metadata": {},
   "outputs": [],
   "source": [
    "label = 'landcover'\n",
    "\n",
    "training = image.sampleRegions(**{\n",
    "  'collection': points,\n",
    "  'properties': [label],\n",
    "  'scale': 30\n",
    "})\n",
    "\n",
    "trained = ee.Classifier.smileRandomForest(numberOfTrees=100)\\\n",
    "            .train(training, label)"
   ]
  },
  {
   "cell_type": "code",
   "execution_count": 10,
   "id": "cd86f3e4",
   "metadata": {},
   "outputs": [
    {
     "name": "stdout",
     "output_type": "stream",
     "text": [
      "{'type': 'Feature', 'geometry': {'type': 'Point', 'coordinates': [-122.25798986874739, 38.2706212827936]}, 'id': '0', 'properties': {'landcover': 31}}\n",
      "{'type': 'Feature', 'geometry': None, 'id': '0_0', 'properties': {'B1': 575, 'B2': 814, 'B3': 1312, 'B4': 1638, 'B5': 1980, 'B6': 2091, 'B7': 1967, 'landcover': 31}}\n"
     ]
    }
   ],
   "source": [
    "print(points.first().getInfo())\n",
    "print(training.first().getInfo())"
   ]
  },
  {
   "cell_type": "code",
   "execution_count": 11,
   "id": "cdf31151",
   "metadata": {},
   "outputs": [
    {
     "data": {
      "application/vnd.jupyter.widget-view+json": {
       "model_id": "31ab6a8b4bcc4820881b007231c4b732",
       "version_major": 2,
       "version_minor": 0
      },
      "text/plain": [
       "Map(bottom=6622.0, center=[37.9529690457871, -122.26386074058567], controls=(WidgetControl(options=['position'…"
      ]
     },
     "metadata": {},
     "output_type": "display_data"
    }
   ],
   "source": [
    "# 将分类器应用于地图上\n",
    "result = image.classify(trained)\n",
    "\n",
    "Map.addLayer(result.randomVisualizer(), {}, 'classfied')\n",
    "Map\n"
   ]
  },
  {
   "cell_type": "code",
   "execution_count": 12,
   "id": "6623a872",
   "metadata": {},
   "outputs": [],
   "source": [
    "# 获取值\n",
    "class_values = nlcd.get('landcover_class_values').getInfo()\n",
    "# class_values"
   ]
  },
  {
   "cell_type": "code",
   "execution_count": 13,
   "id": "317b9902",
   "metadata": {
    "collapsed": true,
    "jupyter": {
     "outputs_hidden": true
    }
   },
   "outputs": [
    {
     "name": "stdout",
     "output_type": "stream",
     "text": [
      "{'type': 'Image', 'bands': [{'id': 'landcover', 'data_type': {'type': 'PixelType', 'precision': 'int', 'min': 0, 'max': 255}, 'dimensions': [8554, 8800], 'origin': [3491, 42060], 'crs': 'PROJCS[\"Albers_Conical_Equal_Area\", \\n  GEOGCS[\"WGS 84\", \\n    DATUM[\"WGS_1984\", \\n      SPHEROID[\"WGS 84\", 6378137.0, 298.257223563, AUTHORITY[\"EPSG\",\"7030\"]], \\n      AUTHORITY[\"EPSG\",\"6326\"]], \\n    PRIMEM[\"Greenwich\", 0.0], \\n    UNIT[\"degree\", 0.017453292519943295], \\n    AXIS[\"Longitude\", EAST], \\n    AXIS[\"Latitude\", NORTH], \\n    AUTHORITY[\"EPSG\",\"4326\"]], \\n  PROJECTION[\"Albers_Conic_Equal_Area\"], \\n  PARAMETER[\"central_meridian\", -96.0], \\n  PARAMETER[\"latitude_of_origin\", 23.0], \\n  PARAMETER[\"standard_parallel_1\", 29.5], \\n  PARAMETER[\"false_easting\", 0.0], \\n  PARAMETER[\"false_northing\", 0.0], \\n  PARAMETER[\"standard_parallel_2\", 45.5], \\n  UNIT[\"m\", 1.0], \\n  AXIS[\"x\", EAST], \\n  AXIS[\"y\", NORTH]]', 'crs_transform': [30, 0, -2493045, 0, -30, 3310005]}], 'id': 'USGS/NLCD/NLCD2016', 'version': 1576603698764544, 'properties': {'system:footprint': {'type': 'Polygon', 'coordinates': [[[-123.39689700608619, 36.8035049063163], [-123.39689144351225, 36.80242904170307], [-123.36330791894653, 36.79628758808889], [-122.63792708478064, 36.66133990150424], [-121.40692651268846, 36.4211052995983], [-121.37223497249073, 36.41414006525577], [-121.37048861242614, 36.41411622512404], [-121.3634164500715, 36.43709997167217], [-121.11077898429411, 37.25333195152786], [-121.08638174065568, 37.33124464654188], [-121.04559366641527, 37.46134561097125], [-120.99286374850031, 37.62909699022859], [-120.95301787056815, 37.75548014548207], [-120.89625047246658, 37.93488471092573], [-120.86384583447341, 38.03721910907389], [-120.83973259238932, 38.11328386086872], [-120.83354600310538, 38.132833856527924], [-121.62102714495445, 38.285701111755], [-122.43554747610725, 38.43763516028478], [-122.90689015652602, 38.52268835152088], [-122.90777051039043, 38.52130860055569], [-122.91161943071374, 38.50851293866064], [-123.39689700608619, 36.8035049063163]]]}, 'impervious_descriptor_class_values': [1, 2, 3, 4, 5, 6, 7, 8, 9, 10, 11, 12], 'landcover_class_names': ['Open Water - All areas of open water, generally with less than 25% cover or vegetation or soil.', 'Perennial Ice/Snow - All areas characterized by a perennial cover of ice and/or snow, generally greater than 25% of total cover.', 'Developed, Open Space - Includes areas with a mixture of some constructed materials, but mostly vegetation in the form of lawn grasses.  Impervious surfaces account for less than 20 percent of total cover. These areas most commonly include large-lot single-family housing units, parks, golf courses, and vegetation planted in developed settings for recreation, erosion control, or aesthetic purposes.', 'Developed, Low Intensity - Includes areas with a mixture of constructed materials and vegetation. Impervious surfaces account for 20-49 percent of total cover.  These areas most commonly include single-family housing units.', 'Developed, Medium Intensity - Includes areas with a mixture of constructed materials and vegetation. Impervious surfaces account for 50-79 percent of the total cover.  These areas most commonly include single-family housing units.', 'Developed, High Intensity - Includes highly developed areas where people reside or work in high numbers. Examples include apartment complexes, row houses and commercial/industrial.  Impervious surfaces account for 80 to 100 percent of the total cover.', 'Barren Land (Rock/Sand/Clay) - Barren areas of bedrock, desert pavement, scarps, talus, slides, volcanic material, glacial debris, sand dunes, strip mines, gravel pits and other accumulations of earthen material. Generally, vegetation accounts for less than 15% of total cover.', 'Deciduous Forest  - Areas dominated by trees generally greater than 5 meters tall, and greater than 20% of total vegetation cover. More than 75 percent of the tree species shed foliage simultaneously in response to seasonal change.', 'Evergreen Forest - Areas dominated by trees generally greater than 5 meters tall, and greater than 20% of total vegetation cover. More than 75 percent of the tree species maintain their leaves all year. Canopy is never without green foliage.', 'Mixed Forest - Areas dominated by trees generally greater than 5 meters tall, and greater than 20% of total vegetation cover. Neither deciduous nor evergreen species are greater than 75 percent of total tree cover.', 'Dwarf Scrub - Alaska only areas dominated by shrubs less than 20 centimeters tall with shrub canopy typically greater than 20% of total vegetation. This type is often co-associated with grasses, sedges, herbs, and non-vascular vegetation tundra and may be periodically or seasonally wet and/or saturated with water. This type commonly occurs in alpine or tundra areas and may contain permafrost.', 'Shrub/Scrub - Areas dominated by shrubs less than 5 meters tall with shrub canopy typically greater than 20% of total vegetation. This class includes true shrubs, young trees in an early successional stage or trees stunted from environmental conditions.', 'Grassland/Herbaceous - Areas dominated by grammanoid or herbaceous vegetation, generally greater than 80% of total vegetation.  These areas are not subject to intensive management such as tilling, but can be utilized for grazing.', 'Sedge/Herbaceous - Alaska only areas dominated by sedges and forbs, generally greater than 80% of total vegetation. This type can occur with significant other grasses or other grass like plants, and includes sedge tundra, and sedge tussock tundra and may be periodically or seasonally wet and/or saturated.  This type may contain permafrost.', 'Lichens - Alaska only areas dominated by fruticose or foliose lichens generally greater than 80% of total vegetation.', 'Moss - Alaska only areas dominated by mosses generally greater than 80% of total vegetation.', 'Pasture/Hay - Areas of grasses, legumes, or grass-legume mixtures planted for livestock grazing or the production of seed or hay crops, typically on a perennial cycle. Pasture/hay vegetation accounts for greater than 20 percent of total vegetation.', 'Cultivated Crops - Areas used for the production of annual crops, such as corn, soybeans, vegetables, tobacco, and cotton, and also perennial woody crops such as orchards and vineyards. Crop vegetation accounts for greater than 20 percent of total vegetation. This class also includes all land being actively tilled.', 'Woody Wetlands - Areas where forest or shrub land vegetation accounts for greater than 20 percent of vegetative cover and the soil or substrate is persistently saturated with or covered with water.', 'Emergent Herbaceous Wetlands - Areas where perennial herbaceous vegetation accounts for greater than 80 percent of vegetative cover and the soil or substrate is persistently saturated with or covered with water.'], 'system:time_end': 1483228800000, 'landcover_class_values': [11, 12, 21, 22, 23, 24, 31, 41, 42, 43, 51, 52, 71, 72, 73, 74, 81, 82, 90, 95], 'system:time_start': 1451606400000, 'impervious_descriptor_class_palette': ['ff0000', 'a20000', 'ffff00', 'ffd400', '0000ff', '009edf', 'ffffff', 'ffffff', 'ffc0c8', 'eb82eb', '006100', '00ff00'], 'impervious_descriptor_class_names': ['Primary road in urban area : interstates and other major roads', 'Primary road outside urban area : interstates and other major roads', 'Secondary road in urban area : non-interstate highways', 'Secondary road outside urban area : non-interstate highways', 'Tertiary road in urban area : any two-lane road', 'Tertiary road outside urban area : any two-lane road', 'Thinned road in urban area : small tertiary roads that generally are not paved and have been removed from the landcover but remain as part of the impervious surface product.  These roads have been separated in the western United States so that a better categorization of developed features is represented in the landcover', 'Thinned road outside urban area : small tertiary roads that generally are not paved and have been removed from the landcover but remain as part of the impervious surface product.  These roads have been separated in the western United States so that a better categorization of developed features is represented in the landcover', 'Nonroad impervious surface in urban area', 'Nonroad impervious surface outside urban area', 'Energy production site in urban area : areas identified from the FrackTracker points and classified in coordination with the Landfire project', 'Energy production site outside urban area : areas identified from the FrackTracker points and classified in coordination with the Landfire project'], 'system:asset_size': 20252006345, 'landcover_class_palette': ['476ba1', 'd1defa', 'decaca', 'd99482', 'ee0000', 'ab0000', 'b3aea3', '68ab63', '1c6330', 'b5ca8f', 'a68c30', 'ccba7d', 'e3e3c2', 'caca78', '99c247', '78ae94', 'dcd93d', 'ab7028', 'bad9eb', '70a3ba'], 'system:index': 'NLCD2016'}}\n"
     ]
    }
   ],
   "source": [
    "print(nlcd.getInfo())"
   ]
  },
  {
   "cell_type": "code",
   "execution_count": null,
   "id": "ae90f344",
   "metadata": {},
   "outputs": [],
   "source": [
    "# 获取值对应的颜色\n",
    "class_palette = nlcd.get('landcover_class_palette').getInfo()\n",
    "# class_palette"
   ]
  },
  {
   "cell_type": "code",
   "execution_count": null,
   "id": "4aa45909",
   "metadata": {},
   "outputs": [],
   "source": [
    "# 改变图像对应的属性\n",
    "landcover = result.set('classification_class_values', class_values)\n",
    "landcover = landcover.set('classification_class_palette', class_palette)"
   ]
  },
  {
   "cell_type": "code",
   "execution_count": null,
   "id": "d68f9b65",
   "metadata": {},
   "outputs": [],
   "source": [
    "Map.addLayer(landcover, {}, 'Land cover')\n",
    "Map"
   ]
  },
  {
   "cell_type": "code",
   "execution_count": null,
   "id": "a1400624",
   "metadata": {},
   "outputs": [],
   "source": []
  },
  {
   "cell_type": "code",
   "execution_count": null,
   "id": "776bd3ae",
   "metadata": {},
   "outputs": [],
   "source": []
  },
  {
   "cell_type": "code",
   "execution_count": null,
   "id": "fa48f071",
   "metadata": {},
   "outputs": [],
   "source": []
  },
  {
   "cell_type": "code",
   "execution_count": null,
   "id": "722f3662",
   "metadata": {},
   "outputs": [],
   "source": []
  }
 ],
 "metadata": {
  "kernelspec": {
   "display_name": "Python 3 (ipykernel)",
   "language": "python",
   "name": "python3"
  },
  "language_info": {
   "codemirror_mode": {
    "name": "ipython",
    "version": 3
   },
   "file_extension": ".py",
   "mimetype": "text/x-python",
   "name": "python",
   "nbconvert_exporter": "python",
   "pygments_lexer": "ipython3",
   "version": "3.8.13"
  },
  "toc": {
   "base_numbering": 1,
   "nav_menu": {},
   "number_sections": true,
   "sideBar": true,
   "skip_h1_title": false,
   "title_cell": "Table of Contents",
   "title_sidebar": "Contents",
   "toc_cell": false,
   "toc_position": {},
   "toc_section_display": true,
   "toc_window_display": false
  },
  "varInspector": {
   "cols": {
    "lenName": 16,
    "lenType": 16,
    "lenVar": 40
   },
   "kernels_config": {
    "python": {
     "delete_cmd_postfix": "",
     "delete_cmd_prefix": "del ",
     "library": "var_list.py",
     "varRefreshCmd": "print(var_dic_list())"
    },
    "r": {
     "delete_cmd_postfix": ") ",
     "delete_cmd_prefix": "rm(",
     "library": "var_list.r",
     "varRefreshCmd": "cat(var_dic_list()) "
    }
   },
   "types_to_exclude": [
    "module",
    "function",
    "builtin_function_or_method",
    "instance",
    "_Feature"
   ],
   "window_display": false
  }
 },
 "nbformat": 4,
 "nbformat_minor": 5
}
