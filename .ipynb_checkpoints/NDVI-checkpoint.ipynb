{
 "cells": [
  {
   "cell_type": "code",
   "execution_count": 1,
   "id": "8ed99153-62ee-4c52-a27a-52cb8721522f",
   "metadata": {},
   "outputs": [
    {
     "data": {
      "application/vnd.jupyter.widget-view+json": {
       "model_id": "78c1475a520a4834821e3c15efe82052",
       "version_major": 2,
       "version_minor": 0
      },
      "text/plain": [
       "Map(center=[20, 0], controls=(WidgetControl(options=['position', 'transparent_bg'], widget=HBox(children=(Togg…"
      ]
     },
     "metadata": {},
     "output_type": "display_data"
    }
   ],
   "source": [
    "import geemap\n",
    "import ee\n",
    "import os\n",
    "import calendar\n",
    "import os\n",
    "from tolocal import export_image\n",
    "Map = geemap.Map()\n",
    "Map"
   ]
  },
  {
   "cell_type": "code",
   "execution_count": null,
   "id": "35129ed5-bb3f-4550-a311-34108c0f3155",
   "metadata": {},
   "outputs": [],
   "source": [
    "ndvi_collections = ee.ImageCollection(\"NOAA/CDR/AVHRR/NDVI/V5\") \n",
    "Map.addLayer(ndvi_collections, {}, 'ndvi_collections')\n",
    "\n",
    "word_shp = \"G:/图层/word_shp/word_polygon.shp\"\n",
    "roi = geemap.shp_to_ee(word_shp).geometry()\n",
    "\n",
    "Map.addLayer(roi, {}, 'word')"
   ]
  },
  {
   "cell_type": "code",
   "execution_count": null,
   "id": "cacdad57-f9cd-4d74-a8bf-eee1f4865a37",
   "metadata": {},
   "outputs": [],
   "source": [
    "import datetime\n",
    "def get_date_list(start_date, end_date, format,step):\n",
    "    \"\"\"\n",
    "    根据开始日期、结束日期返回这段时间里所有天的集合\n",
    "    :param start_date: 开始日期(日期格式或者字符串格式)\n",
    "    :param end_date: 结束日期(日期格式或者字符串格式)\n",
    "    :param format: 格式化字符串, 如: '%Y-%m-%d'\n",
    "    :param step: int, 如: (1,8,30)\n",
    "    :return:\n",
    "    \"\"\"\n",
    "    date_list = []\n",
    "    if isinstance(start_date, str) and isinstance(end_date, str):\n",
    "        start_date = datetime.datetime.strptime(start_date, '%Y-%m-%d')\n",
    "        end_date = datetime.datetime.strptime(end_date, '%Y-%m-%d')\n",
    "    date_list.append(start_date.strftime(format))\n",
    "    while start_date < end_date:\n",
    "        start_date += datetime.timedelta(days=step)\n",
    "        date_list.append(start_date.strftime(format))\n",
    "    return date_list"
   ]
  },
  {
   "cell_type": "code",
   "execution_count": null,
   "id": "4d2e2be4",
   "metadata": {},
   "outputs": [],
   "source": [
    "def clip_dow_merge(geo: ee.Geometry, image: ee.Image, outfile: str, scale: int,\n",
    "                   crs='epsg:4326', sep=0.25):\n",
    "    \"\"\"\n",
    "\n",
    "    Args:\n",
    "        geo: ee.Geometry, 需要下载的区域矢量几何\n",
    "        image: ee.Image, 需要下载的影像\n",
    "        outfile: str, 输出文件路径和名称，不需要文件后缀，下载的影响默认后缀为tif\n",
    "        scale: int, 下载时的像元大小\n",
    "        crs: str, 下载影像的投影，默认为 'epsg:4326' wgs1984投影\n",
    "        sep: float, 单波段10m分辨率像元的影像裁剪大小(单位：经纬度)，默认为0.25\n",
    "    Returns: None\n",
    "\n",
    "    \"\"\"\n",
    "    import os\n",
    "    import numpy as np\n",
    "    import rasterio\n",
    "    from glob import glob\n",
    "    from rasterio.merge import merge\n",
    "    import shutil\n",
    "    import geemap\n",
    "    import math\n",
    "    bounds = geo.bounds()\n",
    "    bands = image.bandNames().size().getInfo()\n",
    "    poy = np.array(bounds.coordinates().getInfo()[0])\n",
    "    min_x = poy[:, 0].min()\n",
    "    max_x = poy[:, 0].max()\n",
    "    min_y = poy[:, 1].min()\n",
    "    max_y = poy[:, 1].max()\n",
    "    step = scale / 10 * sep / (int(math.sqrt(bands))+1)\n",
    "    end_x = int((max_x - min_x) / step) + 1\n",
    "    end_y = int((max_y - min_y) / step) + 1\n",
    "    polys = []\n",
    "    for i in range(end_y):\n",
    "        y1 = min_y + step * i\n",
    "        y2 = min_y + step * (i + 1)\n",
    "        if y2 > max_y:\n",
    "            y2 = max_y\n",
    "        for j in range(end_x):\n",
    "            x1 = min_x + step * j\n",
    "            x2 = min_x + step * (j + 1)\n",
    "            if x2 > max_x:\n",
    "                x2 = max_x\n",
    "            poly = ee.Geometry(ee.Geometry.Rectangle([float(x1), float(y1), float(x2), float(y2)]), None, False)\n",
    "            polys.append(poly)\n",
    "    if len(polys) > 1:\n",
    "        print(f\"分割成{len(polys)}份, 开始下载:\")\n",
    "        path = outfile+'_mk'\n",
    "        t = 1\n",
    "        if not os.path.exists(path):\n",
    "            t = 0\n",
    "            os.makedirs(path)\n",
    "        for j, i in enumerate(polys):\n",
    "            if not os.path.exists(path+f'/temp_{j}.tif'):\n",
    "                if t:\n",
    "                    clip_dow_merge(i, image, path + f'/temp_{j}', scale, sep=sep*0.5)\n",
    "                else:\n",
    "                    geemap.ee_export_image(image, path + f'/temp_{j}.tif', scale=scale, crs=crs, region=i)\n",
    "            else:\n",
    "                continue\n",
    "        files = glob(path+\"/*.tif\")\n",
    "        if len(files) == len(polys):\n",
    "            src_files_to_mosaic = []\n",
    "            for tif_f in files:\n",
    "                src = rasterio.open(tif_f)\n",
    "                src_files_to_mosaic.append(src)\n",
    "            mosaic, out_trans = merge(src_files_to_mosaic)\n",
    "            out_meta = src.meta.copy()\n",
    "            out_meta.update({\"driver\": \"GTiff\",\n",
    "                             \"height\": mosaic.shape[1],\n",
    "                             \"width\": mosaic.shape[2],\n",
    "                             \"transform\": out_trans,\n",
    "                             })\n",
    "            with rasterio.open(outfile+\".tif\", \"w\", **out_meta) as dest:\n",
    "                dest.write(mosaic)\n",
    "            for src in src_files_to_mosaic:\n",
    "                src.close()\n",
    "            shutil.rmtree(path)\n",
    "        else:\n",
    "            print('下载不完全！！')\n",
    "    else:\n",
    "        geemap.ee_export_image(image, outfile+'.tif', scale=scale, crs=crs, region=geo)\n",
    "    print(\"download successful !!!\")"
   ]
  },
  {
   "cell_type": "code",
   "execution_count": null,
   "id": "44cabafa-b018-4158-a1e9-380d1fd93886",
   "metadata": {},
   "outputs": [],
   "source": [
    "for year in range(1982,2019):\n",
    "    start_year = str(year) + '-01-01'\n",
    "    end_year = str(year+1) + '-01-01'\n",
    "    year_list = get_date_list(start_year,end_year,'%Y-%m-%d',8)\n",
    "    print(year_list)\n",
    "    for name ,data in enumerate(year_list[:-1]):\n",
    "        start_data = year_list[name]\n",
    "        end_data = year_list[name+ 1]\n",
    "        ndvi_image_8day = ndvi_collections.filterDate(start_data,end_data).select('NDVI')\n",
    "        print(f'{start_data}-{end_data}:{ndvi_image_8day.size().getInfo()}')\n",
    "        if ndvi_image_8day.size().getInfo()==0:\n",
    "            print('ndvi_image_8days is 0, continue---------')\n",
    "            continue\n",
    "        ndvi_8day_mean = ndvi_image_8day.mean().clip(roi)\n",
    "        filename = r'F:\\W_Data\\NDVI' + os.sep + str(year) + start_data + '.tif'\n",
    "        print('filename:  ',filename)\n",
    "#         out_name = 'F:/W_Data/NDVI'+ os.sep + str(year) + start_data \n",
    "#         while not os.path.exists(out_name+'.tif'):\n",
    "#             clip_dow_merge(roi, ndvi_8day_mean, out_name, int(round(ndvi_8day_mean.projection().nominalScale().getInfo())))\n",
    "        try:\n",
    "            geemap.ee_export_image(ndvi_8day_mean, filename = filename, scale=int(round(ndvi_8day_mean.projection().nominalScale().getInfo())),region=roi,file_per_band=False)\n",
    "        except:\n",
    "            geemap.ee_export_image(ndvi_8day_mean, filename = filename, scale=int(round(ndvi_8day_mean.projection().nominalScale().getInfo())),region=roi,file_per_band=False)\n",
    "        print(f'{filename} is ok ')\n",
    "    print(f'{year} is ok ')\n",
    "print('---------all is ok---------------')"
   ]
  },
  {
   "cell_type": "code",
   "execution_count": null,
   "id": "d3095c46-fb8a-4ce1-96c5-d54a6adb596e",
   "metadata": {},
   "outputs": [],
   "source": []
  }
 ],
 "metadata": {
  "kernelspec": {
   "display_name": "Python 3 (ipykernel)",
   "language": "python",
   "name": "python3"
  },
  "language_info": {
   "codemirror_mode": {
    "name": "ipython",
    "version": 3
   },
   "file_extension": ".py",
   "mimetype": "text/x-python",
   "name": "python",
   "nbconvert_exporter": "python",
   "pygments_lexer": "ipython3",
   "version": "3.8.13"
  },
  "toc": {
   "base_numbering": 1,
   "nav_menu": {},
   "number_sections": true,
   "sideBar": true,
   "skip_h1_title": false,
   "title_cell": "Table of Contents",
   "title_sidebar": "Contents",
   "toc_cell": false,
   "toc_position": {},
   "toc_section_display": true,
   "toc_window_display": false
  },
  "varInspector": {
   "cols": {
    "lenName": 16,
    "lenType": 16,
    "lenVar": 40
   },
   "kernels_config": {
    "python": {
     "delete_cmd_postfix": "",
     "delete_cmd_prefix": "del ",
     "library": "var_list.py",
     "varRefreshCmd": "print(var_dic_list())"
    },
    "r": {
     "delete_cmd_postfix": ") ",
     "delete_cmd_prefix": "rm(",
     "library": "var_list.r",
     "varRefreshCmd": "cat(var_dic_list()) "
    }
   },
   "types_to_exclude": [
    "module",
    "function",
    "builtin_function_or_method",
    "instance",
    "_Feature"
   ],
   "window_display": false
  }
 },
 "nbformat": 4,
 "nbformat_minor": 5
}
