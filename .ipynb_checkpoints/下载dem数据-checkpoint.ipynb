{
 "cells": [
  {
   "cell_type": "code",
   "execution_count": 1,
   "id": "0d6ecfc3",
   "metadata": {
    "ExecuteTime": {
     "end_time": "2022-09-02T03:22:12.754299Z",
     "start_time": "2022-09-02T03:21:44.523849Z"
    },
    "scrolled": false
   },
   "outputs": [
    {
     "data": {
      "application/vnd.jupyter.widget-view+json": {
       "model_id": "2543a53c731d4cc1a18b02ee34a7f587",
       "version_major": 2,
       "version_minor": 0
      },
      "text/plain": [
       "Map(center=[29, 85], controls=(WidgetControl(options=['position', 'transparent_bg'], widget=HBox(children=(Tog…"
      ]
     },
     "metadata": {},
     "output_type": "display_data"
    }
   ],
   "source": [
    "import geemap\n",
    "import ee\n",
    "\n",
    "Map = geemap.Map(center=(29, 85))\n",
    "Map"
   ]
  },
  {
   "cell_type": "code",
   "execution_count": 2,
   "id": "18545bc9",
   "metadata": {
    "ExecuteTime": {
     "end_time": "2022-09-02T03:26:05.792326Z",
     "start_time": "2022-09-02T03:26:05.776322Z"
    }
   },
   "outputs": [],
   "source": [
    "roi = Map.draw_last_feature.geometry()"
   ]
  },
  {
   "cell_type": "code",
   "execution_count": 3,
   "id": "54614317",
   "metadata": {
    "ExecuteTime": {
     "end_time": "2022-09-02T03:28:19.186811Z",
     "start_time": "2022-09-02T03:28:14.458463Z"
    }
   },
   "outputs": [],
   "source": [
    "dem_img = ee.Image(\"NASA/NASADEM_HGT/001\").clip(roi)\n",
    "Map.addLayer(dem_img, {}, 'eleva')"
   ]
  },
  {
   "cell_type": "code",
   "execution_count": null,
   "id": "db510ce5",
   "metadata": {
    "ExecuteTime": {
     "end_time": "2022-09-02T03:10:15.783390Z",
     "start_time": "2022-09-02T03:10:15.757084Z"
    },
    "code_folding": [
     0
    ]
   },
   "outputs": [],
   "source": [
    "def clip_dow_merge(geo: ee.Geometry, image: ee.Image, outfile: str, scale: int,\n",
    "                   crs='epsg:4326', sep=0.25):\n",
    "    \"\"\"\n",
    "\n",
    "    Args:\n",
    "        geo: ee.Geometry, 需要下载的区域矢量几何\n",
    "        image: ee.Image, 需要下载的影像\n",
    "        outfile: str, 输出文件路径和名称，不需要文件后缀，下载的影响默认后缀为tif\n",
    "        scale: int, 下载时的像元大小\n",
    "        crs: str, 下载影像的投影，默认为 'epsg:4326' wgs1984投影\n",
    "        sep: float, 单波段10m分辨率像元的影像裁剪大小(单位：经纬度)，默认为0.25\n",
    "    Returns: None\n",
    "\n",
    "    \"\"\"\n",
    "    import os\n",
    "    import numpy as np\n",
    "    import rasterio\n",
    "    from glob import glob\n",
    "    from rasterio.merge import merge\n",
    "    import shutil\n",
    "    import geemap\n",
    "    import math\n",
    "    bounds = geo.bounds()\n",
    "    bands = image.bandNames().size().getInfo()\n",
    "    poy = np.array(bounds.coordinates().getInfo()[0])\n",
    "    min_x = poy[:, 0].min()\n",
    "    max_x = poy[:, 0].max()\n",
    "    min_y = poy[:, 1].min()\n",
    "    max_y = poy[:, 1].max()\n",
    "    step = scale / 10 * sep / (int(math.sqrt(bands))+1)\n",
    "    end_x = int((max_x - min_x) / step) + 1\n",
    "    end_y = int((max_y - min_y) / step) + 1\n",
    "    polys = []\n",
    "    for i in range(end_y):\n",
    "        y1 = min_y + step * i\n",
    "        y2 = min_y + step * (i + 1)\n",
    "        if y2 > max_y:\n",
    "            y2 = max_y\n",
    "        for j in range(end_x):\n",
    "            x1 = min_x + step * j\n",
    "            x2 = min_x + step * (j + 1)\n",
    "            if x2 > max_x:\n",
    "                x2 = max_x\n",
    "            poly = ee.Geometry(ee.Geometry.Rectangle([float(x1), float(y1), float(x2), float(y2)]), None, False)\n",
    "            polys.append(poly)\n",
    "    if len(polys) > 1:\n",
    "        print(f\"分割成{len(polys)}份, 开始下载:\")\n",
    "        path = outfile+'_mk'\n",
    "        t = 1\n",
    "        if not os.path.exists(path):\n",
    "            t = 0\n",
    "            os.makedirs(path)\n",
    "        for j, i in enumerate(polys):\n",
    "            if not os.path.exists(path+f'/temp_{j}.tif'):\n",
    "                if t:\n",
    "                    clip_dow_merge(i, image, path + f'/temp_{j}', scale, sep=sep*0.5)\n",
    "                else:\n",
    "                    geemap.ee_export_image(image, path + f'/temp_{j}.tif', scale=scale, crs=crs, region=i)\n",
    "            else:\n",
    "                continue\n",
    "        files = glob(path+\"/*.tif\")\n",
    "        if len(files) == len(polys):\n",
    "            src_files_to_mosaic = []\n",
    "            for tif_f in files:\n",
    "                src = rasterio.open(tif_f)\n",
    "                src_files_to_mosaic.append(src)\n",
    "            mosaic, out_trans = merge(src_files_to_mosaic)\n",
    "            out_meta = src.meta.copy()\n",
    "            out_meta.update({\"driver\": \"GTiff\",\n",
    "                             \"height\": mosaic.shape[1],\n",
    "                             \"width\": mosaic.shape[2],\n",
    "                             \"transform\": out_trans,\n",
    "                             })\n",
    "            with rasterio.open(outfile+\".tif\", \"w\", **out_meta) as dest:\n",
    "                dest.write(mosaic)\n",
    "            for src in src_files_to_mosaic:\n",
    "                src.close()\n",
    "            shutil.rmtree(path)\n",
    "        else:\n",
    "            print('下载不完全！！')\n",
    "    else:\n",
    "        geemap.ee_export_image(image, outfile+'.tif', scale=scale, crs=crs, region=geo)\n",
    "    print(\"download successful !!!\")"
   ]
  },
  {
   "cell_type": "code",
   "execution_count": null,
   "id": "2d93ae02",
   "metadata": {
    "ExecuteTime": {
     "end_time": "2022-09-02T03:10:28.720439Z",
     "start_time": "2022-09-02T03:10:18.260644Z"
    },
    "jupyter": {
     "outputs_hidden": true
    },
    "scrolled": true
   },
   "outputs": [],
   "source": [
    "import os\n",
    "out_name = r'E:\\流域\\dem/QH_DEM_30m'\n",
    "while not os.path.exists(out_name + '.tif'):\n",
    "    clip_dow_merge(roi, dem_img.clip(roi), out_name, 30)"
   ]
  },
  {
   "cell_type": "code",
   "execution_count": null,
   "id": "c4c72c78",
   "metadata": {},
   "outputs": [],
   "source": [
    "#geemap.ee_export_image(dem_img, filename=f, scale=90, region=roi, file_per_band=False)   #将影像导出自本地文件夹，不分离波段"
   ]
  },
  {
   "cell_type": "code",
   "execution_count": 5,
   "id": "f963685e",
   "metadata": {
    "ExecuteTime": {
     "end_time": "2022-09-02T04:09:40.131596Z",
     "start_time": "2022-09-02T04:09:33.439606Z"
    }
   },
   "outputs": [
    {
     "name": "stdout",
     "output_type": "stream",
     "text": [
      "Exporting QH_DEM_30m ...\n"
     ]
    }
   ],
   "source": [
    "geemap.ee_export_image_to_drive(dem_img,description = 'QH_DEM_30m' ,crs =  \"EPSG:4326\",scale =  30,region =  roi,folder='竞赛')"
   ]
  },
  {
   "cell_type": "code",
   "execution_count": null,
   "id": "5eba0269",
   "metadata": {},
   "outputs": [],
   "source": []
  }
 ],
 "metadata": {
  "kernelspec": {
   "display_name": "Python 3 (ipykernel)",
   "language": "python",
   "name": "python3"
  },
  "language_info": {
   "codemirror_mode": {
    "name": "ipython",
    "version": 3
   },
   "file_extension": ".py",
   "mimetype": "text/x-python",
   "name": "python",
   "nbconvert_exporter": "python",
   "pygments_lexer": "ipython3",
   "version": "3.8.13"
  },
  "toc": {
   "base_numbering": 1,
   "nav_menu": {},
   "number_sections": true,
   "sideBar": true,
   "skip_h1_title": false,
   "title_cell": "Table of Contents",
   "title_sidebar": "Contents",
   "toc_cell": false,
   "toc_position": {},
   "toc_section_display": true,
   "toc_window_display": false
  },
  "varInspector": {
   "cols": {
    "lenName": 16,
    "lenType": 16,
    "lenVar": 40
   },
   "kernels_config": {
    "python": {
     "delete_cmd_postfix": "",
     "delete_cmd_prefix": "del ",
     "library": "var_list.py",
     "varRefreshCmd": "print(var_dic_list())"
    },
    "r": {
     "delete_cmd_postfix": ") ",
     "delete_cmd_prefix": "rm(",
     "library": "var_list.r",
     "varRefreshCmd": "cat(var_dic_list()) "
    }
   },
   "types_to_exclude": [
    "module",
    "function",
    "builtin_function_or_method",
    "instance",
    "_Feature"
   ],
   "window_display": false
  }
 },
 "nbformat": 4,
 "nbformat_minor": 5
}
