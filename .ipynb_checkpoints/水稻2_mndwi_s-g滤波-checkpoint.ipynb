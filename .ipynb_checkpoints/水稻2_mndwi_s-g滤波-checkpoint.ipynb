{
 "cells": [
  {
   "cell_type": "code",
   "execution_count": 1,
   "id": "a2ce9d13",
   "metadata": {},
   "outputs": [
    {
     "data": {
      "application/vnd.jupyter.widget-view+json": {
       "model_id": "b14b237e81bc409db1b551a9e46ee556",
       "version_major": 2,
       "version_minor": 0
      },
      "text/plain": [
       "Map(center=[40, -100], controls=(WidgetControl(options=['position', 'transparent_bg'], widget=HBox(children=(T…"
      ]
     },
     "metadata": {},
     "output_type": "display_data"
    }
   ],
   "source": [
    "import geemap\n",
    "import ee\n",
    "ee.Initialize()\n",
    "reducer = ee.Reducer.mean()\n",
    "Map = geemap.Map()\n",
    "Map"
   ]
  },
  {
   "cell_type": "code",
   "execution_count": 6,
   "id": "62924d26",
   "metadata": {},
   "outputs": [],
   "source": [
    "'''添加矢量数据'''\n",
    "\n",
    "duchang_shp = \"D:\\水稻有关数据\\都昌矢量数据\\都昌矢量数据.shp\"\n",
    "duchang = geemap.shp_to_ee(duchang_shp)\n",
    "Map.addLayer(duchang, {}, 'duchang')\n",
    "Map.centerObject(duchang, zoom=10)\n",
    "roi = duchang.geometry()  #获取矢量的范围"
   ]
  },
  {
   "cell_type": "code",
   "execution_count": 7,
   "id": "ce2c7c18",
   "metadata": {},
   "outputs": [],
   "source": [
    "def clipp(image):\n",
    "     return image.clip(roi)"
   ]
  },
  {
   "cell_type": "code",
   "execution_count": 8,
   "id": "e3c18597",
   "metadata": {},
   "outputs": [],
   "source": [
    "'''添加影像集'''\n",
    "\n",
    "evi_collections = ee.ImageCollection(\"LANDSAT/LE07/C01/T1_8DAY_EVI\").filterDate('2000-01-01','2020-12-31').filterBounds(roi).map(clipp)\n",
    "\n",
    "mndwi_collections = ee.ImageCollection(\"LANDSAT/LE07/C01/T1_8DAY_NDWI\").filterDate('2000-01-01','2020-12-31').filterBounds(roi).map(clipp)"
   ]
  },
  {
   "cell_type": "code",
   "execution_count": 9,
   "id": "37b74685",
   "metadata": {},
   "outputs": [],
   "source": [
    "#利用日期差异为SG拟合添加预测因子\n",
    "#我们准备3个订单的配合，但是以后可以适应较低订单的配合\n",
    "def func_way(img):\n",
    "    dstamp = ee.Date(img.get('system:time_start'))\n",
    "    ddiff = dstamp.difference(ee.Date('2000-01-01'), 'hour')\n",
    "    img = img.select(['EVI']).set('date', dstamp)\n",
    "    return img.addBands(ee.Image(1).toFloat().rename('constant')).\\\n",
    "    addBands(ee.Image(ddiff).toFloat().rename('t')).\\\n",
    "    addBands(ee.Image(ddiff).pow(ee.Image(2)).toFloat().rename('t2')).\\\n",
    "    addBands(ee.Image(ddiff).pow(ee.Image(3)).toFloat().rename('t3'))\n",
    "\n",
    "evi_res = evi_collections.map(func_way)"
   ]
  },
  {
   "cell_type": "code",
   "execution_count": 10,
   "id": "66e1b795",
   "metadata": {},
   "outputs": [],
   "source": [
    "window_size = 9\n",
    "half_window = (window_size - 1)/2\n",
    "imageAxis = 0\n",
    "bandAxis = 1\n",
    "order = 3\n",
    "coeffFlattener = [['constant', 'x', 'x2', 'x3']]\n",
    "indepSelectors = ['constant', 't', 't2', 't3']"
   ]
  },
  {
   "cell_type": "code",
   "execution_count": 11,
   "id": "35c0ef04",
   "metadata": {},
   "outputs": [],
   "source": [
    "array = evi_res.toArray()"
   ]
  },
  {
   "cell_type": "code",
   "execution_count": 12,
   "id": "c195bc9a",
   "metadata": {},
   "outputs": [],
   "source": [
    "def getLocalFit(i):\n",
    "    #获取与SG平滑器的window_size相对应的切片\n",
    "    subarray = array.arraySlice(imageAxis, ee.Number(i).int(), ee.Number(i).add(window_size).int())\n",
    "    predictors = subarray.arraySlice(bandAxis, 2, 2 + order + 1)\n",
    "    response = subarray.arraySlice(bandAxis, 0, 1)\n",
    "    coeff = predictors.matrixSolve(response)\n",
    "    coeff = coeff.arrayProject([0]).arrayFlatten(coeffFlattener)\n",
    "    return coeff"
   ]
  },
  {
   "cell_type": "code",
   "execution_count": 13,
   "id": "32b3dc88",
   "metadata": {},
   "outputs": [],
   "source": [
    "#对于其余部分，使用modis_res作为图像列表\n",
    "evi_res = evi_res.toList(evi_res.size())\n",
    "runLength = ee.List.sequence(0, evi_res.size().subtract(window_size))"
   ]
  },
  {
   "cell_type": "code",
   "execution_count": 14,
   "id": "329574e6",
   "metadata": {},
   "outputs": [],
   "source": [
    "#对该级数运行SG求解器，并返回平滑后的图像版本\n",
    "def func_whq(i):\n",
    "    ref = ee.Image(evi_res.get(ee.Number(i).add(half_window)))\n",
    "    return getLocalFit(i).multiply(ref.select(indepSelectors)).reduce(ee.Reducer.sum()).copyProperties(ref)\n",
    "\n",
    "sg_series = runLength.map(func_whq)"
   ]
  },
  {
   "cell_type": "code",
   "execution_count": 15,
   "id": "3f603837",
   "metadata": {},
   "outputs": [],
   "source": [
    "#添加图像层到地图并显示它。\n",
    "Map.addLayer(evi_collections, {'min': -1, 'max': 1}, 'evi')\n",
    "Map.addLayer(mndwi_collections, {'min': -1, 'max': 1}, 'mndwi')\n",
    "#Map.addLayer(sg_series), {'min': -1, 'max': 1}, 'sg_evi')"
   ]
  },
  {
   "cell_type": "code",
   "execution_count": null,
   "id": "d2d217bc",
   "metadata": {},
   "outputs": [],
   "source": []
  }
 ],
 "metadata": {
  "kernelspec": {
   "display_name": "Python 3 (ipykernel)",
   "language": "python",
   "name": "python3"
  },
  "language_info": {
   "codemirror_mode": {
    "name": "ipython",
    "version": 3
   },
   "file_extension": ".py",
   "mimetype": "text/x-python",
   "name": "python",
   "nbconvert_exporter": "python",
   "pygments_lexer": "ipython3",
   "version": "3.8.13"
  },
  "toc": {
   "base_numbering": 1,
   "nav_menu": {},
   "number_sections": true,
   "sideBar": true,
   "skip_h1_title": false,
   "title_cell": "Table of Contents",
   "title_sidebar": "Contents",
   "toc_cell": false,
   "toc_position": {},
   "toc_section_display": true,
   "toc_window_display": false
  },
  "varInspector": {
   "cols": {
    "lenName": 16,
    "lenType": 16,
    "lenVar": 40
   },
   "kernels_config": {
    "python": {
     "delete_cmd_postfix": "",
     "delete_cmd_prefix": "del ",
     "library": "var_list.py",
     "varRefreshCmd": "print(var_dic_list())"
    },
    "r": {
     "delete_cmd_postfix": ") ",
     "delete_cmd_prefix": "rm(",
     "library": "var_list.r",
     "varRefreshCmd": "cat(var_dic_list()) "
    }
   },
   "types_to_exclude": [
    "module",
    "function",
    "builtin_function_or_method",
    "instance",
    "_Feature"
   ],
   "window_display": false
  }
 },
 "nbformat": 4,
 "nbformat_minor": 5
}
