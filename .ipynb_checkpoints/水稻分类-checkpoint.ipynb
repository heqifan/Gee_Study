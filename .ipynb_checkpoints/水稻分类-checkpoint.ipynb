{
 "cells": [
  {
   "cell_type": "code",
   "execution_count": 1,
   "id": "49e68e64",
   "metadata": {
    "ExecuteTime": {
     "end_time": "2022-08-24T13:47:31.597662Z",
     "start_time": "2022-08-24T13:47:25.113143Z"
    }
   },
   "outputs": [
    {
     "data": {
      "application/vnd.jupyter.widget-view+json": {
       "model_id": "47f5536414714e7f82a2f870f587895e",
       "version_major": 2,
       "version_minor": 0
      },
      "text/plain": [
       "Map(center=[20, 0], controls=(WidgetControl(options=['position', 'transparent_bg'], widget=HBox(children=(Togg…"
      ]
     },
     "metadata": {},
     "output_type": "display_data"
    }
   ],
   "source": [
    "#导入各种需要的库\n",
    "#导入各种需要的库\n",
    "import geemap\n",
    "import ee\n",
    "Map = geemap.Map()\n",
    "from IPython.display import Image\n",
    "import PySimpleGUI as sg\n",
    "from tqdm.notebook import tqdm\n",
    "from time import sleep\n",
    "import csv\n",
    "import logging\n",
    "logging.basicConfig(\n",
    "    level=logging.INFO,\n",
    "    format=\"%(asctime)s [*] %(processName)s %(message)s\"\n",
    ")\n",
    "Map"
   ]
  },
  {
   "cell_type": "code",
   "execution_count": 6,
   "id": "3c818c6f",
   "metadata": {
    "ExecuteTime": {
     "end_time": "2022-08-24T14:20:11.746538Z",
     "start_time": "2022-08-24T14:20:11.717532Z"
    }
   },
   "outputs": [],
   "source": [
    "js_snippet = \"\"\"\n",
    "\n",
    "var split = 0.8; \n",
    "var trainingPartition = withRandom.filter(ee.Filter.lt('random', split));\n",
    "var validationPartition = withRandom.filter(ee.Filter.gte('random', split));\n",
    "\n",
    "// train the RF classification model\n",
    "var classifier = ee.Classifier.smileRandomForest(100)\n",
    "    .train({\n",
    "      features: trainingPartition, \n",
    "      classProperty: 'crop', \n",
    "      inputProperties: bands\n",
    "    });\n",
    "\n",
    "// Classify the input imagery.\n",
    "var classified = image_com.classify(classifier);\n",
    "\"\"\"\n",
    "geemap.js_snippet_to_py(\n",
    "    js_snippet, add_new_cell=True, import_ee=True, import_geemap=True, show_map=True\n",
    ")"
   ]
  },
  {
   "cell_type": "code",
   "execution_count": null,
   "id": "3cc3e2a8",
   "metadata": {},
   "outputs": [],
   "source": [
    "\n"
   ]
  },
  {
   "cell_type": "code",
   "execution_count": null,
   "id": "cd1cb59a",
   "metadata": {},
   "outputs": [],
   "source": [
    "# Assign a common name to the sensor-specific bands.\n",
    "LC8_BANDS = ['B2',   'B3',    'B4',  'B5',  'B6',    'B7']; #Landsat 8\n",
    "S2_BANDS  = ['B2',   'B3',    'B4',  'B8',  'B11',   'B12']; # Sentinel-2\n",
    "STD_NAMES = ['blue', 'green', 'red', 'nir', 'swir1', 'swir2']\n",
    "# landsat 8\n",
    "l8 = ee.ImageCollection('LANDSAT/LC08/C01/T1_SR') \\\n",
    "           .filterBounds(roi) \\\n",
    "           .filterDate('2021-04-01','2021-08-01') \\\n",
    "           .map(rmL8Cloud) \\\n",
    "           .select(LC8_BANDS, STD_NAMES)\n",
    "\n",
    "S2Col = ee.ImageCollection('COPERNICUS/S2') \\\n",
    "                .filterDate('2021-04-01', '2021-08-01') \\\n",
    "                .filterBounds(roi) \\\n",
    "                .map(rmS2cloud) \\\n",
    "                .select(S2_BANDS,STD_NAMES)\n",
    "\n",
    "merged_L8S2 = ee.ImageCollection(l8.merge(S2Col)) \\\n",
    "                    .sort(\"system:time_start\")\n",
    "\n",
    "# generate the monthly composite\n",
    "\n",
    "def func_ash(n):\n",
    "    start = ee.Date('2021-04-01').advance(n, 'month')\n",
    "    end = start.advance(1, 'month')\n",
    "    return merged_L8S2.filterDate(start, end).median().clip(roi)\n",
    "\n",
    "monthcomposite = ee.List.sequence(0, 1*2).map(func_ash).flatten()\n"
   ]
  },
  {
   "cell_type": "code",
   "execution_count": null,
   "id": "5f81b39c",
   "metadata": {
    "code_folding": [
     21
    ]
   },
   "outputs": [],
   "source": [
    "\n",
    "\n",
    "def func_euz(img)\n",
    "    return img.clip(roi)\n",
    "\n",
    "def mosaicByDate(imcol):\n",
    "  # convert the ImageCollection into List\n",
    "    imlist = imcol.toList(imcol.size())\n",
    "\n",
    "    # Obtain the distinct image dates from the ImageCollection\n",
    "\n",
    "    def func_kef(im):\n",
    "        return ee.Image(im).date().format(\"YYYY-MM-dd\")\n",
    "\n",
    "    unique_dates = imlist.map(func_kef).distinct()   #删除重复的影像\n",
    "\n",
    "\n",
    "  # mosaic the images acquired on the same date\n",
    "\n",
    "    def func_wme(d):\n",
    "        d = ee.Date(d)\n",
    "        im = imcol.filterDate(d, d.advance(1, \"day\")).mosaic()  \n",
    "        return im.set(\"system:time_start\", d.millis(),\"system:id\", d.format(\"YYYY-MM-dd\"))\n",
    "\n",
    "    \n",
    "    mosaic_imlist = unique_dates.map(func_wme)\n",
    "\n",
    "    return ee.ImageCollection(mosaic_imlist)\n",
    "# Get the VH collection.\n",
    "collectionVH =  ee.ImageCollection('COPERNICUS/S1_GRD') \\\n",
    "                      .filter(ee.Filter.eq('instrumentMode', 'IW')) \\\n",
    "                      .filter(ee.Filter.listContains('transmitterReceiverPolarisation', 'VV')) \\\n",
    "                      .select(['VH']) \\\n",
    "                      .filterBounds(roi) \\\n",
    "                      .filterDate('2021-04-01', '2021-08-01')\n",
    "\n",
    "collectionVH = collectionVH.map(func_euz)\n",
    "\n",
    "collectionVH_Mosaiced = mosaicByDate(collectionVH)\n",
    "\n"
   ]
  },
  {
   "cell_type": "code",
   "execution_count": 5,
   "id": "cb189de4",
   "metadata": {
    "ExecuteTime": {
     "end_time": "2022-08-24T14:17:02.152837Z",
     "start_time": "2022-08-24T14:16:59.228886Z"
    }
   },
   "outputs": [
    {
     "name": "stdout",
     "output_type": "stream",
     "text": [
      "{'type': 'Date', 'value': 1593608400000} The base date/time\n",
      "{'type': 'Date', 'value': 1594213200000} +1 week\n",
      "{'type': 'Date', 'value': 1656680400000} +2 years\n",
      "{'type': 'Date', 'value': 1593608399000} -1 second\n"
     ]
    }
   ],
   "source": [
    "#Defines a base date/time for the following examples.\n",
    "BASE_DATE = ee.Date('2020-7-1T13:00', 'UTC')\n",
    "print(BASE_DATE.getInfo(), 'The base date/time')\n",
    "\n",
    "# Demonstrates basic usage.\n",
    "print(BASE_DATE.advance(1, 'week').getInfo(), '+1 week')\n",
    "print(BASE_DATE.advance(2, 'years').getInfo(), '+2 years')\n",
    "\n",
    "#Demonstrates that negative delta moves back in time.\n",
    "print(BASE_DATE.advance(-1, 'second').getInfo(), '-1 second')"
   ]
  },
  {
   "cell_type": "code",
   "execution_count": null,
   "id": "7753f799",
   "metadata": {},
   "outputs": [],
   "source": [
    "\n",
    "\n",
    "split = 0.8\n",
    "trainingPartition = withRandom.filter(ee.Filter.lt('random', split))\n",
    "validationPartition = withRandom.filter(ee.Filter.gte('random', split))\n",
    "\n",
    "\n",
    "classifier = ee.Classifier.smileRandomForest(100) \\\n",
    "    .train({\n",
    "      'features': trainingPartition,\n",
    "      'classProperty': 'crop',\n",
    "      'inputProperties': bands\n",
    "    })\n",
    "\n",
    "# Classify the input imagery.\n",
    "classified = image_com.classify(classifier)"
   ]
  },
  {
   "cell_type": "code",
   "execution_count": null,
   "id": "6ab6031c",
   "metadata": {},
   "outputs": [],
   "source": []
  }
 ],
 "metadata": {
  "kernelspec": {
   "display_name": "Python 3 (ipykernel)",
   "language": "python",
   "name": "python3"
  },
  "language_info": {
   "codemirror_mode": {
    "name": "ipython",
    "version": 3
   },
   "file_extension": ".py",
   "mimetype": "text/x-python",
   "name": "python",
   "nbconvert_exporter": "python",
   "pygments_lexer": "ipython3",
   "version": "3.8.13"
  },
  "toc": {
   "base_numbering": 1,
   "nav_menu": {},
   "number_sections": true,
   "sideBar": true,
   "skip_h1_title": false,
   "title_cell": "Table of Contents",
   "title_sidebar": "Contents",
   "toc_cell": false,
   "toc_position": {},
   "toc_section_display": true,
   "toc_window_display": false
  },
  "varInspector": {
   "cols": {
    "lenName": 16,
    "lenType": 16,
    "lenVar": 40
   },
   "kernels_config": {
    "python": {
     "delete_cmd_postfix": "",
     "delete_cmd_prefix": "del ",
     "library": "var_list.py",
     "varRefreshCmd": "print(var_dic_list())"
    },
    "r": {
     "delete_cmd_postfix": ") ",
     "delete_cmd_prefix": "rm(",
     "library": "var_list.r",
     "varRefreshCmd": "cat(var_dic_list()) "
    }
   },
   "types_to_exclude": [
    "module",
    "function",
    "builtin_function_or_method",
    "instance",
    "_Feature"
   ],
   "window_display": false
  }
 },
 "nbformat": 4,
 "nbformat_minor": 5
}
