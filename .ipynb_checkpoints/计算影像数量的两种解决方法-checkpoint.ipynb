{
 "cells": [
  {
   "cell_type": "code",
   "execution_count": 10,
   "id": "4668be10",
   "metadata": {
    "ExecuteTime": {
     "end_time": "2022-08-24T02:29:48.485038Z",
     "start_time": "2022-08-24T02:29:48.256986Z"
    }
   },
   "outputs": [
    {
     "data": {
      "application/vnd.jupyter.widget-view+json": {
       "model_id": "1f202ddc54a24d9dac751701385a89bc",
       "version_major": 2,
       "version_minor": 0
      },
      "text/plain": [
       "Map(center=[20, 0], controls=(WidgetControl(options=['position', 'transparent_bg'], widget=HBox(children=(Togg…"
      ]
     },
     "metadata": {},
     "output_type": "display_data"
    }
   ],
   "source": [
    "#导入各种需要的库\n",
    "import geemap\n",
    "import ee\n",
    "Map = geemap.Map()\n",
    "from IPython.display import Image\n",
    "import PySimpleGUI as sg\n",
    "from tqdm.notebook import tqdm\n",
    "from time import sleep\n",
    "import csv\n",
    "import logging\n",
    "logging.basicConfig(\n",
    "    level=logging.INFO,\n",
    "    format=\"%(asctime)s [*] %(processName)s %(message)s\"\n",
    ")\n",
    "Map"
   ]
  },
  {
   "cell_type": "code",
   "execution_count": 11,
   "id": "3133533f",
   "metadata": {
    "ExecuteTime": {
     "end_time": "2022-08-24T02:30:01.867244Z",
     "start_time": "2022-08-24T02:29:51.889350Z"
    }
   },
   "outputs": [
    {
     "name": "stdout",
     "output_type": "stream",
     "text": [
      "imgSize 1016\n"
     ]
    }
   ],
   "source": [
    "\n",
    "\n",
    "# set study area\n",
    "Ukraine = ee.FeatureCollection(\"FAO/GAUL/2015/level0\") \\\n",
    "                .filter(ee.Filter.eq('ADM0_NAME','Ukraine'))\n",
    "roi = Ukraine\n",
    "Map.addLayer(roi, {'color':'grey'}, 'studyArea')\n",
    "Map.centerObject(roi)\n",
    "\n",
    "year_start = 2020\n",
    "year_end = 2020\n",
    "\n",
    "imgCol = ee.ImageCollection(\"LANDSAT/LC08/C01/T1_SR\") \\\n",
    "              .filterBounds(roi) \\\n",
    "              .filter(ee.Filter.calendarRange(year_start, year_end,'year'))\n",
    "\n",
    "# compute the image total size\n",
    "imgSize = imgCol.size()\n",
    "print(\"imgSize\",imgSize.getInfo()); # result is 1016\n",
    "\n",
    "#****************************************************************\n",
    "# compute the image avaibility. There are several ways to achieve that.\n",
    "# '1': use the count function\n",
    "# '2': use the sum function\n",
    "##################################################################\n",
    "imgCount_V1 = imgCol.select(\"B1\").count().clip(roi)\n",
    "\n",
    "def func_sqx(img):\n",
    "    return img.multiply(0).add(1).toInt()\n",
    "\n",
    "imgCount_V2= imgCol.select(\"B1\").map(func_sqx).sum().clip(roi)\n",
    "\n",
    "# define image render parameters\n",
    "visParam = {\n",
    " 'min': 10,\n",
    " 'max': 40,\n",
    " 'palette': 'FFFFFF, CE7E45, DF923D, F1B555, FCD163, 99B718, 74A901, 66A000, 529400,' + \\\n",
    "   '3E8601, 207401, 056201, 004C00, 023B01, 012E01, 011D01, 011301'\n",
    "}\n",
    "\n",
    "Map.addLayer(imgCount_V1,visParam,\"imgCount_V1\")\n",
    "Map.addLayer(imgCount_V2,visParam,\"imgCount_V2\")\n"
   ]
  },
  {
   "cell_type": "code",
   "execution_count": null,
   "id": "cde6a716",
   "metadata": {},
   "outputs": [],
   "source": []
  }
 ],
 "metadata": {
  "kernelspec": {
   "display_name": "Python 3 (ipykernel)",
   "language": "python",
   "name": "python3"
  },
  "language_info": {
   "codemirror_mode": {
    "name": "ipython",
    "version": 3
   },
   "file_extension": ".py",
   "mimetype": "text/x-python",
   "name": "python",
   "nbconvert_exporter": "python",
   "pygments_lexer": "ipython3",
   "version": "3.8.13"
  },
  "toc": {
   "base_numbering": 1,
   "nav_menu": {},
   "number_sections": true,
   "sideBar": true,
   "skip_h1_title": false,
   "title_cell": "Table of Contents",
   "title_sidebar": "Contents",
   "toc_cell": false,
   "toc_position": {},
   "toc_section_display": true,
   "toc_window_display": false
  },
  "varInspector": {
   "cols": {
    "lenName": 16,
    "lenType": 16,
    "lenVar": 40
   },
   "kernels_config": {
    "python": {
     "delete_cmd_postfix": "",
     "delete_cmd_prefix": "del ",
     "library": "var_list.py",
     "varRefreshCmd": "print(var_dic_list())"
    },
    "r": {
     "delete_cmd_postfix": ") ",
     "delete_cmd_prefix": "rm(",
     "library": "var_list.r",
     "varRefreshCmd": "cat(var_dic_list()) "
    }
   },
   "types_to_exclude": [
    "module",
    "function",
    "builtin_function_or_method",
    "instance",
    "_Feature"
   ],
   "window_display": false
  }
 },
 "nbformat": 4,
 "nbformat_minor": 5
}
