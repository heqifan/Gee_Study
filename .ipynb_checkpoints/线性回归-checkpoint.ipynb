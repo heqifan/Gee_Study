{
 "cells": [
  {
   "cell_type": "code",
   "execution_count": 2,
   "id": "a485c5ac",
   "metadata": {
    "ExecuteTime": {
     "end_time": "2022-08-24T07:58:39.658471Z",
     "start_time": "2022-08-24T07:58:33.652106Z"
    }
   },
   "outputs": [
    {
     "data": {
      "application/vnd.jupyter.widget-view+json": {
       "model_id": "cd7e409b00524a0fb3c0cb1a4344ba74",
       "version_major": 2,
       "version_minor": 0
      },
      "text/plain": [
       "Map(center=[20, 0], controls=(WidgetControl(options=['position', 'transparent_bg'], widget=HBox(children=(Togg…"
      ]
     },
     "metadata": {},
     "output_type": "display_data"
    }
   ],
   "source": [
    "#导入各种需要的库\n",
    "#导入各种需要的库\n",
    "import geemap\n",
    "import ee\n",
    "Map = geemap.Map()\n",
    "from IPython.display import Image\n",
    "import PySimpleGUI as sg\n",
    "from tqdm.notebook import tqdm\n",
    "from time import sleep\n",
    "import csv\n",
    "import logging\n",
    "logging.basicConfig(\n",
    "    level=logging.INFO,\n",
    "    format=\"%(asctime)s [*] %(processName)s %(message)s\"\n",
    ")\n",
    "Map"
   ]
  },
  {
   "cell_type": "code",
   "execution_count": 3,
   "id": "b836b365",
   "metadata": {
    "ExecuteTime": {
     "end_time": "2022-08-24T07:58:43.405498Z",
     "start_time": "2022-08-24T07:58:43.387494Z"
    }
   },
   "outputs": [],
   "source": [
    "js_snippet = \"\"\"\n",
    "// Define a rectangle geometry around San Francisco.\n",
    "var roi = ee.Geometry.Rectangle([-122.45, 37.74, -122.4, 37.8]);\n",
    "Map.addLayer(roi, {'color':'grey'}, 'roi');\n",
    "// Map.centerObject(roi);\n",
    "\n",
    "// Import a Landsat 8 TOA image for this region.\n",
    "var img = ee.Image('LANDSAT/LC08/C01/T1_TOA/LC08_044034_20140318');\n",
    "Map.addLayer(img, {'bands':['B4','B3','B2'],'min':0,'max':0.3}, 'img');\n",
    "\n",
    "var constant = ee.Image(1);\n",
    "var xVar = img.select('B5');\n",
    "var yVar = img.select('B6');\n",
    "var imgRegress = ee.Image.cat(constant, xVar, yVar);\n",
    "\n",
    "var linearRegression = imgRegress.reduceRegion({\n",
    "  reducer: ee.Reducer.linearRegression({\n",
    "    numX: 2,\n",
    "    numY: 1\n",
    "  }),\n",
    "  geometry: roi,\n",
    "  scale: 30,\n",
    "});\n",
    "\n",
    "// Convert the coefficients array to a list.\n",
    "var coefList = ee.Array(linearRegression.get('coefficients')).toList();\n",
    "\n",
    "// Extract the y-intercept and slope.\n",
    "var b0 = ee.List(coefList.get(0)).get(0); // y-intercept\n",
    "var b1 = ee.List(coefList.get(1)).get(0); // slope\n",
    "\n",
    "// Extract the residuals.\n",
    "var residuals = ee.Array(linearRegression.get('residuals')).toList().get(0);\n",
    "\n",
    "// Inspect the results.\n",
    "print('OLS estimates', linearRegression);\n",
    "print('y-intercept:', b0);\n",
    "print('Slope:', b1);\n",
    "print('Residuals:', residuals);\n",
    "\"\"\"\n",
    "geemap.js_snippet_to_py(\n",
    "    js_snippet, add_new_cell=True, import_ee=True, import_geemap=True, show_map=True\n",
    ")"
   ]
  },
  {
   "cell_type": "code",
   "execution_count": 12,
   "id": "c6066b8f",
   "metadata": {
    "ExecuteTime": {
     "end_time": "2022-08-24T08:12:49.207816Z",
     "start_time": "2022-08-24T08:12:46.139747Z"
    }
   },
   "outputs": [
    {
     "name": "stdout",
     "output_type": "stream",
     "text": [
      "OLS estimates {'coefficients': [[0.037021137878008106], [0.6358535093372875]], 'residuals': [0.025795838155544124]}\n",
      "y-intercept: 0.037021137878008106\n",
      "Slope: 0.6358535093372875\n",
      "Residuals: 0.025795838155544124\n"
     ]
    }
   ],
   "source": [
    "# Define a rectangle geometry around San Francisco.\n",
    "roi = ee.Geometry.Rectangle([-122.45, 37.74, -122.4, 37.8])\n",
    "Map.addLayer(roi, {'color':'grey'}, 'roi')\n",
    "# Map.centerObject(roi)\n",
    "\n",
    "# Import a Landsat 8 TOA image for this region.\n",
    "img = ee.Image('LANDSAT/LC08/C01/T1_TOA/LC08_044034_20140318')\n",
    "Map.addLayer(img, {'bands':['B4','B3','B2'],'min':0,'max':0.3}, 'img')\n",
    "\n",
    "constant = ee.Image(1)\n",
    "xVar = img.select('B5')\n",
    "yVar = img.select('B6')\n",
    "imgRegress = ee.Image.cat(constant, xVar, yVar)\n",
    "\n",
    "linearRegression = imgRegress.reduceRegion(**{\n",
    "  'reducer': ee.Reducer.linearRegression(**{\n",
    "    'numX': 2,\n",
    "    'numY': 1\n",
    "  }),\n",
    "  'geometry': roi,\n",
    "  'scale': 30,\n",
    "})\n",
    "\n",
    "# Convert the coefficients array to a list.\n",
    "coefList = ee.Array(linearRegression.get('coefficients')).toList()\n",
    "\n",
    "# Extract the y-intercept and slope.\n",
    "b0 = ee.List(coefList.get(0)).get(0); # y-intercept\n",
    "b1 = ee.List(coefList.get(1)).get(0); # slope\n",
    "\n",
    "# Extract the residuals.\n",
    "residuals = ee.Array(linearRegression.get('residuals')).toList().get(0)\n",
    "\n",
    "# Inspect the results.\n",
    "print('OLS estimates', linearRegression.getInfo())\n",
    "print('y-intercept:', b0.getInfo())\n",
    "print('Slope:', b1.getInfo())\n",
    "print('Residuals:', residuals.getInfo())\n",
    "\n"
   ]
  },
  {
   "cell_type": "code",
   "execution_count": null,
   "id": "26fb8adc",
   "metadata": {},
   "outputs": [],
   "source": []
  }
 ],
 "metadata": {
  "kernelspec": {
   "display_name": "Python 3 (ipykernel)",
   "language": "python",
   "name": "python3"
  },
  "language_info": {
   "codemirror_mode": {
    "name": "ipython",
    "version": 3
   },
   "file_extension": ".py",
   "mimetype": "text/x-python",
   "name": "python",
   "nbconvert_exporter": "python",
   "pygments_lexer": "ipython3",
   "version": "3.8.13"
  },
  "toc": {
   "base_numbering": 1,
   "nav_menu": {},
   "number_sections": true,
   "sideBar": true,
   "skip_h1_title": false,
   "title_cell": "Table of Contents",
   "title_sidebar": "Contents",
   "toc_cell": false,
   "toc_position": {},
   "toc_section_display": true,
   "toc_window_display": false
  },
  "varInspector": {
   "cols": {
    "lenName": 16,
    "lenType": 16,
    "lenVar": 40
   },
   "kernels_config": {
    "python": {
     "delete_cmd_postfix": "",
     "delete_cmd_prefix": "del ",
     "library": "var_list.py",
     "varRefreshCmd": "print(var_dic_list())"
    },
    "r": {
     "delete_cmd_postfix": ") ",
     "delete_cmd_prefix": "rm(",
     "library": "var_list.r",
     "varRefreshCmd": "cat(var_dic_list()) "
    }
   },
   "types_to_exclude": [
    "module",
    "function",
    "builtin_function_or_method",
    "instance",
    "_Feature"
   ],
   "window_display": false
  }
 },
 "nbformat": 4,
 "nbformat_minor": 5
}
