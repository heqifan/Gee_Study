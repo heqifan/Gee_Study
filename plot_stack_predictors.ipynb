{
 "cells": [
  {
   "cell_type": "code",
   "execution_count": 2,
   "metadata": {
    "ExecuteTime": {
     "end_time": "2022-08-21T13:45:03.357066Z",
     "start_time": "2022-08-21T13:45:02.437696Z"
    }
   },
   "outputs": [],
   "source": [
    "%matplotlib inline"
   ]
  },
  {
   "cell_type": "markdown",
   "metadata": {},
   "source": [
    "\n",
    "# Combine predictors using stacking\n",
    "\n",
    ".. currentmodule:: sklearn\n",
    "\n",
    "Stacking refers to a method to blend estimators. In this strategy, some\n",
    "estimators are individually fitted on some training data while a final\n",
    "estimator is trained using the stacked predictions of these base estimators.\n",
    "\n",
    "In this example, we illustrate the use case in which different regressors are\n",
    "stacked together and a final linear penalized regressor is used to output the\n",
    "prediction. We compare the performance of each individual regressor with the\n",
    "stacking strategy. Stacking slightly improves the overall performance.\n"
   ]
  },
  {
   "cell_type": "code",
   "execution_count": null,
   "metadata": {},
   "outputs": [],
   "source": [
    "# Authors: Guillaume Lemaitre <g.lemaitre58@gmail.com>\n",
    "#          Maria Telenczuk    <https://github.com/maikia>\n",
    "# License: BSD 3 clause"
   ]
  },
  {
   "cell_type": "markdown",
   "metadata": {},
   "source": [
    "## Download the dataset\n",
    "\n",
    " We will use `Ames Housing`_ dataset which was first compiled by Dean De Cock\n",
    " and became better known after it was used in Kaggle challenge. It is a set\n",
    " of 1460 residential homes in Ames, Iowa, each described by 80 features. We\n",
    " will use it to predict the final logarithmic price of the houses. In this\n",
    " example we will use only 20 most interesting features chosen using\n",
    " GradientBoostingRegressor() and limit number of entries (here we won't go\n",
    " into the details on how to select the most interesting features).\n",
    "\n",
    " The Ames housing dataset is not shipped with scikit-learn and therefore we\n",
    " will fetch it from `OpenML`_.\n",
    "\n",
    "\n"
   ]
  },
  {
   "cell_type": "code",
   "execution_count": 1,
   "metadata": {
    "ExecuteTime": {
     "end_time": "2022-08-21T13:45:01.981593Z",
     "start_time": "2022-08-21T13:44:59.943481Z"
    }
   },
   "outputs": [],
   "source": [
    "import numpy as np\n",
    "\n",
    "from sklearn.datasets import fetch_openml\n",
    "from sklearn.utils import shuffle\n",
    "\n",
    "\n",
    "def load_ames_housing():\n",
    "    df = fetch_openml(name=\"house_prices\", as_frame=True)\n",
    "    X = df.data\n",
    "    y = df.target\n",
    "\n",
    "    features = [\n",
    "        \"YrSold\",\n",
    "        \"HeatingQC\",\n",
    "        \"Street\",\n",
    "        \"YearRemodAdd\",\n",
    "        \"Heating\",\n",
    "        \"MasVnrType\",\n",
    "        \"BsmtUnfSF\",\n",
    "        \"Foundation\",\n",
    "        \"MasVnrArea\",\n",
    "        \"MSSubClass\",\n",
    "        \"ExterQual\",\n",
    "        \"Condition2\",\n",
    "        \"GarageCars\",\n",
    "        \"GarageType\",\n",
    "        \"OverallQual\",\n",
    "        \"TotalBsmtSF\",\n",
    "        \"BsmtFinSF1\",\n",
    "        \"HouseStyle\",\n",
    "        \"MiscFeature\",\n",
    "        \"MoSold\",\n",
    "    ]\n",
    "\n",
    "    X = X[features]\n",
    "    X, y = shuffle(X, y, random_state=0)\n",
    "\n",
    "    X = X[:600]\n",
    "    y = y[:600]\n",
    "    return X, np.log(y)\n",
    "\n",
    "\n",
    "X, y = load_ames_housing()"
   ]
  },
  {
   "cell_type": "code",
   "execution_count": 12,
   "metadata": {
    "ExecuteTime": {
     "end_time": "2022-08-21T13:49:30.287087Z",
     "start_time": "2022-08-21T13:49:30.260080Z"
    }
   },
   "outputs": [
    {
     "data": {
      "text/html": [
       "<div>\n",
       "<style scoped>\n",
       "    .dataframe tbody tr th:only-of-type {\n",
       "        vertical-align: middle;\n",
       "    }\n",
       "\n",
       "    .dataframe tbody tr th {\n",
       "        vertical-align: top;\n",
       "    }\n",
       "\n",
       "    .dataframe thead th {\n",
       "        text-align: right;\n",
       "    }\n",
       "</style>\n",
       "<table border=\"1\" class=\"dataframe\">\n",
       "  <thead>\n",
       "    <tr style=\"text-align: right;\">\n",
       "      <th></th>\n",
       "      <th>YrSold</th>\n",
       "      <th>HeatingQC</th>\n",
       "      <th>Street</th>\n",
       "      <th>YearRemodAdd</th>\n",
       "      <th>Heating</th>\n",
       "      <th>MasVnrType</th>\n",
       "      <th>BsmtUnfSF</th>\n",
       "      <th>Foundation</th>\n",
       "      <th>MasVnrArea</th>\n",
       "      <th>MSSubClass</th>\n",
       "      <th>ExterQual</th>\n",
       "      <th>Condition2</th>\n",
       "      <th>GarageCars</th>\n",
       "      <th>GarageType</th>\n",
       "      <th>OverallQual</th>\n",
       "      <th>TotalBsmtSF</th>\n",
       "      <th>BsmtFinSF1</th>\n",
       "      <th>HouseStyle</th>\n",
       "      <th>MiscFeature</th>\n",
       "      <th>MoSold</th>\n",
       "    </tr>\n",
       "  </thead>\n",
       "  <tbody>\n",
       "    <tr>\n",
       "      <th>529</th>\n",
       "      <td>2007.0</td>\n",
       "      <td>TA</td>\n",
       "      <td>Pave</td>\n",
       "      <td>1975.0</td>\n",
       "      <td>GasA</td>\n",
       "      <td>None</td>\n",
       "      <td>816.0</td>\n",
       "      <td>PConc</td>\n",
       "      <td>NaN</td>\n",
       "      <td>20.0</td>\n",
       "      <td>Gd</td>\n",
       "      <td>Norm</td>\n",
       "      <td>2.0</td>\n",
       "      <td>Attchd</td>\n",
       "      <td>6.0</td>\n",
       "      <td>2035.0</td>\n",
       "      <td>1219.0</td>\n",
       "      <td>1Story</td>\n",
       "      <td>None</td>\n",
       "      <td>3.0</td>\n",
       "    </tr>\n",
       "    <tr>\n",
       "      <th>491</th>\n",
       "      <td>2006.0</td>\n",
       "      <td>TA</td>\n",
       "      <td>Pave</td>\n",
       "      <td>1950.0</td>\n",
       "      <td>GasA</td>\n",
       "      <td>None</td>\n",
       "      <td>238.0</td>\n",
       "      <td>CBlock</td>\n",
       "      <td>0.0</td>\n",
       "      <td>50.0</td>\n",
       "      <td>TA</td>\n",
       "      <td>Norm</td>\n",
       "      <td>1.0</td>\n",
       "      <td>Attchd</td>\n",
       "      <td>6.0</td>\n",
       "      <td>806.0</td>\n",
       "      <td>403.0</td>\n",
       "      <td>1.5Fin</td>\n",
       "      <td>None</td>\n",
       "      <td>8.0</td>\n",
       "    </tr>\n",
       "    <tr>\n",
       "      <th>459</th>\n",
       "      <td>2009.0</td>\n",
       "      <td>TA</td>\n",
       "      <td>Pave</td>\n",
       "      <td>1950.0</td>\n",
       "      <td>GasA</td>\n",
       "      <td>BrkCmn</td>\n",
       "      <td>524.0</td>\n",
       "      <td>CBlock</td>\n",
       "      <td>161.0</td>\n",
       "      <td>50.0</td>\n",
       "      <td>TA</td>\n",
       "      <td>Norm</td>\n",
       "      <td>1.0</td>\n",
       "      <td>Detchd</td>\n",
       "      <td>5.0</td>\n",
       "      <td>709.0</td>\n",
       "      <td>185.0</td>\n",
       "      <td>1.5Fin</td>\n",
       "      <td>None</td>\n",
       "      <td>7.0</td>\n",
       "    </tr>\n",
       "    <tr>\n",
       "      <th>279</th>\n",
       "      <td>2008.0</td>\n",
       "      <td>Ex</td>\n",
       "      <td>Pave</td>\n",
       "      <td>1977.0</td>\n",
       "      <td>GasA</td>\n",
       "      <td>BrkFace</td>\n",
       "      <td>768.0</td>\n",
       "      <td>CBlock</td>\n",
       "      <td>299.0</td>\n",
       "      <td>60.0</td>\n",
       "      <td>TA</td>\n",
       "      <td>Norm</td>\n",
       "      <td>2.0</td>\n",
       "      <td>Attchd</td>\n",
       "      <td>7.0</td>\n",
       "      <td>1160.0</td>\n",
       "      <td>392.0</td>\n",
       "      <td>2Story</td>\n",
       "      <td>None</td>\n",
       "      <td>3.0</td>\n",
       "    </tr>\n",
       "    <tr>\n",
       "      <th>655</th>\n",
       "      <td>2010.0</td>\n",
       "      <td>TA</td>\n",
       "      <td>Pave</td>\n",
       "      <td>1971.0</td>\n",
       "      <td>GasA</td>\n",
       "      <td>BrkFace</td>\n",
       "      <td>525.0</td>\n",
       "      <td>CBlock</td>\n",
       "      <td>381.0</td>\n",
       "      <td>160.0</td>\n",
       "      <td>TA</td>\n",
       "      <td>Norm</td>\n",
       "      <td>1.0</td>\n",
       "      <td>Detchd</td>\n",
       "      <td>6.0</td>\n",
       "      <td>525.0</td>\n",
       "      <td>0.0</td>\n",
       "      <td>2Story</td>\n",
       "      <td>None</td>\n",
       "      <td>3.0</td>\n",
       "    </tr>\n",
       "    <tr>\n",
       "      <th>...</th>\n",
       "      <td>...</td>\n",
       "      <td>...</td>\n",
       "      <td>...</td>\n",
       "      <td>...</td>\n",
       "      <td>...</td>\n",
       "      <td>...</td>\n",
       "      <td>...</td>\n",
       "      <td>...</td>\n",
       "      <td>...</td>\n",
       "      <td>...</td>\n",
       "      <td>...</td>\n",
       "      <td>...</td>\n",
       "      <td>...</td>\n",
       "      <td>...</td>\n",
       "      <td>...</td>\n",
       "      <td>...</td>\n",
       "      <td>...</td>\n",
       "      <td>...</td>\n",
       "      <td>...</td>\n",
       "      <td>...</td>\n",
       "    </tr>\n",
       "    <tr>\n",
       "      <th>200</th>\n",
       "      <td>2010.0</td>\n",
       "      <td>Ex</td>\n",
       "      <td>Pave</td>\n",
       "      <td>2004.0</td>\n",
       "      <td>GasA</td>\n",
       "      <td>None</td>\n",
       "      <td>1121.0</td>\n",
       "      <td>PConc</td>\n",
       "      <td>0.0</td>\n",
       "      <td>20.0</td>\n",
       "      <td>TA</td>\n",
       "      <td>Norm</td>\n",
       "      <td>2.0</td>\n",
       "      <td>Attchd</td>\n",
       "      <td>4.0</td>\n",
       "      <td>1121.0</td>\n",
       "      <td>0.0</td>\n",
       "      <td>1Story</td>\n",
       "      <td>None</td>\n",
       "      <td>3.0</td>\n",
       "    </tr>\n",
       "    <tr>\n",
       "      <th>65</th>\n",
       "      <td>2007.0</td>\n",
       "      <td>Ex</td>\n",
       "      <td>Pave</td>\n",
       "      <td>2005.0</td>\n",
       "      <td>GasA</td>\n",
       "      <td>BrkFace</td>\n",
       "      <td>1143.0</td>\n",
       "      <td>PConc</td>\n",
       "      <td>344.0</td>\n",
       "      <td>60.0</td>\n",
       "      <td>Gd</td>\n",
       "      <td>Norm</td>\n",
       "      <td>3.0</td>\n",
       "      <td>BuiltIn</td>\n",
       "      <td>8.0</td>\n",
       "      <td>1143.0</td>\n",
       "      <td>0.0</td>\n",
       "      <td>2Story</td>\n",
       "      <td>None</td>\n",
       "      <td>10.0</td>\n",
       "    </tr>\n",
       "    <tr>\n",
       "      <th>957</th>\n",
       "      <td>2007.0</td>\n",
       "      <td>TA</td>\n",
       "      <td>Pave</td>\n",
       "      <td>1962.0</td>\n",
       "      <td>GasA</td>\n",
       "      <td>None</td>\n",
       "      <td>640.0</td>\n",
       "      <td>CBlock</td>\n",
       "      <td>0.0</td>\n",
       "      <td>20.0</td>\n",
       "      <td>TA</td>\n",
       "      <td>Norm</td>\n",
       "      <td>2.0</td>\n",
       "      <td>Detchd</td>\n",
       "      <td>5.0</td>\n",
       "      <td>1057.0</td>\n",
       "      <td>417.0</td>\n",
       "      <td>1Story</td>\n",
       "      <td>None</td>\n",
       "      <td>4.0</td>\n",
       "    </tr>\n",
       "    <tr>\n",
       "      <th>783</th>\n",
       "      <td>2009.0</td>\n",
       "      <td>Ex</td>\n",
       "      <td>Pave</td>\n",
       "      <td>1978.0</td>\n",
       "      <td>GasA</td>\n",
       "      <td>BrkFace</td>\n",
       "      <td>0.0</td>\n",
       "      <td>PConc</td>\n",
       "      <td>104.0</td>\n",
       "      <td>85.0</td>\n",
       "      <td>TA</td>\n",
       "      <td>Norm</td>\n",
       "      <td>2.0</td>\n",
       "      <td>Attchd</td>\n",
       "      <td>5.0</td>\n",
       "      <td>1097.0</td>\n",
       "      <td>1097.0</td>\n",
       "      <td>SFoyer</td>\n",
       "      <td>None</td>\n",
       "      <td>7.0</td>\n",
       "    </tr>\n",
       "    <tr>\n",
       "      <th>272</th>\n",
       "      <td>2010.0</td>\n",
       "      <td>Ex</td>\n",
       "      <td>Pave</td>\n",
       "      <td>2007.0</td>\n",
       "      <td>GasA</td>\n",
       "      <td>BrkFace</td>\n",
       "      <td>628.0</td>\n",
       "      <td>PConc</td>\n",
       "      <td>348.0</td>\n",
       "      <td>60.0</td>\n",
       "      <td>Gd</td>\n",
       "      <td>Norm</td>\n",
       "      <td>3.0</td>\n",
       "      <td>Attchd</td>\n",
       "      <td>8.0</td>\n",
       "      <td>1152.0</td>\n",
       "      <td>524.0</td>\n",
       "      <td>2Story</td>\n",
       "      <td>None</td>\n",
       "      <td>4.0</td>\n",
       "    </tr>\n",
       "  </tbody>\n",
       "</table>\n",
       "<p>600 rows × 20 columns</p>\n",
       "</div>"
      ],
      "text/plain": [
       "     YrSold HeatingQC Street  YearRemodAdd Heating MasVnrType  BsmtUnfSF  \\\n",
       "529  2007.0        TA   Pave        1975.0    GasA       None      816.0   \n",
       "491  2006.0        TA   Pave        1950.0    GasA       None      238.0   \n",
       "459  2009.0        TA   Pave        1950.0    GasA     BrkCmn      524.0   \n",
       "279  2008.0        Ex   Pave        1977.0    GasA    BrkFace      768.0   \n",
       "655  2010.0        TA   Pave        1971.0    GasA    BrkFace      525.0   \n",
       "..      ...       ...    ...           ...     ...        ...        ...   \n",
       "200  2010.0        Ex   Pave        2004.0    GasA       None     1121.0   \n",
       "65   2007.0        Ex   Pave        2005.0    GasA    BrkFace     1143.0   \n",
       "957  2007.0        TA   Pave        1962.0    GasA       None      640.0   \n",
       "783  2009.0        Ex   Pave        1978.0    GasA    BrkFace        0.0   \n",
       "272  2010.0        Ex   Pave        2007.0    GasA    BrkFace      628.0   \n",
       "\n",
       "    Foundation  MasVnrArea  MSSubClass ExterQual Condition2  GarageCars  \\\n",
       "529      PConc         NaN        20.0        Gd       Norm         2.0   \n",
       "491     CBlock         0.0        50.0        TA       Norm         1.0   \n",
       "459     CBlock       161.0        50.0        TA       Norm         1.0   \n",
       "279     CBlock       299.0        60.0        TA       Norm         2.0   \n",
       "655     CBlock       381.0       160.0        TA       Norm         1.0   \n",
       "..         ...         ...         ...       ...        ...         ...   \n",
       "200      PConc         0.0        20.0        TA       Norm         2.0   \n",
       "65       PConc       344.0        60.0        Gd       Norm         3.0   \n",
       "957     CBlock         0.0        20.0        TA       Norm         2.0   \n",
       "783      PConc       104.0        85.0        TA       Norm         2.0   \n",
       "272      PConc       348.0        60.0        Gd       Norm         3.0   \n",
       "\n",
       "    GarageType  OverallQual  TotalBsmtSF  BsmtFinSF1 HouseStyle MiscFeature  \\\n",
       "529     Attchd          6.0       2035.0      1219.0     1Story        None   \n",
       "491     Attchd          6.0        806.0       403.0     1.5Fin        None   \n",
       "459     Detchd          5.0        709.0       185.0     1.5Fin        None   \n",
       "279     Attchd          7.0       1160.0       392.0     2Story        None   \n",
       "655     Detchd          6.0        525.0         0.0     2Story        None   \n",
       "..         ...          ...          ...         ...        ...         ...   \n",
       "200     Attchd          4.0       1121.0         0.0     1Story        None   \n",
       "65     BuiltIn          8.0       1143.0         0.0     2Story        None   \n",
       "957     Detchd          5.0       1057.0       417.0     1Story        None   \n",
       "783     Attchd          5.0       1097.0      1097.0     SFoyer        None   \n",
       "272     Attchd          8.0       1152.0       524.0     2Story        None   \n",
       "\n",
       "     MoSold  \n",
       "529     3.0  \n",
       "491     8.0  \n",
       "459     7.0  \n",
       "279     3.0  \n",
       "655     3.0  \n",
       "..      ...  \n",
       "200     3.0  \n",
       "65     10.0  \n",
       "957     4.0  \n",
       "783     7.0  \n",
       "272     4.0  \n",
       "\n",
       "[600 rows x 20 columns]"
      ]
     },
     "execution_count": 12,
     "metadata": {},
     "output_type": "execute_result"
    }
   ],
   "source": [
    "X"
   ]
  },
  {
   "cell_type": "markdown",
   "metadata": {},
   "source": [
    "## Make pipeline to preprocess the data\n",
    "\n",
    " Before we can use Ames dataset we still need to do some preprocessing.\n",
    " First, we will select the categorical and numerical columns of the dataset to\n",
    " construct the first step of the pipeline.\n",
    "\n"
   ]
  },
  {
   "cell_type": "code",
   "execution_count": 3,
   "metadata": {
    "ExecuteTime": {
     "end_time": "2022-08-21T13:45:07.970202Z",
     "start_time": "2022-08-21T13:45:07.941197Z"
    }
   },
   "outputs": [
    {
     "data": {
      "text/plain": [
       "['HeatingQC',\n",
       " 'Street',\n",
       " 'Heating',\n",
       " 'MasVnrType',\n",
       " 'Foundation',\n",
       " 'ExterQual',\n",
       " 'Condition2',\n",
       " 'GarageType',\n",
       " 'HouseStyle',\n",
       " 'MiscFeature']"
      ]
     },
     "execution_count": 3,
     "metadata": {},
     "output_type": "execute_result"
    }
   ],
   "source": [
    "from sklearn.compose import make_column_selector\n",
    "\n",
    "cat_selector = make_column_selector(dtype_include=object)\n",
    "num_selector = make_column_selector(dtype_include=np.number)\n",
    "cat_selector(X)"
   ]
  },
  {
   "cell_type": "code",
   "execution_count": 4,
   "metadata": {
    "ExecuteTime": {
     "end_time": "2022-08-21T13:45:21.066665Z",
     "start_time": "2022-08-21T13:45:21.046660Z"
    }
   },
   "outputs": [
    {
     "data": {
      "text/plain": [
       "['YrSold',\n",
       " 'YearRemodAdd',\n",
       " 'BsmtUnfSF',\n",
       " 'MasVnrArea',\n",
       " 'MSSubClass',\n",
       " 'GarageCars',\n",
       " 'OverallQual',\n",
       " 'TotalBsmtSF',\n",
       " 'BsmtFinSF1',\n",
       " 'MoSold']"
      ]
     },
     "execution_count": 4,
     "metadata": {},
     "output_type": "execute_result"
    }
   ],
   "source": [
    "num_selector(X)"
   ]
  },
  {
   "cell_type": "markdown",
   "metadata": {},
   "source": [
    "Then, we will need to design preprocessing pipelines which depends on the\n",
    "ending regressor. If the ending regressor is a linear model, one needs to\n",
    "one-hot encode the categories. If the ending regressor is a tree-based model\n",
    "an ordinal encoder will be sufficient. Besides, numerical values need to be\n",
    "standardized for a linear model while the raw numerical data can be treated\n",
    "as is by a tree-based model. However, both models need an imputer to\n",
    "handle missing values.\n",
    "\n",
    "We will first design the pipeline required for the tree-based models.\n",
    "\n"
   ]
  },
  {
   "cell_type": "code",
   "execution_count": 5,
   "metadata": {
    "ExecuteTime": {
     "end_time": "2022-08-21T13:45:24.325398Z",
     "start_time": "2022-08-21T13:45:24.141356Z"
    }
   },
   "outputs": [
    {
     "data": {
      "text/plain": [
       "ColumnTransformer(transformers=[('simpleimputer',\n",
       "                                 SimpleImputer(add_indicator=True),\n",
       "                                 <sklearn.compose._column_transformer.make_column_selector object at 0x000001D979084E80>),\n",
       "                                ('ordinalencoder',\n",
       "                                 OrdinalEncoder(handle_unknown='use_encoded_value',\n",
       "                                                unknown_value=-1),\n",
       "                                 <sklearn.compose._column_transformer.make_column_selector object at 0x000001D979084B20>)])"
      ]
     },
     "execution_count": 5,
     "metadata": {},
     "output_type": "execute_result"
    }
   ],
   "source": [
    "from sklearn.compose import make_column_transformer\n",
    "from sklearn.impute import SimpleImputer\n",
    "from sklearn.pipeline import make_pipeline\n",
    "from sklearn.preprocessing import OrdinalEncoder\n",
    "\n",
    "cat_tree_processor = OrdinalEncoder(\n",
    "    handle_unknown=\"use_encoded_value\", unknown_value=-1\n",
    ")\n",
    "num_tree_processor = SimpleImputer(strategy=\"mean\", add_indicator=True)\n",
    "\n",
    "tree_preprocessor = make_column_transformer(\n",
    "    (num_tree_processor, num_selector), (cat_tree_processor, cat_selector)\n",
    ")\n",
    "tree_preprocessor"
   ]
  },
  {
   "cell_type": "markdown",
   "metadata": {},
   "source": [
    "Then, we will now define the preprocessor used when the ending regressor\n",
    "is a linear model.\n",
    "\n"
   ]
  },
  {
   "cell_type": "code",
   "execution_count": 6,
   "metadata": {
    "ExecuteTime": {
     "end_time": "2022-08-21T13:45:26.917135Z",
     "start_time": "2022-08-21T13:45:26.895130Z"
    }
   },
   "outputs": [
    {
     "data": {
      "text/plain": [
       "ColumnTransformer(transformers=[('pipeline',\n",
       "                                 Pipeline(steps=[('standardscaler',\n",
       "                                                  StandardScaler()),\n",
       "                                                 ('simpleimputer',\n",
       "                                                  SimpleImputer(add_indicator=True))]),\n",
       "                                 <sklearn.compose._column_transformer.make_column_selector object at 0x000001D979084E80>),\n",
       "                                ('onehotencoder',\n",
       "                                 OneHotEncoder(handle_unknown='ignore'),\n",
       "                                 <sklearn.compose._column_transformer.make_column_selector object at 0x000001D979084B20>)])"
      ]
     },
     "execution_count": 6,
     "metadata": {},
     "output_type": "execute_result"
    }
   ],
   "source": [
    "from sklearn.preprocessing import OneHotEncoder\n",
    "from sklearn.preprocessing import StandardScaler\n",
    "\n",
    "cat_linear_processor = OneHotEncoder(handle_unknown=\"ignore\")\n",
    "num_linear_processor = make_pipeline(\n",
    "    StandardScaler(), SimpleImputer(strategy=\"mean\", add_indicator=True)\n",
    ")\n",
    "\n",
    "linear_preprocessor = make_column_transformer(\n",
    "    (num_linear_processor, num_selector), (cat_linear_processor, cat_selector)\n",
    ")\n",
    "linear_preprocessor"
   ]
  },
  {
   "cell_type": "markdown",
   "metadata": {},
   "source": [
    "## Stack of predictors on a single data set\n",
    "\n",
    " It is sometimes tedious to find the model which will best perform on a given\n",
    " dataset. Stacking provide an alternative by combining the outputs of several\n",
    " learners, without the need to choose a model specifically. The performance of\n",
    " stacking is usually close to the best model and sometimes it can outperform\n",
    " the prediction performance of each individual model.\n",
    "\n",
    " Here, we combine 3 learners (linear and non-linear) and use a ridge regressor\n",
    " to combine their outputs together.\n",
    "\n",
    " .. note::\n",
    "    Although we will make new pipelines with the processors which we wrote in\n",
    "    the previous section for the 3 learners, the final estimator\n",
    "    :class:`~sklearn.linear_model.RidgeCV()` does not need preprocessing of\n",
    "    the data as it will be fed with the already preprocessed output from the 3\n",
    "    learners.\n",
    "\n"
   ]
  },
  {
   "cell_type": "code",
   "execution_count": 7,
   "metadata": {
    "ExecuteTime": {
     "end_time": "2022-08-21T13:45:30.364990Z",
     "start_time": "2022-08-21T13:45:30.337985Z"
    }
   },
   "outputs": [
    {
     "data": {
      "text/plain": [
       "Pipeline(steps=[('columntransformer',\n",
       "                 ColumnTransformer(transformers=[('pipeline',\n",
       "                                                  Pipeline(steps=[('standardscaler',\n",
       "                                                                   StandardScaler()),\n",
       "                                                                  ('simpleimputer',\n",
       "                                                                   SimpleImputer(add_indicator=True))]),\n",
       "                                                  <sklearn.compose._column_transformer.make_column_selector object at 0x000001D979084E80>),\n",
       "                                                 ('onehotencoder',\n",
       "                                                  OneHotEncoder(handle_unknown='ignore'),\n",
       "                                                  <sklearn.compose._column_transformer.make_column_selector object at 0x000001D979084B20>)])),\n",
       "                ('lassocv', LassoCV())])"
      ]
     },
     "execution_count": 7,
     "metadata": {},
     "output_type": "execute_result"
    }
   ],
   "source": [
    "from sklearn.linear_model import LassoCV\n",
    "\n",
    "lasso_pipeline = make_pipeline(linear_preprocessor, LassoCV())\n",
    "lasso_pipeline"
   ]
  },
  {
   "cell_type": "code",
   "execution_count": 8,
   "metadata": {
    "ExecuteTime": {
     "end_time": "2022-08-21T13:45:32.833248Z",
     "start_time": "2022-08-21T13:45:32.725224Z"
    }
   },
   "outputs": [
    {
     "data": {
      "text/plain": [
       "Pipeline(steps=[('columntransformer',\n",
       "                 ColumnTransformer(transformers=[('simpleimputer',\n",
       "                                                  SimpleImputer(add_indicator=True),\n",
       "                                                  <sklearn.compose._column_transformer.make_column_selector object at 0x000001D979084E80>),\n",
       "                                                 ('ordinalencoder',\n",
       "                                                  OrdinalEncoder(handle_unknown='use_encoded_value',\n",
       "                                                                 unknown_value=-1),\n",
       "                                                  <sklearn.compose._column_transformer.make_column_selector object at 0x000001D979084B20>)])),\n",
       "                ('randomforestregressor',\n",
       "                 RandomForestRegressor(random_state=42))])"
      ]
     },
     "execution_count": 8,
     "metadata": {},
     "output_type": "execute_result"
    }
   ],
   "source": [
    "from sklearn.ensemble import RandomForestRegressor\n",
    "\n",
    "rf_pipeline = make_pipeline(tree_preprocessor, RandomForestRegressor(random_state=42))\n",
    "rf_pipeline"
   ]
  },
  {
   "cell_type": "code",
   "execution_count": 9,
   "metadata": {
    "ExecuteTime": {
     "end_time": "2022-08-21T13:45:34.883364Z",
     "start_time": "2022-08-21T13:45:34.862358Z"
    }
   },
   "outputs": [
    {
     "data": {
      "text/plain": [
       "Pipeline(steps=[('columntransformer',\n",
       "                 ColumnTransformer(transformers=[('simpleimputer',\n",
       "                                                  SimpleImputer(add_indicator=True),\n",
       "                                                  <sklearn.compose._column_transformer.make_column_selector object at 0x000001D979084E80>),\n",
       "                                                 ('ordinalencoder',\n",
       "                                                  OrdinalEncoder(handle_unknown='use_encoded_value',\n",
       "                                                                 unknown_value=-1),\n",
       "                                                  <sklearn.compose._column_transformer.make_column_selector object at 0x000001D979084B20>)])),\n",
       "                ('histgradientboostingregressor',\n",
       "                 HistGradientBoostingRegressor(random_state=0))])"
      ]
     },
     "execution_count": 9,
     "metadata": {},
     "output_type": "execute_result"
    }
   ],
   "source": [
    "from sklearn.ensemble import HistGradientBoostingRegressor\n",
    "\n",
    "gbdt_pipeline = make_pipeline(\n",
    "    tree_preprocessor, HistGradientBoostingRegressor(random_state=0)\n",
    ")\n",
    "gbdt_pipeline"
   ]
  },
  {
   "cell_type": "code",
   "execution_count": 10,
   "metadata": {
    "ExecuteTime": {
     "end_time": "2022-08-21T13:45:37.533567Z",
     "start_time": "2022-08-21T13:45:37.454550Z"
    }
   },
   "outputs": [
    {
     "data": {
      "text/plain": [
       "StackingRegressor(estimators=[('Random Forest',\n",
       "                               Pipeline(steps=[('columntransformer',\n",
       "                                                ColumnTransformer(transformers=[('simpleimputer',\n",
       "                                                                                 SimpleImputer(add_indicator=True),\n",
       "                                                                                 <sklearn.compose._column_transformer.make_column_selector object at 0x000001D979084E80>),\n",
       "                                                                                ('ordinalencoder',\n",
       "                                                                                 OrdinalEncoder(handle_unknown='use_encoded_value',\n",
       "                                                                                                unknown_value=-1),\n",
       "                                                                                 <sklearn.com...\n",
       "                                                                                 <sklearn.compose._column_transformer.make_column_selector object at 0x000001D979084E80>),\n",
       "                                                                                ('ordinalencoder',\n",
       "                                                                                 OrdinalEncoder(handle_unknown='use_encoded_value',\n",
       "                                                                                                unknown_value=-1),\n",
       "                                                                                 <sklearn.compose._column_transformer.make_column_selector object at 0x000001D979084B20>)])),\n",
       "                                               ('histgradientboostingregressor',\n",
       "                                                HistGradientBoostingRegressor(random_state=0))]))],\n",
       "                  final_estimator=RidgeCV(alphas=array([ 0.1,  1. , 10. ])))"
      ]
     },
     "execution_count": 10,
     "metadata": {},
     "output_type": "execute_result"
    }
   ],
   "source": [
    "from sklearn.ensemble import StackingRegressor\n",
    "from sklearn.linear_model import RidgeCV\n",
    "\n",
    "estimators = [\n",
    "    (\"Random Forest\", rf_pipeline),\n",
    "    (\"Lasso\", lasso_pipeline),\n",
    "    (\"Gradient Boosting\", gbdt_pipeline),\n",
    "]\n",
    "\n",
    "stacking_regressor = StackingRegressor(estimators=estimators, final_estimator=RidgeCV())\n",
    "stacking_regressor"
   ]
  },
  {
   "cell_type": "markdown",
   "metadata": {},
   "source": [
    "## Measure and plot the results\n",
    "\n",
    " Now we can use Ames Housing dataset to make the predictions. We check the\n",
    " performance of each individual predictor as well as of the stack of the\n",
    " regressors.\n",
    "\n",
    " The function ``plot_regression_results`` is used to plot the predicted and\n",
    " true targets.\n",
    "\n"
   ]
  },
  {
   "cell_type": "code",
   "execution_count": 11,
   "metadata": {
    "ExecuteTime": {
     "end_time": "2022-08-21T13:46:09.883199Z",
     "start_time": "2022-08-21T13:45:40.808304Z"
    }
   },
   "outputs": [
    {
     "name": "stderr",
     "output_type": "stream",
     "text": [
      "findfont: Font family ['sans-serif'] not found. Falling back to DejaVu Sans.\n",
      "findfont: Generic family 'sans-serif' not found because none of the following families were found: Noto Sans CJK SC Regular, Noto Sans Mono CJK SC Regular, Noto Serif CJK SC, 黑体, 思源等宽, 思源宋体sans-serif\n",
      "findfont: Font family ['sans-serif'] not found. Falling back to DejaVu Sans.\n",
      "findfont: Generic family 'sans-serif' not found because none of the following families were found: Noto Sans CJK SC Regular, Noto Sans Mono CJK SC Regular, Noto Serif CJK SC, 黑体, 思源等宽, 思源宋体sans-serif\n",
      "findfont: Font family ['sans-serif'] not found. Falling back to DejaVu Sans.\n",
      "findfont: Generic family 'sans-serif' not found because none of the following families were found: Noto Sans CJK SC Regular, Noto Sans Mono CJK SC Regular, Noto Serif CJK SC, 黑体, 思源等宽, 思源宋体sans-serif\n"
     ]
    },
    {
     "data": {
      "image/png": "[encoded data removed]",
      "text/plain": [
       "<Figure size 648x504 with 4 Axes>"
      ]
     },
     "metadata": {
      "needs_background": "light"
     },
     "output_type": "display_data"
    }
   ],
   "source": [
    "import time\n",
    "import matplotlib.pyplot as plt\n",
    "from sklearn.model_selection import cross_validate, cross_val_predict\n",
    "\n",
    "\n",
    "def plot_regression_results(ax, y_true, y_pred, title, scores, elapsed_time):\n",
    "    \"\"\"Scatter plot of the predicted vs true targets.\"\"\"\n",
    "    ax.plot(\n",
    "        [y_true.min(), y_true.max()], [y_true.min(), y_true.max()], \"--r\", linewidth=2\n",
    "    )\n",
    "    ax.scatter(y_true, y_pred, alpha=0.2)\n",
    "\n",
    "    ax.spines[\"top\"].set_visible(False)\n",
    "    ax.spines[\"right\"].set_visible(False)\n",
    "    ax.get_xaxis().tick_bottom()\n",
    "    ax.get_yaxis().tick_left()\n",
    "    ax.spines[\"left\"].set_position((\"outward\", 10))\n",
    "    ax.spines[\"bottom\"].set_position((\"outward\", 10))\n",
    "    ax.set_xlim([y_true.min(), y_true.max()])\n",
    "    ax.set_ylim([y_true.min(), y_true.max()])\n",
    "    ax.set_xlabel(\"Measured\")\n",
    "    ax.set_ylabel(\"Predicted\")\n",
    "    extra = plt.Rectangle(\n",
    "        (0, 0), 0, 0, fc=\"w\", fill=False, edgecolor=\"none\", linewidth=0\n",
    "    )\n",
    "    ax.legend([extra], [scores], loc=\"upper left\")\n",
    "    title = title + \"\\n Evaluation in {:.2f} seconds\".format(elapsed_time)\n",
    "    ax.set_title(title)\n",
    "\n",
    "\n",
    "fig, axs = plt.subplots(2, 2, figsize=(9, 7))\n",
    "axs = np.ravel(axs)\n",
    "\n",
    "for ax, (name, est) in zip(\n",
    "    axs, estimators + [(\"Stacking Regressor\", stacking_regressor)]\n",
    "):\n",
    "    start_time = time.time()\n",
    "    score = cross_validate(\n",
    "        est, X, y, scoring=[\"r2\", \"neg_mean_absolute_error\"], n_jobs=2, verbose=0\n",
    "    )\n",
    "    elapsed_time = time.time() - start_time\n",
    "\n",
    "    y_pred = cross_val_predict(est, X, y, n_jobs=2, verbose=0)\n",
    "\n",
    "    plot_regression_results(\n",
    "        ax,\n",
    "        y,\n",
    "        y_pred,\n",
    "        name,\n",
    "        (r\"$R^2={:.2f} \\pm {:.2f}$\" + \"\\n\" + r\"$MAE={:.2f} \\pm {:.2f}$\").format(\n",
    "            np.mean(score[\"test_r2\"]),\n",
    "            np.std(score[\"test_r2\"]),\n",
    "            -np.mean(score[\"test_neg_mean_absolute_error\"]),\n",
    "            np.std(score[\"test_neg_mean_absolute_error\"]),\n",
    "        ),\n",
    "        elapsed_time,\n",
    "    )\n",
    "\n",
    "plt.suptitle(\"Single predictors versus stacked predictors\")\n",
    "plt.tight_layout()\n",
    "plt.subplots_adjust(top=0.9)\n",
    "plt.show()"
   ]
  },
  {
   "cell_type": "markdown",
   "metadata": {},
   "source": [
    "The stacked regressor will combine the strengths of the different regressors.\n",
    "However, we also see that training the stacked regressor is much more\n",
    "computationally expensive.\n",
    "\n"
   ]
  }
 ],
 "metadata": {
  "kernelspec": {
   "display_name": "Python 3 (ipykernel)",
   "language": "python",
   "name": "python3"
  },
  "language_info": {
   "codemirror_mode": {
    "name": "ipython",
    "version": 3
   },
   "file_extension": ".py",
   "mimetype": "text/x-python",
   "name": "python",
   "nbconvert_exporter": "python",
   "pygments_lexer": "ipython3",
   "version": "3.8.13"
  },
  "toc": {
   "base_numbering": 1,
   "nav_menu": {},
   "number_sections": true,
   "sideBar": true,
   "skip_h1_title": false,
   "title_cell": "Table of Contents",
   "title_sidebar": "Contents",
   "toc_cell": false,
   "toc_position": {},
   "toc_section_display": true,
   "toc_window_display": false
  },
  "varInspector": {
   "cols": {
    "lenName": 16,
    "lenType": 16,
    "lenVar": 40
   },
   "kernels_config": {
    "python": {
     "delete_cmd_postfix": "",
     "delete_cmd_prefix": "del ",
     "library": "var_list.py",
     "varRefreshCmd": "print(var_dic_list())"
    },
    "r": {
     "delete_cmd_postfix": ") ",
     "delete_cmd_prefix": "rm(",
     "library": "var_list.r",
     "varRefreshCmd": "cat(var_dic_list()) "
    }
   },
   "types_to_exclude": [
    "module",
    "function",
    "builtin_function_or_method",
    "instance",
    "_Feature"
   ],
   "window_display": false
  }
 },
 "nbformat": 4,
 "nbformat_minor": 1
}
