{
 "cells": [
  {
   "cell_type": "code",
   "execution_count": 64,
   "id": "dc91105d",
   "metadata": {
    "tags": []
   },
   "outputs": [
    {
     "data": {
      "application/vnd.jupyter.widget-view+json": {
       "model_id": "84d5ff503a994727b47e455c6f74751d",
       "version_major": 2,
       "version_minor": 0
      },
      "text/plain": [
       "Map(center=[40, -100], controls=(WidgetControl(options=['position', 'transparent_bg'], widget=HBox(children=(T…"
      ]
     },
     "metadata": {},
     "output_type": "display_data"
    }
   ],
   "source": [
    "import geemap\n",
    "import ee\n",
<<<<<<< HEAD
    "ee.Initialize()\n",
    "reducer = ee.Reducer.mean()\n",
=======
>>>>>>> 9323533 (first commit)
    "Map = geemap.Map()\n",
    "Map"
   ]
  },
  {
   "cell_type": "code",
   "execution_count": 65,
   "id": "4c8af877",
   "metadata": {
    "tags": []
   },
   "outputs": [],
   "source": [
    "'''添加矢量数据'''\n",
    "\n",
    "duchang_shp = \"D:\\水稻有关数据\\都昌矢量数据\\都昌矢量数据.shp\"\n",
    "duchang = geemap.shp_to_ee(duchang_shp)\n",
    "Map.addLayer(duchang, {}, 'duchang')\n",
    "Map.centerObject(duchang, zoom=10)\n",
    "roi = duchang.geometry()  #获取矢量的范围"
   ]
  },
  {
   "cell_type": "code",
   "execution_count": 66,
   "id": "1af7a228",
   "metadata": {},
   "outputs": [],
   "source": [
    "def clipp(image):\n",
    "     return image.clip(roi)"
   ]
  },
  {
   "cell_type": "code",
   "execution_count": 104,
   "id": "7aa893ed",
   "metadata": {},
   "outputs": [],
   "source": [
    "'''添加影像集'''\n",
    "\n",
    "evi_collections = ee.ImageCollection(\"LANDSAT/LE07/C01/T1_8DAY_EVI\").filterDate('2000-01-01','2020-12-31').filterBounds(roi).map(clipp)\n",
    "\n",
    "mndwi_collections = ee.ImageCollection(\"LANDSAT/LE07/C01/T1_8DAY_NDWI\").filterDate('2000-01-01','2020-12-31').filterBounds(roi).map(clipp)"
   ]
  },
  {
   "cell_type": "code",
   "execution_count": null,
   "id": "429f2f02",
   "metadata": {},
   "outputs": [],
   "source": [
    "# def mndwi_(image):\n",
    "#     new_image = image.normalizedDifference(['SR_B2','SR_B5']).rename('mndwi')\n",
    "#     return new_image.updateMask(new_image.gt(-1).And(new_image.lt(1)))"
   ]
  },
  {
   "cell_type": "code",
   "execution_count": null,
   "id": "48b29bd8",
   "metadata": {},
   "outputs": [],
   "source": [
    "# def cloudMaskL7(image):\n",
    "#   qa = image.select('QA_PIXEL')\n",
    "#   cloud = qa.bitwiseAnd(1 << 3) \\\n",
    "#           .And(qa.bitwiseAnd(1 << 9)) \\\n",
    "#           .Or(qa.bitwiseAnd(1 << 4))\n",
    "#   mask2 = image.mask().reduce(ee.Reducer.min())\n",
    "#   return image.updateMask(cloud.Not()).updateMask(mask2)"
   ]
  },
  {
   "cell_type": "code",
   "execution_count": null,
   "id": "2c2c52ad",
   "metadata": {
    "collapsed": true,
    "jupyter": {
     "outputs_hidden": true
    }
   },
   "outputs": [],
   "source": [
    "# mndwi_cols = mndwi_collections\\\n",
    "#         .select(['SR_B2', 'SR_B5', 'QA_PIXEL'])\\\n",
    "#         .map(cloudMaskL7)\\\n",
    "#         .map(mndwi_)"
   ]
  },
  {
   "cell_type": "code",
   "execution_count": 78,
   "id": "bbd66c44",
   "metadata": {},
   "outputs": [],
   "source": [
    "start_date = '2000-01-01'\n",
    "end_date = '2020-12-31'  "
   ]
  },
  {
   "cell_type": "code",
   "execution_count": 79,
   "id": "7820bb53",
   "metadata": {},
   "outputs": [],
   "source": [
    "#利用日期差异为SG拟合添加预测因子\n",
    "def func_cyr(img):\n",
    "    dstamp = ee.Date(img.get('system:time_start'))\n",
    "    ddiff = dstamp.difference(ee.Date(start_date), 'hour')\n",
    "    img = img.select(['EVI']).set('date', dstamp)\n",
    "    return img.addBands(ee.Image(1).toFloat().rename('constant')).\\\n",
    "    addBands(ee.Image(ddiff).toFloat().rename('t')).\\\n",
    "    addBands(ee.Image(ddiff).pow(ee.Image(2)).toFloat().rename('t2')).\\\n",
    "    addBands(ee.Image(ddiff).pow(ee.Image(3)).toFloat().rename('t3'))\n",
    "\n",
    "modis_res = evi_collections.map(func_cyr)"
   ]
  },
  {
   "cell_type": "code",
   "execution_count": 80,
   "id": "277f38c8",
   "metadata": {},
   "outputs": [],
   "source": [
    "#第二步:设置Savitzky-Golay平滑\n",
    "window_size = 9\n",
    "half_window = (window_size - 1)/2\n",
    "#定义集合数组中的变化轴。\n",
    "imageAxis = 0\n",
    "bandAxis = 1\n",
    "#集多项式阶\n",
    "order = 3\n",
    "coeffFlattener = [['constant', 'x', 'x2', 'x3']]\n",
    "indepSelectors = ['constant', 't', 't2', 't3']\n",
    "#更改顺序= 2如下\n",
    "#order = 2\n",
    "#coeffFlattener = [['constant', 'x', 'x2']]\n",
    "#indepSelectors = ['constant', 't', 't2']\n",
    "#将集合转换为数组。\n",
    "array = modis_res.toArray()"
   ]
  },
  {
   "cell_type": "code",
   "execution_count": 81,
   "id": "b795e270",
   "metadata": {},
   "outputs": [],
   "source": [
    "def getLocalFit(i):\n",
    "    subarray = array.arraySlice(imageAxis, ee.Number(i).int(), ee.Number(i).add(window_size).int())\n",
    "    predictors = subarray.arraySlice(bandAxis, 2, 2 + order + 1)\n",
    "    response = subarray.arraySlice(bandAxis, 0, 1)\n",
    "    coeff = predictors.matrixSolve(response)\n",
    "    coeff = coeff.arrayProject([0]).arrayFlatten(coeffFlattener)\n",
    "    return coeff"
   ]
  },
  {
   "cell_type": "code",
   "execution_count": 82,
   "id": "9866bfd0",
   "metadata": {},
   "outputs": [],
   "source": [
    "#对于其余部分，使用modis_res作为图像列表\n",
    "modis_res = modis_res.toList(modis_res.size())\n",
    "runLength = ee.List.sequence(0, modis_res.size().subtract(window_size))"
   ]
  },
  {
   "cell_type": "code",
   "execution_count": 83,
   "id": "548e7e6b",
   "metadata": {},
   "outputs": [],
   "source": [
    "#对该级数运行SG求解器，并返回平滑后的图像版本\n",
    "def func_ymv(i):\n",
    "    ref = ee.Image(modis_res.get(ee.Number(i).add(half_window)))\n",
    "    return getLocalFit(i).multiply(ref.select(indepSelectors)).reduce(ee.Reducer.sum()).copyProperties(ref)\n",
    "\n",
    "sg_series = runLength.map(func_ymv)"
   ]
  },
  {
   "cell_type": "code",
   "execution_count": 84,
   "id": "84fae8e7",
   "metadata": {},
   "outputs": [],
   "source": [
    "#获取一个示例原始图像及其SG-ed版本\n",
    "NDVI = (ee.Image(modis_res.get(41)).select('EVI'))\n",
    "NDVIsg = (ee.Image(sg_series.get(41-half_window)))  #指数的半窗差"
   ]
  },
  {
   "cell_type": "code",
   "execution_count": 100,
   "id": "160ad6ec",
   "metadata": {},
   "outputs": [],
   "source": [
    "modis_res = ee.ImageCollection(modis_res).map(clipp)\n",
    "sg_series = ee.ImageCollection(sg_series).map(clipp)"
   ]
  },
  {
   "cell_type": "code",
   "execution_count": 86,
   "id": "13f8ba17",
   "metadata": {},
   "outputs": [
    {
     "name": "stdout",
     "output_type": "stream",
     "text": [
      "{'type': 'Image', 'bands': [{'id': 'EVI', 'data_type': {'type': 'PixelType', 'precision': 'double', 'min': -1, 'max': 1}, 'crs': 'EPSG:4326', 'crs_transform': [1, 0, 0, 0, 1, 0]}], 'version': 1642249367385263, 'id': 'LANDSAT/LE07/C01/T1_8DAY_EVI/20001124', 'properties': {'date': {'type': 'Date', 'value': 975024000000}, 'system:time_start': 975024000000, 'system:time_end': 975715200000, 'system:index': '20001124'}}\n",
      "{'type': 'Image', 'bands': [{'id': 'sum', 'data_type': {'type': 'PixelType', 'precision': 'double'}, 'crs': 'EPSG:4326', 'crs_transform': [1, 0, 0, 0, 1, 0]}], 'properties': {'date': {'type': 'Date', 'value': 975024000000}}}\n"
     ]
    }
   ],
   "source": [
    "print(NDVI.getInfo())\n",
    "print(NDVIsg.getInfo())"
   ]
  },
  {
   "cell_type": "code",
   "execution_count": 105,
   "id": "66082eb3",
   "metadata": {},
   "outputs": [],
   "source": [
    "Map.addLayer(modis_res, {}, 'evi')\n",
    "Map.addLayer(sg_series, {}, 'NDVIsg')\n",
    "Map.addLayer(evi_collections, {}, 'evi_collections')"
   ]
  },
  {
   "cell_type": "code",
   "execution_count": 113,
   "id": "ea6eaf81",
   "metadata": {},
   "outputs": [
    {
     "name": "stderr",
     "output_type": "stream",
     "text": [
      "IOPub data rate exceeded.\n",
      "The notebook server will temporarily stop sending output\n",
      "to the client in order to avoid crashing it.\n",
      "To change this limit, set the config variable\n",
      "`--NotebookApp.iopub_data_rate_limit`.\n",
      "\n",
      "Current values:\n",
      "NotebookApp.iopub_data_rate_limit=1000000.0 (bytes/sec)\n",
      "NotebookApp.rate_limit_window=3.0 (secs)\n",
      "\n"
     ]
    }
   ],
   "source": [
    "#print(modis_res.size().getInfo())\n",
    "#print(sg_series.size().getInfo())\n",
    "#print(modis_res.getInfo())\n",
    "print(sg_series.getInfo())"
   ]
  },
  {
   "cell_type": "code",
   "execution_count": 38,
   "id": "7d24fdb8",
   "metadata": {},
   "outputs": [],
   "source": [
    "#现在得到一个缓冲点的配置文件。\n",
    "#确保将点放在均匀区域的中心(减少噪音)\n",
    "pt = ee.Geometry.Point(39.89, -1.8516).buffer(500) \n",
    "#为集合中的所有图像构建一个堆栈\n",
    "def stack(i1, i2):\n",
    "    return ee.Image(i1).addBands(ee.Image(i2))\n",
    "\n",
    "\n",
    "s1orig = modis_res.slice(1).iterate(stack, modis_res.get(0))\n",
    "\n",
    "s1sged = sg_series.slice(1).iterate(stack, sg_series.get(0))\n",
    "\n",
    "#从两个系列中获取样本\n",
    "y = ee.Image(s1orig).select(['NDVI(..)*']).reduceRegion(ee.Reducer.mean(), pt,10).values()\n",
    "xlabels = ee.Image(s1orig).select(['t(..)*']).reduceRegion(ee.Reducer.first(), pt,10).values()\n",
    "smoothy = ee.Image(s1sged).select(['sum(..)*']).reduceRegion(ee.Reducer.mean(), pt,10).values()\n",
    "\n",
    "\n",
    "#NB:转换为dB(这实际上在一定程度上夸大了原始点和平滑序列之间的差异)\n",
    "#NB2smoothy的第一个和最后一个half_window值简单地从开始值和结束值重复\n",
    "#y = y.map(function(f) { return ee.Number(f).log10().multiply(10)})\n",
    "def func_mrg(f):\n",
    "    return ee.Number(f).divide(24.0*365.25)\n",
    "\n",
    "xlabels = xlabels.map(func_mrg).sort()\n",
    "\n"
   ]
  },
  {
   "cell_type": "code",
   "execution_count": 40,
   "id": "9284866a",
   "metadata": {},
   "outputs": [
    {
     "ename": "NameError",
     "evalue": "name 'ui' is not defined",
     "output_type": "error",
     "traceback": [
      "\u001b[1;31m---------------------------------------------------------------------------\u001b[0m",
      "\u001b[1;31mNameError\u001b[0m                                 Traceback (most recent call last)",
      "\u001b[1;32mC:\\WINDOWS\\TEMP/ipykernel_22328/2129908070.py\u001b[0m in \u001b[0;36m<module>\u001b[1;34m\u001b[0m\n\u001b[0;32m      1\u001b[0m \u001b[0myValues\u001b[0m \u001b[1;33m=\u001b[0m \u001b[0mee\u001b[0m\u001b[1;33m.\u001b[0m\u001b[0mArray\u001b[0m\u001b[1;33m.\u001b[0m\u001b[0mcat\u001b[0m\u001b[1;33m(\u001b[0m\u001b[1;33m[\u001b[0m\u001b[0my\u001b[0m\u001b[1;33m,\u001b[0m \u001b[0mee\u001b[0m\u001b[1;33m.\u001b[0m\u001b[0mList\u001b[0m\u001b[1;33m.\u001b[0m\u001b[0mrepeat\u001b[0m\u001b[1;33m(\u001b[0m\u001b[0msmoothy\u001b[0m\u001b[1;33m.\u001b[0m\u001b[0mget\u001b[0m\u001b[1;33m(\u001b[0m\u001b[1;36m0\u001b[0m\u001b[1;33m)\u001b[0m\u001b[1;33m,\u001b[0m \u001b[0mhalf_window\u001b[0m\u001b[1;33m)\u001b[0m\u001b[1;33m.\u001b[0m\u001b[0mcat\u001b[0m\u001b[1;33m(\u001b[0m\u001b[0msmoothy\u001b[0m\u001b[1;33m)\u001b[0m\u001b[1;33m.\u001b[0m\u001b[0mcat\u001b[0m\u001b[1;33m(\u001b[0m\u001b[0mee\u001b[0m\u001b[1;33m.\u001b[0m\u001b[0mList\u001b[0m\u001b[1;33m.\u001b[0m\u001b[0mrepeat\u001b[0m\u001b[1;33m(\u001b[0m\u001b[0msmoothy\u001b[0m\u001b[1;33m.\u001b[0m\u001b[0mget\u001b[0m\u001b[1;33m(\u001b[0m\u001b[1;33m-\u001b[0m\u001b[1;36m1\u001b[0m\u001b[1;33m)\u001b[0m\u001b[1;33m,\u001b[0m \u001b[0mhalf_window\u001b[0m\u001b[1;33m)\u001b[0m\u001b[1;33m)\u001b[0m\u001b[1;33m]\u001b[0m\u001b[1;33m,\u001b[0m \u001b[1;36m1\u001b[0m\u001b[1;33m)\u001b[0m\u001b[1;33m\u001b[0m\u001b[1;33m\u001b[0m\u001b[0m\n\u001b[1;32m----> 2\u001b[1;33m chart = ui.Chart.array.values(yValues, 0, xlabels).setSeriesNames(['Raw', 'Smoothed']).setOptions(\n\u001b[0m\u001b[0;32m      3\u001b[0m   {\n\u001b[0;32m      4\u001b[0m     \u001b[0mtitle\u001b[0m\u001b[1;33m:\u001b[0m \u001b[1;34m'Savitsky-Golay smoothing (order = '\u001b[0m \u001b[1;33m+\u001b[0m \u001b[0morder\u001b[0m \u001b[1;33m+\u001b[0m \u001b[1;34m', window_size = '\u001b[0m \u001b[1;33m+\u001b[0m \u001b[0mwindow_size\u001b[0m \u001b[1;33m+\u001b[0m \u001b[1;34m')'\u001b[0m\u001b[1;33m,\u001b[0m\u001b[1;33m\u001b[0m\u001b[1;33m\u001b[0m\u001b[0m\n\u001b[0;32m      5\u001b[0m     \u001b[0mhAxis\u001b[0m\u001b[1;33m:\u001b[0m \u001b[1;33m{\u001b[0m\u001b[0mtitle\u001b[0m\u001b[1;33m:\u001b[0m \u001b[1;34m'Time (years after '\u001b[0m \u001b[1;33m+\u001b[0m \u001b[0mstart_date\u001b[0m \u001b[1;33m+\u001b[0m \u001b[1;34m')'\u001b[0m\u001b[1;33m}\u001b[0m\u001b[1;33m,\u001b[0m \u001b[0mvAxis\u001b[0m\u001b[1;33m:\u001b[0m \u001b[1;33m{\u001b[0m\u001b[0mtitle\u001b[0m\u001b[1;33m:\u001b[0m \u001b[1;34m'NDVI'\u001b[0m\u001b[1;33m}\u001b[0m\u001b[1;33m,\u001b[0m\u001b[1;33m\u001b[0m\u001b[1;33m\u001b[0m\u001b[0m\n",
      "\u001b[1;31mNameError\u001b[0m: name 'ui' is not defined"
     ]
    }
   ],
   "source": [
    "yValues = ee.Array.cat([y, ee.List.repeat(smoothy.get(0), half_window).cat(smoothy).cat(ee.List.repeat(smoothy.get(-1), half_window))], 1)\n",
    "chart = ui.Chart.array.values(yValues, 0, xlabels).setSeriesNames(['Raw', 'Smoothed']).setOptions(\n",
    "  {\n",
    "    title: 'Savitsky-Golay smoothing (order = ' + order + ', window_size = ' + window_size + ')', \n",
    "    hAxis: {title: 'Time (years after ' + start_date + ')'}, vAxis: {title: 'NDVI'},\n",
    "    legend: null,\n",
    "    series: { \n",
    "      0: { lineWidth: 0},\n",
    "      1: { lineWidth: 2, pointSize: 0, color: 'red' }}\n",
    "  })\n",
    "print(chart)\n",
    "\n",
    "Map.centerObject(roi, 9)"
   ]
  },
  {
   "cell_type": "code",
   "execution_count": null,
   "id": "9a55075e",
   "metadata": {},
   "outputs": [],
   "source": []
  }
 ],
 "metadata": {
  "kernelspec": {
   "display_name": "Python 3 (ipykernel)",
   "language": "python",
   "name": "python3"
  },
  "language_info": {
   "codemirror_mode": {
    "name": "ipython",
    "version": 3
   },
   "file_extension": ".py",
   "mimetype": "text/x-python",
   "name": "python",
   "nbconvert_exporter": "python",
   "pygments_lexer": "ipython3",
   "version": "3.8.13"
<<<<<<< HEAD
=======
  },
  "toc": {
   "base_numbering": 1,
   "nav_menu": {},
   "number_sections": true,
   "sideBar": true,
   "skip_h1_title": false,
   "title_cell": "Table of Contents",
   "title_sidebar": "Contents",
   "toc_cell": false,
   "toc_position": {},
   "toc_section_display": true,
   "toc_window_display": false
  },
  "varInspector": {
   "cols": {
    "lenName": 16,
    "lenType": 16,
    "lenVar": 40
   },
   "kernels_config": {
    "python": {
     "delete_cmd_postfix": "",
     "delete_cmd_prefix": "del ",
     "library": "var_list.py",
     "varRefreshCmd": "print(var_dic_list())"
    },
    "r": {
     "delete_cmd_postfix": ") ",
     "delete_cmd_prefix": "rm(",
     "library": "var_list.r",
     "varRefreshCmd": "cat(var_dic_list()) "
    }
   },
   "types_to_exclude": [
    "module",
    "function",
    "builtin_function_or_method",
    "instance",
    "_Feature"
   ],
   "window_display": false
>>>>>>> 9323533 (first commit)
  }
 },
 "nbformat": 4,
 "nbformat_minor": 5
}
