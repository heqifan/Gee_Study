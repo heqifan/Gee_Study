{
 "cells": [
  {
   "cell_type": "code",
   "execution_count": null,
   "id": "797748ab",
   "metadata": {},
   "outputs": [],
   "source": []
  },
  {
   "cell_type": "code",
   "execution_count": null,
   "id": "ddd9e990",
   "metadata": {},
   "outputs": [],
   "source": [
    "本例中我们用到了鸢尾花（Iris）数据集，这是机器学习和统计学中一个经典的数据集。它\n",
    "包含在scikit-learn 的datasets 模块中。我们可以调用load_iris 函数来加载数据："
   ]
  },
  {
   "cell_type": "code",
   "execution_count": 1,
   "id": "39ba66f5",
   "metadata": {
    "ExecuteTime": {
     "end_time": "2022-07-17T12:40:31.172058Z",
     "start_time": "2022-07-17T12:40:30.457898Z"
    }
   },
   "outputs": [],
   "source": [
    "from sklearn.datasets import load_iris\n",
    "iris_dataset = load_iris()"
   ]
  },
  {
   "cell_type": "code",
   "execution_count": 3,
   "id": "fc339ae4",
   "metadata": {
    "ExecuteTime": {
     "end_time": "2022-07-17T12:40:50.490216Z",
     "start_time": "2022-07-17T12:40:50.473213Z"
    }
   },
   "outputs": [
    {
     "name": "stdout",
     "output_type": "stream",
     "text": [
      "Keys of iris_dataset: \n",
      "dict_keys(['data', 'target', 'frame', 'target_names', 'DESCR', 'feature_names', 'filename', 'data_module'])\n"
     ]
    }
   ],
   "source": [
    "print(\"Keys of iris_dataset: \\n{}\".format(iris_dataset.keys()))"
   ]
  },
  {
   "cell_type": "code",
   "execution_count": null,
   "id": "97f2fbf0",
   "metadata": {},
   "outputs": [],
   "source": [
    "DESCR 键对应的值是数据集的简要说明。我们这里给出说明的开头部分（你可以自己查看\n",
    "其余的内容）："
   ]
  },
  {
   "cell_type": "code",
   "execution_count": 4,
   "id": "a5dc88de",
   "metadata": {
    "ExecuteTime": {
     "end_time": "2022-07-17T12:43:02.209833Z",
     "start_time": "2022-07-17T12:43:02.200831Z"
    }
   },
   "outputs": [
    {
     "name": "stdout",
     "output_type": "stream",
     "text": [
      ".. _iris_dataset:\n",
      "\n",
      "Iris plants dataset\n",
      "--------------------\n",
      "\n",
      "**Data Set Characteristics:**\n",
      "\n",
      "    :Number of Instances: 150 (50 in each of three classes)\n",
      "    :Number of Attributes: 4 numeric, pre\n",
      "...\n"
     ]
    }
   ],
   "source": [
    "print(iris_dataset['DESCR'][:193] + \"\\n...\")"
   ]
  },
  {
   "cell_type": "code",
   "execution_count": 6,
   "id": "99f4439b",
   "metadata": {
    "ExecuteTime": {
     "end_time": "2022-07-17T12:43:49.963492Z",
     "start_time": "2022-07-17T12:43:49.955490Z"
    }
   },
   "outputs": [
    {
     "name": "stdout",
     "output_type": "stream",
     "text": [
      "Target names: ['setosa' 'versicolor' 'virginica']\n"
     ]
    }
   ],
   "source": [
    "print(\"Target names: {}\".format(iris_dataset['target_names']))"
   ]
  },
  {
   "cell_type": "code",
   "execution_count": null,
   "id": "c7cd0b21",
   "metadata": {},
   "outputs": [],
   "source": [
    "feature_names 键对应的值是一个字符串列表，对每一个特征进行了说明："
   ]
  },
  {
   "cell_type": "code",
   "execution_count": 7,
   "id": "9b11a3d5",
   "metadata": {
    "ExecuteTime": {
     "end_time": "2022-07-17T12:44:01.330104Z",
     "start_time": "2022-07-17T12:44:01.323102Z"
    }
   },
   "outputs": [
    {
     "name": "stdout",
     "output_type": "stream",
     "text": [
      "Feature names: \n",
      "['sepal length (cm)', 'sepal width (cm)', 'petal length (cm)', 'petal width (cm)']\n"
     ]
    }
   ],
   "source": [
    "print(\"Feature names: \\n{}\".format(iris_dataset['feature_names']))"
   ]
  },
  {
   "cell_type": "code",
   "execution_count": null,
   "id": "3585aa12",
   "metadata": {},
   "outputs": [],
   "source": []
  }
 ],
 "metadata": {
  "kernelspec": {
   "display_name": "Python 3 (ipykernel)",
   "language": "python",
   "name": "python3"
  },
  "language_info": {
   "codemirror_mode": {
    "name": "ipython",
    "version": 3
   },
   "file_extension": ".py",
   "mimetype": "text/x-python",
   "name": "python",
   "nbconvert_exporter": "python",
   "pygments_lexer": "ipython3",
   "version": "3.8.13"
  },
  "toc": {
   "base_numbering": 1,
   "nav_menu": {},
   "number_sections": true,
   "sideBar": true,
   "skip_h1_title": false,
   "title_cell": "Table of Contents",
   "title_sidebar": "Contents",
   "toc_cell": false,
   "toc_position": {},
   "toc_section_display": true,
   "toc_window_display": false
  },
  "varInspector": {
   "cols": {
    "lenName": 16,
    "lenType": 16,
    "lenVar": 40
   },
   "kernels_config": {
    "python": {
     "delete_cmd_postfix": "",
     "delete_cmd_prefix": "del ",
     "library": "var_list.py",
     "varRefreshCmd": "print(var_dic_list())"
    },
    "r": {
     "delete_cmd_postfix": ") ",
     "delete_cmd_prefix": "rm(",
     "library": "var_list.r",
     "varRefreshCmd": "cat(var_dic_list()) "
    }
   },
   "types_to_exclude": [
    "module",
    "function",
    "builtin_function_or_method",
    "instance",
    "_Feature"
   ],
   "window_display": false
  }
 },
 "nbformat": 4,
 "nbformat_minor": 5
}
