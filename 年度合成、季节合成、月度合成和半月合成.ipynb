{
 "cells": [
  {
   "cell_type": "code",
   "execution_count": 3,
   "id": "d24c360c",
   "metadata": {
    "ExecuteTime": {
     "end_time": "2022-08-24T02:54:14.174430Z",
     "start_time": "2022-08-24T02:54:07.608307Z"
    }
   },
   "outputs": [
    {
     "data": {
      "application/vnd.jupyter.widget-view+json": {
       "model_id": "ef6c444d3386458fb6ffb0c668aa5a3d",
       "version_major": 2,
       "version_minor": 0
      },
      "text/plain": [
       "Map(center=[20, 0], controls=(WidgetControl(options=['position', 'transparent_bg'], widget=HBox(children=(Togg…"
      ]
     },
     "metadata": {},
     "output_type": "display_data"
    }
   ],
   "source": [
    "#导入各种需要的库\n",
    "#导入各种需要的库\n",
    "import geemap\n",
    "import ee\n",
    "Map = geemap.Map()\n",
    "from IPython.display import Image\n",
    "import PySimpleGUI as sg\n",
    "from tqdm.notebook import tqdm\n",
    "from time import sleep\n",
    "import csv\n",
    "import logging\n",
    "logging.basicConfig(\n",
    "    level=logging.INFO,\n",
    "    format=\"%(asctime)s [*] %(processName)s %(message)s\"\n",
    ")\n",
    "Map"
   ]
  },
  {
   "cell_type": "code",
   "execution_count": null,
   "id": "d7bba154",
   "metadata": {},
   "outputs": [],
   "source": [
    "\n",
    "Beijing = ee.Geometry.Polygon(\n",
    "          [[[116.29730339279362, 39.99599891062294],\n",
    "            [116.29730339279362, 39.84222494267003],\n",
    "            [116.48681755294987, 39.84222494267003],\n",
    "            [116.48681755294987, 39.99599891062294]]], None, False)\n",
    "roi = Beijing\n",
    "Map.addLayer(roi, {'color':'grey'}, 'studyArea')\n",
    "Map.centerObject(roi)\n",
    "\n",
    "year = 2020\n",
    "\n",
    "# reomove cloud for Landsat-8\n",
    "def rmL8Cloud(image):\n",
    "    cloudShadowBitMask = (1 << 3)\n",
    "    cloudsBitMask = (1 << 5)\n",
    "    qa = image.select('pixel_qa')\n",
    "    mask = qa.bitwiseAnd(cloudShadowBitMask).eq(0) \\\n",
    "                 .And(qa.bitwiseAnd(cloudsBitMask).eq(0))\n",
    "    return image.updateMask(mask).toFloat().divide(10000) \\\n",
    "              .copyProperties(image) \\\n",
    "              .copyProperties(image, ['system:time_start','system:time_end','system:footprint'])\n",
    "\n",
    "l8 = ee.ImageCollection('LANDSAT/LC08/C01/T1_SR') \\\n",
    "           .filterBounds(roi) \\\n",
    "           .filterDate(ee.Date.fromYMD(year,1,1),ee.Date.fromYMD(year+1,1,1)) \\\n",
    "           .map(rmL8Cloud) \\\n",
    "           .select(['B2','B3','B4','B5','B6'])\n",
    "\n",
    "# year composite\n",
    "l8_year =  l8.median().clip(roi)\n",
    "print(\"l8_year\",l8_year)\n",
    "\n",
    "# half-year composite\n",
    "\n",
    "def func_wxg(n):\n",
    "    start = ee.Date.fromYMD(year,1,1).advance(n, 'month')\n",
    "    end = start.advance(6, 'month')\n",
    "    tmpMedian = l8.filterDate(start, end).median().clip(roi).set(\"system:time_start\", start.millis())\n",
    "    return tmpMedian\n",
    "\n",
    "l8_halfyear = ee.List.sequence(0, 1*11,6).map(func_wxg).flatten()\n",
    "l8_halfyear = ee.ImageCollection.fromImages(l8_halfyear)\n",
    "print(\"l8_halfyear\",l8_halfyear)\n",
    "\n",
    "# season composite\n",
    "\n",
    "def func_coc(n):\n",
    "    start = ee.Date.fromYMD(year,1,1).advance(n, 'month')\n",
    "    end = start.advance(3, 'month')\n",
    "    tmpMedian = l8.filterDate(start, end).median().clip(roi).set(\"system:time_start\", start.millis())\n",
    "    return tmpMedian\n",
    "\n",
    "l8_season = ee.List.sequence(0, 1*11,3).map(func_coc).flatten()\n",
    "\n",
    "l8_season = ee.ImageCollection.fromImages(l8_season)\n",
    "print(\"l8_season\",l8_season)\n",
    "\n",
    "# month composite\n",
    "\n",
    "def func_oew(n):\n",
    "    start = ee.Date.fromYMD(year,1,1).advance(n, 'month')\n",
    "    end = start.advance(1, 'month')\n",
    "    tmpMedian = l8.filterDate(start, end).median().clip(roi).set(\"system:time_start\", start.millis())\n",
    "    return tmpMedian\n",
    "\n",
    "l8_month = ee.List.sequence(0, 1*11,1).map(func_oew).flatten()\n",
    "\n",
    "\n",
    "l8_month = ee.ImageCollection.fromImages(l8_month)\n",
    "print(\"l8_month\",l8_month)\n",
    "\n",
    "# l8_halfmonth\n",
    "\n",
    "def func_wde(item):\n",
    "    start_date = ee.Date.fromYMD(year, item, 1)\n",
    "    mid_date = start_date.advance(15,'day')\n",
    "    end_date = start_date.advance(1,'month')\n",
    "    pre_month_img = l8.filterDate(start_date,mid_date).mean() \\\n",
    "                            .set('system:time_start',start_date.millis()) \\\n",
    "                            .set('time',start_date.format('YYYY-MM-dd'))\n",
    "    pro_month_img = l8.filterDate(mid_date,end_date).mean() \\\n",
    "                            .set('system:time_start',start_date.millis()) \\\n",
    "                            .set('time',mid_date.format('YYYY-MM-dd'))\n",
    "return ee.ImageCollection([pre_month_img,pro_month_img])\n",
    "\n",
    "l8_halfmonth = ee.List.sequence(1,12).map(func_wde)\n",
    "\n",
    "# define iterate function\n",
    "def accumulate(imageCol, list):\n",
    "    return ee.ImageCollection(list).merge(imageCol)\n",
    "\n",
    "# flatten each element in the l8_halfmonth collection\n",
    "l8_halfmonth = l8_halfmonth.iterate(accumulate,ee.ImageCollection([]))\n",
    "l8_halfmonth= ee.ImageCollection(l8_halfmonth)\n",
    "print(\"l8_halfmonth\",l8_halfmonth)\n",
    "\n",
    "# show the image\n",
    "visParam = {'bands':['B6', 'B5', 'B4'], 'min':0, 'max':0.3}\n",
    "Map.addLayer(l8_year, visParam, 'l8_year')\n",
    "MapMap\n"
   ]
  },
  {
   "cell_type": "code",
   "execution_count": null,
   "id": "61e4f3aa",
   "metadata": {},
   "outputs": [],
   "source": []
  }
 ],
 "metadata": {
  "kernelspec": {
   "display_name": "Python 3 (ipykernel)",
   "language": "python",
   "name": "python3"
  },
  "language_info": {
   "codemirror_mode": {
    "name": "ipython",
    "version": 3
   },
   "file_extension": ".py",
   "mimetype": "text/x-python",
   "name": "python",
   "nbconvert_exporter": "python",
   "pygments_lexer": "ipython3",
   "version": "3.8.13"
  },
  "toc": {
   "base_numbering": 1,
   "nav_menu": {},
   "number_sections": true,
   "sideBar": true,
   "skip_h1_title": false,
   "title_cell": "Table of Contents",
   "title_sidebar": "Contents",
   "toc_cell": false,
   "toc_position": {},
   "toc_section_display": true,
   "toc_window_display": false
  },
  "varInspector": {
   "cols": {
    "lenName": 16,
    "lenType": 16,
    "lenVar": 40
   },
   "kernels_config": {
    "python": {
     "delete_cmd_postfix": "",
     "delete_cmd_prefix": "del ",
     "library": "var_list.py",
     "varRefreshCmd": "print(var_dic_list())"
    },
    "r": {
     "delete_cmd_postfix": ") ",
     "delete_cmd_prefix": "rm(",
     "library": "var_list.r",
     "varRefreshCmd": "cat(var_dic_list()) "
    }
   },
   "types_to_exclude": [
    "module",
    "function",
    "builtin_function_or_method",
    "instance",
    "_Feature"
   ],
   "window_display": false
  }
 },
 "nbformat": 4,
 "nbformat_minor": 5
}
