{
 "cells": [
  {
   "cell_type": "code",
   "execution_count": 1,
   "id": "328c3b89",
   "metadata": {
    "ExecuteTime": {
     "end_time": "2022-08-24T02:36:49.729893Z",
     "start_time": "2022-08-24T02:36:42.850848Z"
    }
   },
   "outputs": [
    {
     "data": {
      "application/vnd.jupyter.widget-view+json": {
       "model_id": "9ca80515284a496ca5b6e3d824eb3f08",
       "version_major": 2,
       "version_minor": 0
      },
      "text/plain": [
       "Map(center=[20, 0], controls=(WidgetControl(options=['position', 'transparent_bg'], widget=HBox(children=(Togg…"
      ]
     },
     "metadata": {},
     "output_type": "display_data"
    }
   ],
   "source": [
    "#导入各种需要的库\n",
    "#导入各种需要的库\n",
    "import geemap\n",
    "import ee\n",
    "Map = geemap.Map()\n",
    "from IPython.display import Image\n",
    "import PySimpleGUI as sg\n",
    "from tqdm.notebook import tqdm\n",
    "from time import sleep\n",
    "import csv\n",
    "import logging\n",
    "logging.basicConfig(\n",
    "    level=logging.INFO,\n",
    "    format=\"%(asctime)s [*] %(processName)s %(message)s\"\n",
    ")\n",
    "Map"
   ]
  },
  {
   "cell_type": "code",
   "execution_count": 2,
   "id": "256a85da",
   "metadata": {
    "ExecuteTime": {
     "end_time": "2022-08-24T02:41:15.137958Z",
     "start_time": "2022-08-24T02:41:15.107952Z"
    }
   },
   "outputs": [],
   "source": [
    "js_snippet = \"\"\"\n",
    "// set study area\n",
    "var Ukraine = ee.FeatureCollection(\"FAO/GAUL/2015/level0\")\n",
    "                .filter(ee.Filter.eq('ADM0_NAME','Ukraine'));\n",
    "var roi = Ukraine;\n",
    "Map.addLayer(roi, {'color':'grey'}, 'studyArea');\n",
    "Map.centerObject(roi);\n",
    "\n",
    "var year_start = 2022;\n",
    "var year_end = 2022;\n",
    "\n",
    "var l8Col = ee.ImageCollection('LANDSAT/LC08/C02/T1_L2')\n",
    "              .filterBounds(roi)\n",
    "              .filter(ee.Filter.calendarRange(year_start, year_end,'year'));\n",
    "              \n",
    "var l9Col = ee.ImageCollection('LANDSAT/LC09/C02/T1_L2')\n",
    "              .filterBounds(roi)\n",
    "              .filter(ee.Filter.calendarRange(year_start, year_end,'year'));\n",
    "              \n",
    "var l89Col = ee.ImageCollection(l8Col.merge(l9Col));              \n",
    "\n",
    "// compute the image avaibility \n",
    "var l8Col_count = l8Col.select(\"SR_B1\").count().clip(roi);\n",
    "var l9Col_count = l9Col.select(\"SR_B1\").count().clip(roi);\n",
    "var l89Col_count = l89Col.select(\"SR_B1\").count().clip(roi);\n",
    "\n",
    "// define image render parameters\n",
    "var visParam = {\n",
    " min: 0,\n",
    " max: 10,\n",
    " palette: ['FFFFFF','CE7E45', 'DF923D', 'F1B555', 'FCD163', '99B718', '74A901', '66A000', '529400','FF0000']\n",
    "};\n",
    "\n",
    "Map.addLayer(l8Col_count,visParam,\"l8Col_count\");\n",
    "Map.addLayer(l9Col_count,visParam,\"l9Col_count\");\n",
    "Map.addLayer(l89Col_count,visParam,\"l89Col_count\");\n",
    "\"\"\"\n",
    "geemap.js_snippet_to_py(\n",
    "    js_snippet, add_new_cell=True, import_ee=True, import_geemap=True, show_map=True\n",
    ")"
   ]
  },
  {
   "cell_type": "code",
   "execution_count": 5,
   "id": "7be7857f",
   "metadata": {
    "ExecuteTime": {
     "end_time": "2022-08-24T02:45:55.888547Z",
     "start_time": "2022-08-24T02:45:50.984692Z"
    }
   },
   "outputs": [],
   "source": [
    "\n",
    "# set study area\n",
    "Ukraine = ee.FeatureCollection(\"FAO/GAUL/2015/level0\") \\\n",
    "                .filter(ee.Filter.eq('ADM0_NAME','Ukraine'))\n",
    "roi = Ukraine\n",
    "Map.addLayer(roi, {'color':'grey'}, 'studyArea')\n",
    "Map.centerObject(roi)\n",
    "\n",
    "year_start = 2022\n",
    "year_end = 2022\n",
    "\n",
    "l8Col = ee.ImageCollection('LANDSAT/LC08/C02/T1_L2') \\\n",
    "              .filterBounds(roi) \\\n",
    "              .filter(ee.Filter.calendarRange(year_start, year_end,'year'))\n",
    "\n",
    "l9Col = ee.ImageCollection('LANDSAT/LC09/C02/T1_L2') \\\n",
    "              .filterBounds(roi) \\\n",
    "              .filter(ee.Filter.calendarRange(year_start, year_end,'year'))\n",
    "\n",
    "l89Col = ee.ImageCollection(l8Col.merge(l9Col))\n",
    "\n",
    "# compute the image avaibility\n",
    "l8Col_count = l8Col.select(\"SR_B1\").count().clip(roi)\n",
    "l9Col_count = l9Col.select(\"SR_B1\").count().clip(roi)\n",
    "l89Col_count = l89Col.select(\"SR_B1\").count().clip(roi)\n",
    "\n",
    "# define image render parameters\n",
    "visParam = {\n",
    " 'min': 0,\n",
    " 'max': 80,\n",
    " 'palette': ['FFFFFF','CE7E45', 'DF923D', 'F1B555', 'FCD163', '99B718', '74A901', '66A000', '529400','FF0000']\n",
    "}\n",
    "\n",
    "Map.addLayer(l8Col_count,visParam,\"l8Col_count\")\n",
    "Map.addLayer(l9Col_count,visParam,\"l9Col_count\")\n",
    "Map.addLayer(l89Col_count,visParam,\"l89Col_count\")\n",
    "\n"
   ]
  },
  {
   "cell_type": "code",
   "execution_count": null,
   "id": "72c70d1a",
   "metadata": {},
   "outputs": [],
   "source": []
  }
 ],
 "metadata": {
  "kernelspec": {
   "display_name": "Python 3 (ipykernel)",
   "language": "python",
   "name": "python3"
  },
  "language_info": {
   "codemirror_mode": {
    "name": "ipython",
    "version": 3
   },
   "file_extension": ".py",
   "mimetype": "text/x-python",
   "name": "python",
   "nbconvert_exporter": "python",
   "pygments_lexer": "ipython3",
   "version": "3.8.13"
  },
  "toc": {
   "base_numbering": 1,
   "nav_menu": {},
   "number_sections": true,
   "sideBar": true,
   "skip_h1_title": false,
   "title_cell": "Table of Contents",
   "title_sidebar": "Contents",
   "toc_cell": false,
   "toc_position": {},
   "toc_section_display": true,
   "toc_window_display": false
  },
  "varInspector": {
   "cols": {
    "lenName": 16,
    "lenType": 16,
    "lenVar": 40
   },
   "kernels_config": {
    "python": {
     "delete_cmd_postfix": "",
     "delete_cmd_prefix": "del ",
     "library": "var_list.py",
     "varRefreshCmd": "print(var_dic_list())"
    },
    "r": {
     "delete_cmd_postfix": ") ",
     "delete_cmd_prefix": "rm(",
     "library": "var_list.r",
     "varRefreshCmd": "cat(var_dic_list()) "
    }
   },
   "types_to_exclude": [
    "module",
    "function",
    "builtin_function_or_method",
    "instance",
    "_Feature"
   ],
   "window_display": false
  }
 },
 "nbformat": 4,
 "nbformat_minor": 5
}
