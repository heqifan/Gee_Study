{
 "cells": [
  {
   "cell_type": "code",
   "execution_count": 5,
   "id": "6363ba8e",
   "metadata": {
    "ExecuteTime": {
     "end_time": "2022-08-12T07:23:20.428033Z",
     "start_time": "2022-08-12T07:23:06.331811Z"
    }
   },
   "outputs": [
    {
     "name": "stdout",
     "output_type": "stream",
     "text": [
      "{'type': 'Image', 'bands': [{'id': 'scale', 'data_type': {'type': 'PixelType', 'precision': 'double'}, 'crs': 'EPSG:4326', 'crs_transform': [1, 0, 0, 0, 1, 0]}, {'id': 'offset', 'data_type': {'type': 'PixelType', 'precision': 'double'}, 'crs': 'EPSG:4326', 'crs_transform': [1, 0, 0, 0, 1, 0]}]}\n"
     ]
    },
    {
     "data": {
      "application/vnd.jupyter.widget-view+json": {
       "model_id": "acc5b52cc1a740fab40665a29af2f24e",
       "version_major": 2,
       "version_minor": 0
      },
      "text/plain": [
       "Map(center=[35.0, 119.3], controls=(WidgetControl(options=['position', 'transparent_bg'], widget=HBox(children…"
      ]
     },
     "metadata": {},
     "output_type": "display_data"
    }
   ],
   "source": [
    "#edited by Xinglu Cheng 2021.12.3\n",
    "import ee\n",
    "import os\n",
    "from ipygee import Map \n",
    "from IPython.display import Image\n",
    "import geemap\n",
    "\n",
    "ee.Initialize()\n",
    "gee_Map = geemap.Map(center=[35.0, 119.30], zoom=5)\n",
    "gee_Map.add_basemap('Gaode.Normal')\n",
    "\n",
    "#这里是调用ipygee的Map功能，也是很好的可视化工具，但是个人更喜欢吴秋生老师的geemap\n",
    "# myMap = Map() \n",
    "# myMap.show()\n",
    "# point = ee.Geometry.Point([119.30, 35.0])\n",
    "# myMap.centerObject(point,zoom=5)\n",
    "xiajiang_shp = r\"G:\\competition\\xiajiang\\峡江县.shp\" #添加矢量数据\n",
    "study_area = geemap.shp_to_ee(xiajiang_shp)    \n",
    "# Map.centerObject(study_area, zoom=10)  #将矢量数据添加到底图中\n",
    "roi = study_area.geometry()  #获取矢量的范围\n",
    "#加入研究区\n",
    "# study_area = ee.FeatureCollection(\"users/2210902126/Study_Area\")\n",
    "#myMap.setOptions(\"HYBRID\")\n",
    "\n",
    "\n",
    "#添加时间波段的函数\n",
    "def createTimeBand(img): \n",
    "    date = img.metadata(\"date\").subtract(1960)\n",
    "    return date.rename(\"year\").clip(study_area).addBands(img)\n",
    "\n",
    "#遍历获取月降水数据，并循环计算每年的总降水量，存入list中\n",
    "datalist=ee.List([])\n",
    "year=1960\n",
    "for i in range(60):\n",
    "    datalist=datalist.add(ee.ImageCollection(\"IDAHO_EPSCOR/TERRACLIMATE\").filter(ee.Filter.date(ee.Date(str(year)+\"-01-01\"), ee.Date(str(year+1)+\"-01-01\"))).select('pr').sum().clip(study_area).set(\"date\",ee.Number(year)))\n",
    "    year += 1\n",
    "\n",
    "varycollection=ee.ImageCollection.fromImages(datalist)#将list转为ImageCollection\n",
    "varyCollection = varycollection.map(createTimeBand)#调用函数\n",
    "linear = varyCollection.reduce(ee.Reducer.linearFit())#对每个像元线性回归\n",
    "print(linear.getInfo())\n",
    "\n",
    "#渲染显示\n",
    "visualization = {\n",
    "    'max':3,\n",
    "    'min':-3,\n",
    "    'palette': ['b30000','d7301f','ef6548','fc8d59','fdbb84','fdd49e','fee8c8','f7fcf0','e0f3db','ccebc5','a8ddb5','7bccc4','4eb3d3','2b8cbe','0868ac']\n",
    "}\n",
    "gee_Map.addLayer(linear.select('scale'),visualization,name='stable pre trend')#这里可以选择“offset”波段，渲染出来的则是各个像元的截距值\n",
    "gee_Map\n"
   ]
  },
  {
   "cell_type": "code",
   "execution_count": null,
   "id": "b44a04f4",
   "metadata": {},
   "outputs": [],
   "source": []
  }
 ],
 "metadata": {
  "kernelspec": {
   "display_name": "Python 3 (ipykernel)",
   "language": "python",
   "name": "python3"
  },
  "language_info": {
   "codemirror_mode": {
    "name": "ipython",
    "version": 3
   },
   "file_extension": ".py",
   "mimetype": "text/x-python",
   "name": "python",
   "nbconvert_exporter": "python",
   "pygments_lexer": "ipython3",
   "version": "3.8.13"
  },
  "toc": {
   "base_numbering": 1,
   "nav_menu": {},
   "number_sections": true,
   "sideBar": true,
   "skip_h1_title": false,
   "title_cell": "Table of Contents",
   "title_sidebar": "Contents",
   "toc_cell": false,
   "toc_position": {},
   "toc_section_display": true,
   "toc_window_display": false
  },
  "varInspector": {
   "cols": {
    "lenName": 16,
    "lenType": 16,
    "lenVar": 40
   },
   "kernels_config": {
    "python": {
     "delete_cmd_postfix": "",
     "delete_cmd_prefix": "del ",
     "library": "var_list.py",
     "varRefreshCmd": "print(var_dic_list())"
    },
    "r": {
     "delete_cmd_postfix": ") ",
     "delete_cmd_prefix": "rm(",
     "library": "var_list.r",
     "varRefreshCmd": "cat(var_dic_list()) "
    }
   },
   "types_to_exclude": [
    "module",
    "function",
    "builtin_function_or_method",
    "instance",
    "_Feature"
   ],
   "window_display": false
  }
 },
 "nbformat": 4,
 "nbformat_minor": 5
}
