{
 "cells": [
  {
   "cell_type": "code",
   "execution_count": 34,
   "id": "620b3ac3",
   "metadata": {},
   "outputs": [
    {
     "data": {
      "application/vnd.jupyter.widget-view+json": {
       "model_id": "607e760637984955b35c1a49a053cb5c",
       "version_major": 2,
       "version_minor": 0
      },
      "text/plain": [
       "Map(center=[40, -100], controls=(WidgetControl(options=['position', 'transparent_bg'], widget=HBox(children=(T…"
      ]
     },
     "metadata": {},
     "output_type": "display_data"
    }
   ],
   "source": [
    "from tqdm.notebook import tqdm\n",
    "from time import sleep\n",
    "import calendar\n",
    "import geemap\n",
    "import ee\n",
    "import os\n",
    "ee.Initialize()\n",
    "reducer = ee.Reducer.mean()\n",
    "Map = geemap.Map()\n",
    "Map"
   ]
  },
  {
   "cell_type": "code",
   "execution_count": 35,
   "id": "b24685de",
   "metadata": {},
   "outputs": [],
   "source": [
    "'''添加都昌县矢量数据'''\n",
    "duchang_shp = \"D:\\水稻有关数据\\都昌矢量数据\\都昌矢量数据.shp\"\n",
    "duchang = geemap.shp_to_ee(duchang_shp)\n",
    "Map.addLayer(duchang, {}, 'duchang')\n",
    "Map.centerObject(duchang, zoom=10)\n",
    "roi = duchang.geometry()              #获取矢量的范围\n",
    "# tudi_shp = 'D:\\水稻有关数据\\江西省土地利用数据\\都昌土地利用矢量数据.shp'\n",
    "# tudi = geemap.shp_to_ee(tudi_shp)  \n",
    "# Map.addLayer(tudi, {}, 'tudi')\n",
    "\n",
    "# '''添加土地利用数据'''\n",
    "# tudi_tif = ee.Image(r'users/JunJiang/2015_').clip(roi)   \n",
    "# Map.addLayer(tudi_tif, {}, 'tudi_tif') \n",
    "'''土地利用数据训练样本'''\n",
    "# xunlian1_shp = r\"C:\\Users\\树风\\Documents\\WeChat Files\\wxid_yv6px43krvoq22\\FileStorage\\File\\2022-02\\竞赛1(1)\\竞赛1\\dian\\点.shp\"\n",
    "# xunlian1 = geemap.shp_to_ee(xunlian1_shp)\n",
    "# Map.addLayer(ee.Feature(xunlian1), {}, 'xunlian1')\n",
    "xunlian_shp = r\"D:\\水稻有关数据\\dian\\dian.shp\"\n",
    "xunlian = geemap.shp_to_ee(xunlian_shp)\n",
    "Map.addLayer(xunlian, {}, 'xunlian')"
   ]
  },
  {
   "cell_type": "code",
   "execution_count": 36,
   "id": "3ed9e562",
   "metadata": {
    "collapsed": true,
    "jupyter": {
     "outputs_hidden": true
    },
    "scrolled": true,
    "tags": []
   },
   "outputs": [
    {
     "name": "stdout",
     "output_type": "stream",
     "text": [
      "{'type': 'FeatureCollection', 'columns': {'Id': 'Integer', 'system:index': 'String'}, 'features': [{'type': 'Feature', 'geometry': {'type': 'Point', 'coordinates': [116.37928465941336, 29.443303665276606]}, 'id': '0', 'properties': {'Id': 2}}, {'type': 'Feature', 'geometry': {'type': 'Point', 'coordinates': [116.3346588647312, 29.392012186207477]}, 'id': '1', 'properties': {'Id': 2}}, {'type': 'Feature', 'geometry': {'type': 'Point', 'coordinates': [116.19598621203484, 29.463291013134214]}, 'id': '2', 'properties': {'Id': 2}}, {'type': 'Feature', 'geometry': {'type': 'Point', 'coordinates': [116.31964960790178, 29.335730836451486]}, 'id': '3', 'properties': {'Id': 2}}, {'type': 'Feature', 'geometry': {'type': 'Point', 'coordinates': [116.29892102507854, 29.404786487098875]}, 'id': '4', 'properties': {'Id': 2}}, {'type': 'Feature', 'geometry': {'type': 'Point', 'coordinates': [116.46513728186639, 29.396943746429972]}, 'id': '5', 'properties': {'Id': 2}}, {'type': 'Feature', 'geometry': {'type': 'Point', 'coordinates': [116.45946024012362, 29.459542808847846]}, 'id': '6', 'properties': {'Id': 2}}, {'type': 'Feature', 'geometry': {'type': 'Point', 'coordinates': [116.46662130072127, 29.35258200470186]}, 'id': '7', 'properties': {'Id': 2}}, {'type': 'Feature', 'geometry': {'type': 'Point', 'coordinates': [116.3688355069938, 29.460659435016495]}, 'id': '8', 'properties': {'Id': 2}}, {'type': 'Feature', 'geometry': {'type': 'Point', 'coordinates': [116.33758759773878, 29.283335850389438]}, 'id': '9', 'properties': {'Id': 2}}, {'type': 'Feature', 'geometry': {'type': 'Point', 'coordinates': [116.1345365228278, 29.432881855107283]}, 'id': '10', 'properties': {'Id': 2}}, {'type': 'Feature', 'geometry': {'type': 'Point', 'coordinates': [116.25648945375936, 29.354749684706515]}, 'id': '11', 'properties': {'Id': 2}}, {'type': 'Feature', 'geometry': {'type': 'Point', 'coordinates': [116.28822771817953, 29.32455119289283]}, 'id': '12', 'properties': {'Id': 2}}, {'type': 'Feature', 'geometry': {'type': 'Point', 'coordinates': [116.31462675504761, 29.428913345592836]}, 'id': '13', 'properties': {'Id': 2}}, {'type': 'Feature', 'geometry': {'type': 'Point', 'coordinates': [116.34506634003864, 29.41380476285352]}, 'id': '14', 'properties': {'Id': 2}}, {'type': 'Feature', 'geometry': {'type': 'Point', 'coordinates': [116.26007209673946, 29.475593092640075]}, 'id': '15', 'properties': {'Id': 2}}, {'type': 'Feature', 'geometry': {'type': 'Point', 'coordinates': [116.43933278300524, 29.557068396524393]}, 'id': '16', 'properties': {'Id': 2}}, {'type': 'Feature', 'geometry': {'type': 'Point', 'coordinates': [116.43270485644307, 29.514239431006057]}, 'id': '17', 'properties': {'Id': 2}}, {'type': 'Feature', 'geometry': {'type': 'Point', 'coordinates': [116.48948341314427, 29.453706676156408]}, 'id': '18', 'properties': {'Id': 2}}, {'type': 'Feature', 'geometry': {'type': 'Point', 'coordinates': [116.39271110265112, 29.390571396583603]}, 'id': '19', 'properties': {'Id': 2}}, {'type': 'Feature', 'geometry': {'type': 'Point', 'coordinates': [116.52717549349866, 29.332991060325188]}, 'id': '20', 'properties': {'Id': 2}}, {'type': 'Feature', 'geometry': {'type': 'Point', 'coordinates': [116.09432396683704, 29.41180701770468]}, 'id': '21', 'properties': {'Id': 2}}, {'type': 'Feature', 'geometry': {'type': 'Point', 'coordinates': [116.46056843455783, 29.51076601751138]}, 'id': '22', 'properties': {'Id': 2}}, {'type': 'Feature', 'geometry': {'type': 'Point', 'coordinates': [116.32539378654783, 29.403616879659907]}, 'id': '23', 'properties': {'Id': 2}}, {'type': 'Feature', 'geometry': {'type': 'Point', 'coordinates': [116.223920270655, 29.313421975670387]}, 'id': '24', 'properties': {'Id': 2}}, {'type': 'Feature', 'geometry': {'type': 'Point', 'coordinates': [116.35644696898561, 29.350235602028317]}, 'id': '25', 'properties': {'Id': 2}}, {'type': 'Feature', 'geometry': {'type': 'Point', 'coordinates': [116.43738809205982, 29.360418459085643]}, 'id': '26', 'properties': {'Id': 2}}, {'type': 'Feature', 'geometry': {'type': 'Point', 'coordinates': [116.51513162516879, 29.41828983626349]}, 'id': '27', 'properties': {'Id': 2}}, {'type': 'Feature', 'geometry': {'type': 'Point', 'coordinates': [116.39315672819178, 29.346970032772923]}, 'id': '28', 'properties': {'Id': 2}}, {'type': 'Feature', 'geometry': {'type': 'Point', 'coordinates': [116.49063859970835, 29.264790090520687]}, 'id': '29', 'properties': {'Id': 2}}, {'type': 'Feature', 'geometry': {'type': 'Point', 'coordinates': [116.57407696231753, 29.214307622355538]}, 'id': '30', 'properties': {'Id': 4}}, {'type': 'Feature', 'geometry': {'type': 'Point', 'coordinates': [116.07587183999405, 29.3372292735013]}, 'id': '31', 'properties': {'Id': 4}}, {'type': 'Feature', 'geometry': {'type': 'Point', 'coordinates': [116.08486526174472, 29.30428430049933]}, 'id': '32', 'properties': {'Id': 4}}, {'type': 'Feature', 'geometry': {'type': 'Point', 'coordinates': [116.05541488993258, 29.422588779780476]}, 'id': '33', 'properties': {'Id': 4}}, {'type': 'Feature', 'geometry': {'type': 'Point', 'coordinates': [116.09334140480487, 29.445321305137917]}, 'id': '34', 'properties': {'Id': 4}}, {'type': 'Feature', 'geometry': {'type': 'Point', 'coordinates': [116.14281047880331, 29.47334374099058]}, 'id': '35', 'properties': {'Id': 4}}, {'type': 'Feature', 'geometry': {'type': 'Point', 'coordinates': [116.23240879012268, 29.238651356310807]}, 'id': '36', 'properties': {'Id': 4}}, {'type': 'Feature', 'geometry': {'type': 'Point', 'coordinates': [116.25800208067727, 29.206197048159012]}, 'id': '37', 'properties': {'Id': 4}}, {'type': 'Feature', 'geometry': {'type': 'Point', 'coordinates': [116.30314275207623, 29.17110009918037]}, 'id': '38', 'properties': {'Id': 4}}, {'type': 'Feature', 'geometry': {'type': 'Point', 'coordinates': [116.27653918749932, 29.13947274750832]}, 'id': '39', 'properties': {'Id': 4}}, {'type': 'Feature', 'geometry': {'type': 'Point', 'coordinates': [116.211926414578, 29.108700489895767]}, 'id': '40', 'properties': {'Id': 4}}, {'type': 'Feature', 'geometry': {'type': 'Point', 'coordinates': [116.18878783106412, 29.096689282319968]}, 'id': '41', 'properties': {'Id': 4}}, {'type': 'Feature', 'geometry': {'type': 'Point', 'coordinates': [116.34250080754421, 29.198611185744618]}, 'id': '42', 'properties': {'Id': 4}}, {'type': 'Feature', 'geometry': {'type': 'Point', 'coordinates': [116.32133756146959, 29.12080152805781]}, 'id': '43', 'properties': {'Id': 4}}, {'type': 'Feature', 'geometry': {'type': 'Point', 'coordinates': [116.32696606207476, 29.163049421671325]}, 'id': '44', 'properties': {'Id': 4}}, {'type': 'Feature', 'geometry': {'type': 'Point', 'coordinates': [116.35079281679056, 29.092925156048487]}, 'id': '45', 'properties': {'Id': 4}}, {'type': 'Feature', 'geometry': {'type': 'Point', 'coordinates': [116.39038279555324, 29.116118875218977]}, 'id': '46', 'properties': {'Id': 4}}, {'type': 'Feature', 'geometry': {'type': 'Point', 'coordinates': [116.42391747100119, 29.143469224642526]}, 'id': '47', 'properties': {'Id': 4}}, {'type': 'Feature', 'geometry': {'type': 'Point', 'coordinates': [116.45917104072574, 29.16493150511594]}, 'id': '48', 'properties': {'Id': 4}}, {'type': 'Feature', 'geometry': {'type': 'Point', 'coordinates': [116.47075200323994, 29.232263795503123]}, 'id': '49', 'properties': {'Id': 4}}, {'type': 'Feature', 'geometry': {'type': 'Point', 'coordinates': [116.47542707541353, 29.205402713681554]}, 'id': '50', 'properties': {'Id': 4}}, {'type': 'Feature', 'geometry': {'type': 'Point', 'coordinates': [116.48510874938474, 29.17875313346661]}, 'id': '51', 'properties': {'Id': 4}}, {'type': 'Feature', 'geometry': {'type': 'Point', 'coordinates': [116.53367629855722, 29.169611192209093]}, 'id': '52', 'properties': {'Id': 4}}, {'type': 'Feature', 'geometry': {'type': 'Point', 'coordinates': [116.5723405522339, 29.19141296572402]}, 'id': '53', 'properties': {'Id': 4}}, {'type': 'Feature', 'geometry': {'type': 'Point', 'coordinates': [116.60191277126592, 29.225535743734213]}, 'id': '54', 'properties': {'Id': 4}}, {'type': 'Feature', 'geometry': {'type': 'Point', 'coordinates': [116.240840961525, 29.13298250205751]}, 'id': '55', 'properties': {'Id': 4}}, {'type': 'Feature', 'geometry': {'type': 'Point', 'coordinates': [116.11753510623447, 29.318960606031194]}, 'id': '56', 'properties': {'Id': 4}}, {'type': 'Feature', 'geometry': {'type': 'Point', 'coordinates': [116.18832946388439, 29.364155690667292]}, 'id': '57', 'properties': {'Id': 4}}, {'type': 'Feature', 'geometry': {'type': 'Point', 'coordinates': [116.22012566361177, 29.378176936310762]}, 'id': '58', 'properties': {'Id': 4}}, {'type': 'Feature', 'geometry': {'type': 'Point', 'coordinates': [116.45782732136006, 29.2841957121113]}, 'id': '59', 'properties': {'Id': 4}}, {'type': 'Feature', 'geometry': {'type': 'Point', 'coordinates': [116.46197469466988, 29.259531308916852]}, 'id': '60', 'properties': {'Id': 4}}, {'type': 'Feature', 'geometry': {'type': 'Point', 'coordinates': [116.14602367047803, 29.238490102072056]}, 'id': '61', 'properties': {'Id': 4}}, {'type': 'Feature', 'geometry': {'type': 'Point', 'coordinates': [116.09120670175027, 29.27016505872318]}, 'id': '62', 'properties': {'Id': 4}}, {'type': 'Feature', 'geometry': {'type': 'Point', 'coordinates': [116.1417286137145, 29.281688279744515]}, 'id': '63', 'properties': {'Id': 4}}, {'type': 'Feature', 'geometry': {'type': 'Point', 'coordinates': [116.53986218182868, 29.196816559730134]}, 'id': '64', 'properties': {'Id': 4}}, {'type': 'Feature', 'geometry': {'type': 'Point', 'coordinates': [116.24664984747267, 29.10792286935774]}, 'id': '65', 'properties': {'Id': 4}}, {'type': 'Feature', 'geometry': {'type': 'Point', 'coordinates': [116.17118931407488, 29.105772542826585]}, 'id': '66', 'properties': {'Id': 4}}, {'type': 'Feature', 'geometry': {'type': 'Point', 'coordinates': [116.17004248384629, 29.08020440774654]}, 'id': '67', 'properties': {'Id': 4}}, {'type': 'Feature', 'geometry': {'type': 'Point', 'coordinates': [116.18367501045506, 29.049391623023737]}, 'id': '68', 'properties': {'Id': 4}}, {'type': 'Feature', 'geometry': {'type': 'Point', 'coordinates': [116.27819143951173, 29.179018132450707]}, 'id': '69', 'properties': {'Id': 4}}, {'type': 'Feature', 'geometry': {'type': 'Point', 'coordinates': [116.30312854989955, 29.191787014748833]}, 'id': '70', 'properties': {'Id': 4}}, {'type': 'Feature', 'geometry': {'type': 'Point', 'coordinates': [116.06036754863982, 29.30758865573399]}, 'id': '71', 'properties': {'Id': 4}}, {'type': 'Feature', 'geometry': {'type': 'Point', 'coordinates': [116.10054259185613, 29.343648738613766]}, 'id': '72', 'properties': {'Id': 4}}, {'type': 'Feature', 'geometry': {'type': 'Point', 'coordinates': [116.04401132996661, 29.394695843708927]}, 'id': '73', 'properties': {'Id': 4}}, {'type': 'Feature', 'geometry': {'type': 'Point', 'coordinates': [116.33969159557158, 29.49078911181171]}, 'id': '74', 'properties': {'Id': 1}}, {'type': 'Feature', 'geometry': {'type': 'Point', 'coordinates': [116.33714298495505, 29.53808590868557]}, 'id': '75', 'properties': {'Id': 1}}, {'type': 'Feature', 'geometry': {'type': 'Point', 'coordinates': [116.16538870733885, 29.429550603520955]}, 'id': '76', 'properties': {'Id': 1}}, {'type': 'Feature', 'geometry': {'type': 'Point', 'coordinates': [116.12873514000003, 29.40676493085154]}, 'id': '77', 'properties': {'Id': 1}}, {'type': 'Feature', 'geometry': {'type': 'Point', 'coordinates': [116.29909535090071, 29.25330028263452]}, 'id': '78', 'properties': {'Id': 1}}, {'type': 'Feature', 'geometry': {'type': 'Point', 'coordinates': [116.38589236433441, 29.181979196246683]}, 'id': '79', 'properties': {'Id': 1}}, {'type': 'Feature', 'geometry': {'type': 'Point', 'coordinates': [116.40278115261533, 29.159380197158782]}, 'id': '80', 'properties': {'Id': 1}}, {'type': 'Feature', 'geometry': {'type': 'Point', 'coordinates': [116.42415937583328, 29.375991484481965]}, 'id': '81', 'properties': {'Id': 1}}, {'type': 'Feature', 'geometry': {'type': 'Point', 'coordinates': [116.37994358055276, 29.525801870845964]}, 'id': '82', 'properties': {'Id': 1}}, {'type': 'Feature', 'geometry': {'type': 'Point', 'coordinates': [116.50699010531437, 29.528431719609458]}, 'id': '83', 'properties': {'Id': 1}}, {'type': 'Feature', 'geometry': {'type': 'Point', 'coordinates': [116.5151905928744, 29.376447546208993]}, 'id': '84', 'properties': {'Id': 1}}, {'type': 'Feature', 'geometry': {'type': 'Point', 'coordinates': [116.52249009996875, 29.35670013483514]}, 'id': '85', 'properties': {'Id': 1}}, {'type': 'Feature', 'geometry': {'type': 'Point', 'coordinates': [116.27323575392217, 29.442167770050613]}, 'id': '86', 'properties': {'Id': 1}}, {'type': 'Feature', 'geometry': {'type': 'Point', 'coordinates': [116.24653711728922, 29.433365696917857]}, 'id': '87', 'properties': {'Id': 1}}, {'type': 'Feature', 'geometry': {'type': 'Point', 'coordinates': [116.18195338653447, 29.488462507245373]}, 'id': '88', 'properties': {'Id': 1}}, {'type': 'Feature', 'geometry': {'type': 'Point', 'coordinates': [116.29871858038291, 29.483398979739192]}, 'id': '89', 'properties': {'Id': 1}}, {'type': 'Feature', 'geometry': {'type': 'Point', 'coordinates': [116.32829329834699, 29.50521436076483]}, 'id': '90', 'properties': {'Id': 1}}, {'type': 'Feature', 'geometry': {'type': 'Point', 'coordinates': [116.35954907089335, 29.48978981696007]}, 'id': '91', 'properties': {'Id': 1}}, {'type': 'Feature', 'geometry': {'type': 'Point', 'coordinates': [116.5166679693108, 29.281201122166536]}, 'id': '92', 'properties': {'Id': 1}}, {'type': 'Feature', 'geometry': {'type': 'Point', 'coordinates': [116.2267320711539, 29.275589788813136]}, 'id': '93', 'properties': {'Id': 1}}, {'type': 'Feature', 'geometry': {'type': 'Point', 'coordinates': [116.17362853209282, 29.393873150193212]}, 'id': '94', 'properties': {'Id': 1}}, {'type': 'Feature', 'geometry': {'type': 'Point', 'coordinates': [116.49650409161524, 29.299026495148972]}, 'id': '95', 'properties': {'Id': 1}}, {'type': 'Feature', 'geometry': {'type': 'Point', 'coordinates': [116.39755290029129, 29.201868414283627]}, 'id': '96', 'properties': {'Id': 1}}, {'type': 'Feature', 'geometry': {'type': 'Point', 'coordinates': [116.37963684413913, 29.300524062817498]}, 'id': '97', 'properties': {'Id': 1}}, {'type': 'Feature', 'geometry': {'type': 'Point', 'coordinates': [116.26813761510383, 29.248488829258292]}, 'id': '98', 'properties': {'Id': 1}}, {'type': 'Feature', 'geometry': {'type': 'Point', 'coordinates': [116.28196338417762, 29.227522435131956]}, 'id': '99', 'properties': {'Id': 1}}, {'type': 'Feature', 'geometry': {'type': 'Point', 'coordinates': [116.28107396554336, 29.278125133560398]}, 'id': '100', 'properties': {'Id': 1}}, {'type': 'Feature', 'geometry': {'type': 'Point', 'coordinates': [116.23768467909154, 29.3007867794439]}, 'id': '101', 'properties': {'Id': 1}}, {'type': 'Feature', 'geometry': {'type': 'Point', 'coordinates': [116.28648359444921, 29.382294836897557]}, 'id': '102', 'properties': {'Id': 1}}, {'type': 'Feature', 'geometry': {'type': 'Point', 'coordinates': [116.28007974009994, 29.426885156924246]}, 'id': '103', 'properties': {'Id': 1}}, {'type': 'Feature', 'geometry': {'type': 'Point', 'coordinates': [116.39809862651394, 29.504884510329234]}, 'id': '104', 'properties': {'Id': 1}}, {'type': 'Feature', 'geometry': {'type': 'Point', 'coordinates': [116.2981187453505, 29.53608511805284]}, 'id': '105', 'properties': {'Id': 1}}, {'type': 'Feature', 'geometry': {'type': 'Point', 'coordinates': [116.2322366856586, 29.521123167734395]}, 'id': '106', 'properties': {'Id': 1}}, {'type': 'Feature', 'geometry': {'type': 'Point', 'coordinates': [116.48930447761526, 29.54686508600618]}, 'id': '107', 'properties': {'Id': 1}}, {'type': 'Feature', 'geometry': {'type': 'Point', 'coordinates': [116.48155714669697, 29.42024934162003]}, 'id': '108', 'properties': {'Id': 1}}, {'type': 'Feature', 'geometry': {'type': 'Point', 'coordinates': [116.36764511326315, 29.355072736356004]}, 'id': '109', 'properties': {'Id': 1}}, {'type': 'Feature', 'geometry': {'type': 'Point', 'coordinates': [116.4294317696859, 29.30439167253567]}, 'id': '110', 'properties': {'Id': 1}}, {'type': 'Feature', 'geometry': {'type': 'Point', 'coordinates': [116.42173211994786, 29.32952211509756]}, 'id': '111', 'properties': {'Id': 1}}, {'type': 'Feature', 'geometry': {'type': 'Point', 'coordinates': [116.26792906764352, 29.277510119863088]}, 'id': '112', 'properties': {'Id': 1}}, {'type': 'Feature', 'geometry': {'type': 'Point', 'coordinates': [116.14639172220387, 29.327357185711747]}, 'id': '113', 'properties': {'Id': 1}}, {'type': 'Feature', 'geometry': {'type': 'Point', 'coordinates': [116.18615555320507, 29.297956737050594]}, 'id': '114', 'properties': {'Id': 1}}, {'type': 'Feature', 'geometry': {'type': 'Point', 'coordinates': [116.2183741272279, 29.49443551871429]}, 'id': '115', 'properties': {'Id': 1}}, {'type': 'Feature', 'geometry': {'type': 'Point', 'coordinates': [116.57363862774346, 29.244219972383235]}, 'id': '116', 'properties': {'Id': 1}}, {'type': 'Feature', 'geometry': {'type': 'Point', 'coordinates': [116.55684831311014, 29.28870891776009]}, 'id': '117', 'properties': {'Id': 1}}, {'type': 'Feature', 'geometry': {'type': 'Point', 'coordinates': [116.39342035632153, 29.402443456558885]}, 'id': '118', 'properties': {'Id': 1}}, {'type': 'Feature', 'geometry': {'type': 'Point', 'coordinates': [116.19273418525684, 29.27556256837659]}, 'id': '119', 'properties': {'Id': 5}}, {'type': 'Feature', 'geometry': {'type': 'Point', 'coordinates': [116.40634241490908, 29.492356798966142]}, 'id': '120', 'properties': {'Id': 5}}, {'type': 'Feature', 'geometry': {'type': 'Point', 'coordinates': [116.55234764696515, 29.24771126887701]}, 'id': '121', 'properties': {'Id': 5}}, {'type': 'Feature', 'geometry': {'type': 'Point', 'coordinates': [116.3089274701469, 29.46367853893006]}, 'id': '122', 'properties': {'Id': 5}}, {'type': 'Feature', 'geometry': {'type': 'Point', 'coordinates': [116.53003363149944, 29.31177040035074]}, 'id': '123', 'properties': {'Id': 5}}, {'type': 'Feature', 'geometry': {'type': 'Point', 'coordinates': [116.20184452737126, 29.29422642119281]}, 'id': '124', 'properties': {'Id': 5}}, {'type': 'Feature', 'geometry': {'type': 'Point', 'coordinates': [116.20858794527693, 29.42672185410315]}, 'id': '125', 'properties': {'Id': 5}}]}\n"
     ]
    }
   ],
   "source": [
    "print(xunlian.getInfo())\n",
    "#print(xunlian2.first().getInfo())\n",
    "# Map.centerObject(xunlian.first(), zoom=20)"
   ]
  },
  {
   "cell_type": "code",
   "execution_count": 43,
   "id": "47577672",
   "metadata": {},
   "outputs": [],
   "source": [
    "'''定义裁剪函数'''\n",
    "def clipp(image):\n",
    "     return image.clip(roi)\n",
    "\n",
    "'''定义计算lwsi指数'''\n",
    "def lswi_(image):\n",
    "    new_image = image.normalizedDifference(['B4','B5']).rename('lswi')\n",
    "    return new_image.updateMask(new_image.gt(-1).And(new_image.lt(1)))\n",
    "\n",
    "'''定义去云函数'''\n",
    "def cloudMaskL7(image):\n",
    "    qa = image.select('pixel_qa')\n",
    "    cloud = qa.bitwiseAnd(1 << 5) \\\n",
    "          .And(qa.bitwiseAnd(1 << 7)) \\\n",
    "          .Or(qa.bitwiseAnd(1 << 3))\n",
    "    mask2 = image.mask().reduce(ee.Reducer.min())\n",
    "    return image.updateMask(cloud.Not()).updateMask(mask2)\n",
    "\n",
    "'''定义按年提取的lswi指数的监督分类'''\n",
    "\n",
    "def xun_year_lswi(collections,zhishu_name):\n",
    "    for year in range(2000,2021):\n",
    "        date = (f\"{year}-01-01\",f\"{year}-12-31\")\n",
    "        print(str(date[0]),str(date[1]))\n",
    "        col_mean = collections.filterDate(str(date[0]),str(date[1])).select(['B4', 'B5', 'pixel_qa']).map(cloudMaskL7).map(lswi_).map(clipp).mean()\n",
    "        #print(col_mean.size().getInfo())\n",
    "        training = col_mean.sampleRegions(**{'collection': xunlian,'properties': ['Id'],'scale': 30})\n",
    "        trained = ee.Classifier.smileRandomForest(numberOfTrees=30).train(training, 'Id')\n",
    "        result = col_mean.classify(trained)       \n",
    "        Map.addLayer(result.randomVisualizer(),{}, f'{zhishu_name}-classfied-{year}')\n",
    "        print(f'{zhishu_name}-{year}-is trained ok')\n",
    "    print(f'{zhishu_name}-is trained ok')\n",
    "    print('---------------------------')\n",
    "    \n",
    "'''定义按年提取的evi指数的监督分类'''\n",
    "def xun_year_evi(collections,zhishu_name):\n",
    "    for year in range(2000,2021):\n",
    "        date = (f\"{year}-01-01\",f\"{year}-12-31\")\n",
    "        print(str(date[0]),str(date[1]))\n",
    "        col_mean = collections.filterDate(str(date[0]),str(date[1])).map(clipp).mean()\n",
    "        training = col_mean.sampleRegions(**{'collection': xunlian,'properties': ['Id'],'scale': 30})\n",
    "        trained = ee.Classifier.smileRandomForest(numberOfTrees=30).train(training, 'Id')\n",
    "        result = col_mean.classify(trained)       \n",
    "        Map.addLayer(result.randomVisualizer(),{}, f'{zhishu_name}-classfied-{year}')\n",
    "        print(f'{zhishu_name}-{year}-is trained ok')\n",
    "    print(f'{zhishu_name}-is trained ok')\n",
    "    print('---------------------------')\n",
    "\n",
    "'''定义按月提取的evi指数的监督分类'''\n",
    "def xun_month_evi(collections,zhishu_name):\n",
    "    for year in range(2006,2021):\n",
    "        for month in range(1,13):\n",
    "            days = calendar.monthrange(year,month)\n",
    "            date = (f\"{year}-{'%02d' % month}-01\",f\"{year}-{'%02d' % month}-{'%02d' % days[1]}\")\n",
    "            #print(date[0],date[1])\n",
    "            col_mean = collections.filterDate(str(date[0]),str(date[1])).select(['B4', 'B5', 'pixel_qa']).map(clipp)\n",
    "#             print(col_mean.size().getInfo())\n",
    "            if col_mean.size().getInfo() == 0:\n",
    "                continue\n",
    "            col_mean = collections.filterDate(str(date[0]),str(date[1])).select(['EVI']).map(clipp).mean()\n",
    "            training = col_mean.sampleRegions(**{'collection': xunlian,'properties': ['Id'],'scale': 30})\n",
    "#             withRandom = training.randomColumn('random')                  #样本点随机的排列\n",
    "#             split = 0.7                       #我们想保留一些数据进行测试，以避免模型过度拟合。\n",
    "#             trainingPartition = withRandom.filter(ee.Filter.lt('random', split))     #筛选70%的样本作为训练样本\n",
    "#             testingPartition = withRandom.filter(ee.Filter.gte('random', split))    #筛选30%的样本作为测试样本\n",
    "            trained = ee.Classifier.smileRandomForest(numberOfTrees=30).train(training, 'Id')\n",
    "            result = col_mean.classify(trained)       \n",
    "            Map.addLayer(result, {}, f'{zhishu_name}-classfied-{year}-{month}')\n",
    "            print(f'{zhishu_name}-{year}-{month}-is trained ok')\n",
    "    print(f'{zhishu_name}-is trained ok')\n",
    "    print('---------------------------')\n",
    "'''定义按月提取的lswi指数的监督分类'''\n",
    "def xun_month_lswi(collections,zhishu_name):\n",
    "    for year in range(2000,2021):\n",
    "        for month in range(1,13):\n",
    "            days = calendar.monthrange(year,month)\n",
    "            date = (f\"{year}-{'%02d' % month}-01\",f\"{year}-{'%02d' % month}-{'%02d' % days[1]}\")\n",
    "            col_mean = collections.filterDate(str(date[0]),str(date[1])).select(['B4', 'B5', 'pixel_qa']).map(cloudMaskL7).map(lswi_).map(clipp)\n",
    "            if col_mean.size().getInfo() == 0:\n",
    "                continue\n",
    "            col_mean = col_mean.mean()\n",
    "            training = col_mean.sampleRegions(**{'collection': xunlian,'properties': ['Id'],'scale': 30})\n",
    "#             withRandom = training.randomColumn('random')                  #样本点随机的排列\n",
    "#             split = 0.7                       #我们想保留一些数据进行测试，以避免模型过度拟合。\n",
    "#             trainingPartition = withRandom.filter(ee.Filter.lt('random', split))     #筛选70%的样本作为训练样本\n",
    "#             testingPartition = withRandom.filter(ee.Filter.gte('random', split))    #筛选30%的样本作为测试样本\n",
    "            trained = ee.Classifier.smileRandomForest(numberOfTrees=100).train(training, 'Id')\n",
    "            result = col_mean.classify(trained)       \n",
    "            Map.addLayer(result.randomVisualizer(), {}, f'{zhishu_name}-classfied-{year}-{month}')\n",
    "            print(f'{zhishu_name}-{year}-{month}-is trained ok')\n",
    "    print(f'{zhishu_name}-is trained ok')\n",
    "    print('---------------------------')\n",
    "    \n",
    "'''定义按每8天提取的evi指数的监督分类'''\n",
    "def xun_day_evi(collections,zhishu_name):\n",
    "    for year in range(2000,2021):\n",
    "        for month in range(1,13):\n",
    "            for day in range(1,31,8):\n",
    "                days = calendar.monthrange(year,month)\n",
    "                day2 = day + 7\n",
    "                if day == 25:\n",
    "                    day2 = days[1]\n",
    "                date = (f\"{year}-{'%02d' % month}-{'%02d' % day}\",f\"{year}-{'%02d' % month}-{'%02d' % (day2)}\")\n",
    "                col_cols = collections.filterDate(str(date[0]),str(date[1])).map(clipp)\n",
    "                print(f\"{year}-{'%02d' % month}-{'%02d' % day}-{year}-{'%02d' % month}-{'%02d' % (day2)}的影像张数为：\",col_cols.size().getInfo())\n",
    "                if col_cols.size().getInfo()==0:\n",
    "                    continue\n",
    "                col_last = col_cols.first()\n",
    "                col_last = ee.Image(ee.List(col_cols.toList(1)).reduce(ee.Reducer.last()))\n",
    "                #print(col_last.getInfo())\n",
    "                training = col_last.sampleRegions(**{'collection': xunlian,'properties': ['Id'],'scale': 30})\n",
    "                trained = ee.Classifier.smileRandomForest(numberOfTrees=100).setOutputMode('REGRESSION').train(training, 'Id')\n",
    "                result = col_last.classify(trained)\n",
    "                Map.addLayer(result.randomVisualizer(), {}, f\"{zhishu_name}-classfied-{year}-{month}-{'%02d' % day}-{'%02d' % (day2)}\")\n",
    "                #Map.addLayer(col_last, {}, f\"{zhishu_name}-classfied-{year}-{month}-{'%02d' % day}-{'%02d' % (day2)}\")\n",
    "                print(f\"{zhishu_name}-{year}-{month}-{'%02d' % day}-{year}————{month}-{'%02d' % (day2)}is trained ok\")\n",
    "    print(f'{zhishu_name}-is trained ok')\n",
    "    print('---------------------------')\n",
    "    \n",
    "'''定义按每8天提取的lswi指数的监督分类'''\n",
    "def xun_day_lswi(collections,zhishu_name):\n",
    "    for year in range(2000,2021):\n",
    "        for month in range(1,13):\n",
    "            for day in range(1,31,8):\n",
    "                days = calendar.monthrange(year,month)\n",
    "                day2 = day + 7\n",
    "                if day == 25:\n",
    "                    day2 = days[1]\n",
    "                date = (f\"{year}-{'%02d' % month}-{'%02d' % day}\",f\"{year}-{'%02d' % month}-{'%02d' % (day2)}\")\n",
    "                col_cols = collections.filterDate(str(date[0]),str(date[1])).select(['B4', 'B5', 'pixel_qa']).map(cloudMaskL7).map(lswi_).map(clipp)\n",
    "                print(f\"{year}-{'%02d' % month}-{'%02d' % day}-{year}-{'%02d' % month}-{'%02d' % (day2)}的影像张数为：\",col_cols.size().getInfo())\n",
    "                if col_cols.size().getInfo()==0:\n",
    "                    continue\n",
    "                col_last = col_cols.first()\n",
    "                #col_last = ee.List(col_cols.toList(1)).reduce(ee.Reducer.last())\n",
    "                try:\n",
    "                    training = col_last.sampleRegions(**{'collection': xunlian,'properties': ['Id'],'scale': 30})\n",
    "                    trained = ee.Classifier.smileRandomForest(numberOfTrees=100).setOutputMode('REGRESSION').train(training, 'Id')\n",
    "                    result = col_last.classify(trained)\n",
    "                    Map.addLayer(result.randomVisualizer(), {}, f\"{zhishu_name}-classfied-{year}-{month}-{'%02d' % day}-{'%02d' % (day2)}\")\n",
    "                \n",
    "                #Map.addLayer(col_last, {}, f\"{zhishu_name}-classfied-{year}-{month}-{'%02d' % day}-{'%02d' % (day2)}\")\n",
    "                print(f\"{zhishu_name}-{year}-{month}-{'%02d' % day}-{year}————{month}-{'%02d' % (day2)}is trained ok\")\n",
    "    print(f'{zhishu_name}-is trained ok')\n",
    "    print('---------------------------')\n",
<<<<<<< HEAD
    "\n",
    "'''定义分隔影像下载的函数'''\n",
    "def clip_dow_merge(geo: ee.Geometry, image: ee.Image, outfile: str, scale: int,\n",
    "                   crs='epsg:4326', sep=0.25):\n",
    "    \"\"\"\n",
    "\n",
    "    Args:\n",
    "        geo: ee.Geometry, 需要下载的区域矢量几何\n",
    "        image: ee.Image, 需要下载的影像\n",
    "        outfile: str, 输出文件路径和名称，不需要文件后缀，下载的影响默认后缀为tif\n",
    "        scale: int, 下载时的像元大小\n",
    "        crs: str, 下载影像的投影，默认为 'epsg:4326' wgs1984投影\n",
    "        sep: float, 单波段10m分辨率像元的影像裁剪大小(单位：经纬度)，默认为0.25\n",
    "    Returns: None\n",
    "\n",
    "    \"\"\"\n",
    "    import os\n",
    "    import numpy as np\n",
    "    import rasterio\n",
    "    from glob import glob\n",
    "    from rasterio.merge import merge\n",
    "    import shutil\n",
    "    import geemap\n",
    "    import math\n",
    "    bounds = geo.bounds()\n",
    "    bands = image.bandNames().size().getInfo()\n",
    "    poy = np.array(bounds.coordinates().getInfo()[0])\n",
    "    min_x = poy[:, 0].min()\n",
    "    max_x = poy[:, 0].max()\n",
    "    min_y = poy[:, 1].min()\n",
    "    max_y = poy[:, 1].max()\n",
    "    step = scale / 10 * sep / (int(math.sqrt(bands))+1)\n",
    "    end_x = int((max_x - min_x) / step) + 1\n",
    "    end_y = int((max_y - min_y) / step) + 1\n",
    "    polys = []\n",
    "    for i in range(end_y):\n",
    "        y1 = min_y + step * i\n",
    "        y2 = min_y + step * (i + 1)\n",
    "        if y2 > max_y:\n",
    "            y2 = max_y\n",
    "        for j in range(end_x):\n",
    "            x1 = min_x + step * j\n",
    "            x2 = min_x + step * (j + 1)\n",
    "            if x2 > max_x:\n",
    "                x2 = max_x\n",
    "            poly = ee.Geometry(ee.Geometry.Rectangle([float(x1), float(y1), float(x2), float(y2)]), None, False)\n",
    "            polys.append(poly)\n",
    "    if len(polys) > 1:\n",
    "        print(f\"分割成{len(polys)}份, 开始下载:\")\n",
    "        path = outfile+'_mk'\n",
    "        t = 1\n",
    "        if not os.path.exists(path):\n",
    "            t = 0\n",
    "            os.makedirs(path)\n",
    "        for j, i in enumerate(polys):\n",
    "            if not os.path.exists(path+f'/temp_{j}.tif'):\n",
    "                if t:\n",
    "                    clip_dow_merge(i, image, path + f'/temp_{j}', scale, sep=sep*0.5)\n",
    "                else:\n",
    "                    geemap.ee_export_image(image, path + f'/temp_{j}.tif', scale=scale, crs=crs, region=i)\n",
    "            else:\n",
    "                continue\n",
    "        files = glob(path+\"/*.tif\")\n",
    "        if len(files) == len(polys):\n",
    "            src_files_to_mosaic = []\n",
    "            for tif_f in files:\n",
    "                src = rasterio.open(tif_f)\n",
    "                src_files_to_mosaic.append(src)\n",
    "            mosaic, out_trans = merge(src_files_to_mosaic)\n",
    "            out_meta = src.meta.copy()\n",
    "            out_meta.update({\"driver\": \"GTiff\",\n",
    "                             \"height\": mosaic.shape[1],\n",
    "                             \"width\": mosaic.shape[2],\n",
    "                             \"transform\": out_trans,\n",
    "                             })\n",
    "            with rasterio.open(outfile+\".tif\", \"w\", **out_meta) as dest:\n",
    "                dest.write(mosaic)\n",
    "            for src in src_files_to_mosaic:\n",
    "                src.close()\n",
    "            shutil.rmtree(path)\n",
    "        else:\n",
    "            print('下载不完全！！')\n",
    "    else:\n",
    "        geemap.ee_export_image(image, outfile+'.tif', scale=scale, crs=crs, region=geo)\n",
    "    print(\"download successful !!!\")"
=======
    "\n"
>>>>>>> 9323533 (first commit)
   ]
  },
  {
   "cell_type": "code",
   "execution_count": 38,
   "id": "25a3add8",
   "metadata": {},
   "outputs": [],
   "source": [
    "evi_collections = ee.ImageCollection(\"LANDSAT/LE07/C01/T1_8DAY_EVI\").filterBounds(roi)\n",
    "lswi_collections = ee.ImageCollection(\"LANDSAT/LE07/C01/T1_SR\").filterBounds(roi)"
   ]
  },
  {
   "cell_type": "code",
   "execution_count": 44,
   "id": "b2953e23",
   "metadata": {},
   "outputs": [
    {
     "name": "stdout",
     "output_type": "stream",
     "text": [
      "EVI-2006-1-is trained ok\n",
      "EVI-2006-2-is trained ok\n",
      "EVI-2006-3-is trained ok\n",
      "EVI-2006-4-is trained ok\n",
      "EVI-2006-5-is trained ok\n",
      "EVI-2006-6-is trained ok\n"
     ]
    },
    {
     "ename": "EEException",
     "evalue": "Classifier training failed: 'Only one class.'.",
     "output_type": "error",
     "traceback": [
      "\u001b[1;31m---------------------------------------------------------------------------\u001b[0m",
      "\u001b[1;31mHttpError\u001b[0m                                 Traceback (most recent call last)",
      "\u001b[1;32mD:\\anaconda\\lib\\site-packages\\ee\\data.py\u001b[0m in \u001b[0;36m_execute_cloud_call\u001b[1;34m(call, num_retries)\u001b[0m\n\u001b[0;32m    333\u001b[0m   \u001b[1;32mtry\u001b[0m\u001b[1;33m:\u001b[0m\u001b[1;33m\u001b[0m\u001b[1;33m\u001b[0m\u001b[0m\n\u001b[1;32m--> 334\u001b[1;33m     \u001b[1;32mreturn\u001b[0m \u001b[0mcall\u001b[0m\u001b[1;33m.\u001b[0m\u001b[0mexecute\u001b[0m\u001b[1;33m(\u001b[0m\u001b[0mnum_retries\u001b[0m\u001b[1;33m=\u001b[0m\u001b[0mnum_retries\u001b[0m\u001b[1;33m)\u001b[0m\u001b[1;33m\u001b[0m\u001b[1;33m\u001b[0m\u001b[0m\n\u001b[0m\u001b[0;32m    335\u001b[0m   \u001b[1;32mexcept\u001b[0m \u001b[0mgoogleapiclient\u001b[0m\u001b[1;33m.\u001b[0m\u001b[0merrors\u001b[0m\u001b[1;33m.\u001b[0m\u001b[0mHttpError\u001b[0m \u001b[1;32mas\u001b[0m \u001b[0me\u001b[0m\u001b[1;33m:\u001b[0m\u001b[1;33m\u001b[0m\u001b[1;33m\u001b[0m\u001b[0m\n",
      "\u001b[1;32mD:\\anaconda\\lib\\site-packages\\googleapiclient\\_helpers.py\u001b[0m in \u001b[0;36mpositional_wrapper\u001b[1;34m(*args, **kwargs)\u001b[0m\n\u001b[0;32m    133\u001b[0m                     \u001b[0mlogger\u001b[0m\u001b[1;33m.\u001b[0m\u001b[0mwarning\u001b[0m\u001b[1;33m(\u001b[0m\u001b[0mmessage\u001b[0m\u001b[1;33m)\u001b[0m\u001b[1;33m\u001b[0m\u001b[1;33m\u001b[0m\u001b[0m\n\u001b[1;32m--> 134\u001b[1;33m             \u001b[1;32mreturn\u001b[0m \u001b[0mwrapped\u001b[0m\u001b[1;33m(\u001b[0m\u001b[1;33m*\u001b[0m\u001b[0margs\u001b[0m\u001b[1;33m,\u001b[0m \u001b[1;33m**\u001b[0m\u001b[0mkwargs\u001b[0m\u001b[1;33m)\u001b[0m\u001b[1;33m\u001b[0m\u001b[1;33m\u001b[0m\u001b[0m\n\u001b[0m\u001b[0;32m    135\u001b[0m \u001b[1;33m\u001b[0m\u001b[0m\n",
      "\u001b[1;32mD:\\anaconda\\lib\\site-packages\\googleapiclient\\http.py\u001b[0m in \u001b[0;36mexecute\u001b[1;34m(self, http, num_retries)\u001b[0m\n\u001b[0;32m    914\u001b[0m         \u001b[1;32mif\u001b[0m \u001b[0mresp\u001b[0m\u001b[1;33m.\u001b[0m\u001b[0mstatus\u001b[0m \u001b[1;33m>=\u001b[0m \u001b[1;36m300\u001b[0m\u001b[1;33m:\u001b[0m\u001b[1;33m\u001b[0m\u001b[1;33m\u001b[0m\u001b[0m\n\u001b[1;32m--> 915\u001b[1;33m             \u001b[1;32mraise\u001b[0m \u001b[0mHttpError\u001b[0m\u001b[1;33m(\u001b[0m\u001b[0mresp\u001b[0m\u001b[1;33m,\u001b[0m \u001b[0mcontent\u001b[0m\u001b[1;33m,\u001b[0m \u001b[0muri\u001b[0m\u001b[1;33m=\u001b[0m\u001b[0mself\u001b[0m\u001b[1;33m.\u001b[0m\u001b[0muri\u001b[0m\u001b[1;33m)\u001b[0m\u001b[1;33m\u001b[0m\u001b[1;33m\u001b[0m\u001b[0m\n\u001b[0m\u001b[0;32m    916\u001b[0m         \u001b[1;32mreturn\u001b[0m \u001b[0mself\u001b[0m\u001b[1;33m.\u001b[0m\u001b[0mpostproc\u001b[0m\u001b[1;33m(\u001b[0m\u001b[0mresp\u001b[0m\u001b[1;33m,\u001b[0m \u001b[0mcontent\u001b[0m\u001b[1;33m)\u001b[0m\u001b[1;33m\u001b[0m\u001b[1;33m\u001b[0m\u001b[0m\n",
      "\u001b[1;31mHttpError\u001b[0m: <HttpError 400 when requesting https://earthengine.googleapis.com/v1alpha/projects/earthengine-legacy/maps?fields=name&alt=json returned \"Classifier training failed: 'Only one class.'.\". Details: \"Classifier training failed: 'Only one class.'.\">",
      "\nDuring handling of the above exception, another exception occurred:\n",
      "\u001b[1;31mEEException\u001b[0m                               Traceback (most recent call last)",
      "\u001b[1;32mC:\\WINDOWS\\TEMP/ipykernel_88004/3434151704.py\u001b[0m in \u001b[0;36m<module>\u001b[1;34m\u001b[0m\n\u001b[0;32m      2\u001b[0m \u001b[1;31m#xun_year_evi(evi_collections,\"EVI\")\u001b[0m\u001b[1;33m\u001b[0m\u001b[1;33m\u001b[0m\u001b[0m\n\u001b[0;32m      3\u001b[0m \u001b[1;31m#xun_year_lswi(lswi_collections,\"LSWI\")\u001b[0m\u001b[1;33m\u001b[0m\u001b[1;33m\u001b[0m\u001b[0m\n\u001b[1;32m----> 4\u001b[1;33m \u001b[0mxun_month_evi\u001b[0m\u001b[1;33m(\u001b[0m\u001b[0mevi_collections\u001b[0m\u001b[1;33m,\u001b[0m\u001b[1;34m\"EVI\"\u001b[0m\u001b[1;33m)\u001b[0m\u001b[1;33m\u001b[0m\u001b[1;33m\u001b[0m\u001b[0m\n\u001b[0m\u001b[0;32m      5\u001b[0m \u001b[0mxun_month_lswi\u001b[0m\u001b[1;33m(\u001b[0m\u001b[0mlswi_collections\u001b[0m\u001b[1;33m,\u001b[0m\u001b[1;34m\"LSWI\"\u001b[0m\u001b[1;33m)\u001b[0m\u001b[1;33m\u001b[0m\u001b[1;33m\u001b[0m\u001b[0m\n\u001b[0;32m      6\u001b[0m \u001b[1;31m# xun_day_evi(evi_collections,\"EVI\")\u001b[0m\u001b[1;33m\u001b[0m\u001b[1;33m\u001b[0m\u001b[0m\n",
      "\u001b[1;32mC:\\WINDOWS\\TEMP/ipykernel_88004/176928717.py\u001b[0m in \u001b[0;36mxun_month_evi\u001b[1;34m(collections, zhishu_name)\u001b[0m\n\u001b[0;32m     66\u001b[0m             \u001b[0mtrained\u001b[0m \u001b[1;33m=\u001b[0m \u001b[0mee\u001b[0m\u001b[1;33m.\u001b[0m\u001b[0mClassifier\u001b[0m\u001b[1;33m.\u001b[0m\u001b[0msmileRandomForest\u001b[0m\u001b[1;33m(\u001b[0m\u001b[0mnumberOfTrees\u001b[0m\u001b[1;33m=\u001b[0m\u001b[1;36m30\u001b[0m\u001b[1;33m)\u001b[0m\u001b[1;33m.\u001b[0m\u001b[0mtrain\u001b[0m\u001b[1;33m(\u001b[0m\u001b[0mtraining\u001b[0m\u001b[1;33m,\u001b[0m \u001b[1;34m'Id'\u001b[0m\u001b[1;33m)\u001b[0m\u001b[1;33m\u001b[0m\u001b[1;33m\u001b[0m\u001b[0m\n\u001b[0;32m     67\u001b[0m             \u001b[0mresult\u001b[0m \u001b[1;33m=\u001b[0m \u001b[0mcol_mean\u001b[0m\u001b[1;33m.\u001b[0m\u001b[0mclassify\u001b[0m\u001b[1;33m(\u001b[0m\u001b[0mtrained\u001b[0m\u001b[1;33m)\u001b[0m\u001b[1;33m\u001b[0m\u001b[1;33m\u001b[0m\u001b[0m\n\u001b[1;32m---> 68\u001b[1;33m             \u001b[0mMap\u001b[0m\u001b[1;33m.\u001b[0m\u001b[0maddLayer\u001b[0m\u001b[1;33m(\u001b[0m\u001b[0mresult\u001b[0m\u001b[1;33m,\u001b[0m \u001b[1;33m{\u001b[0m\u001b[1;33m}\u001b[0m\u001b[1;33m,\u001b[0m \u001b[1;34mf'{zhishu_name}-classfied-{year}-{month}'\u001b[0m\u001b[1;33m)\u001b[0m\u001b[1;33m\u001b[0m\u001b[1;33m\u001b[0m\u001b[0m\n\u001b[0m\u001b[0;32m     69\u001b[0m             \u001b[0mprint\u001b[0m\u001b[1;33m(\u001b[0m\u001b[1;34mf'{zhishu_name}-{year}-{month}-is trained ok'\u001b[0m\u001b[1;33m)\u001b[0m\u001b[1;33m\u001b[0m\u001b[1;33m\u001b[0m\u001b[0m\n\u001b[0;32m     70\u001b[0m     \u001b[0mprint\u001b[0m\u001b[1;33m(\u001b[0m\u001b[1;34mf'{zhishu_name}-is trained ok'\u001b[0m\u001b[1;33m)\u001b[0m\u001b[1;33m\u001b[0m\u001b[1;33m\u001b[0m\u001b[0m\n",
      "\u001b[1;32mD:\\anaconda\\lib\\site-packages\\geemap\\geemap.py\u001b[0m in \u001b[0;36madd_ee_layer\u001b[1;34m(self, ee_object, vis_params, name, shown, opacity)\u001b[0m\n\u001b[0;32m   1392\u001b[0m                 \u001b[1;32mraise\u001b[0m \u001b[0mException\u001b[0m\u001b[1;33m(\u001b[0m\u001b[0me\u001b[0m\u001b[1;33m)\u001b[0m\u001b[1;33m\u001b[0m\u001b[1;33m\u001b[0m\u001b[0m\n\u001b[0;32m   1393\u001b[0m \u001b[1;33m\u001b[0m\u001b[0m\n\u001b[1;32m-> 1394\u001b[1;33m         \u001b[0mmap_id_dict\u001b[0m \u001b[1;33m=\u001b[0m \u001b[0mee\u001b[0m\u001b[1;33m.\u001b[0m\u001b[0mImage\u001b[0m\u001b[1;33m(\u001b[0m\u001b[0mimage\u001b[0m\u001b[1;33m)\u001b[0m\u001b[1;33m.\u001b[0m\u001b[0mgetMapId\u001b[0m\u001b[1;33m(\u001b[0m\u001b[0mvis_params\u001b[0m\u001b[1;33m)\u001b[0m\u001b[1;33m\u001b[0m\u001b[1;33m\u001b[0m\u001b[0m\n\u001b[0m\u001b[0;32m   1395\u001b[0m         tile_layer = ipyleaflet.TileLayer(\n\u001b[0;32m   1396\u001b[0m             \u001b[0murl\u001b[0m\u001b[1;33m=\u001b[0m\u001b[0mmap_id_dict\u001b[0m\u001b[1;33m[\u001b[0m\u001b[1;34m\"tile_fetcher\"\u001b[0m\u001b[1;33m]\u001b[0m\u001b[1;33m.\u001b[0m\u001b[0murl_format\u001b[0m\u001b[1;33m,\u001b[0m\u001b[1;33m\u001b[0m\u001b[1;33m\u001b[0m\u001b[0m\n",
      "\u001b[1;32mD:\\anaconda\\lib\\site-packages\\ee\\image.py\u001b[0m in \u001b[0;36mgetMapId\u001b[1;34m(self, vis_params)\u001b[0m\n\u001b[0;32m    128\u001b[0m     \u001b[0mvis_image\u001b[0m\u001b[1;33m,\u001b[0m \u001b[0mrequest\u001b[0m \u001b[1;33m=\u001b[0m \u001b[0mself\u001b[0m\u001b[1;33m.\u001b[0m\u001b[0m_apply_visualization\u001b[0m\u001b[1;33m(\u001b[0m\u001b[0mvis_params\u001b[0m\u001b[1;33m)\u001b[0m\u001b[1;33m\u001b[0m\u001b[1;33m\u001b[0m\u001b[0m\n\u001b[0;32m    129\u001b[0m     \u001b[0mrequest\u001b[0m\u001b[1;33m[\u001b[0m\u001b[1;34m'image'\u001b[0m\u001b[1;33m]\u001b[0m \u001b[1;33m=\u001b[0m \u001b[0mvis_image\u001b[0m\u001b[1;33m\u001b[0m\u001b[1;33m\u001b[0m\u001b[0m\n\u001b[1;32m--> 130\u001b[1;33m     \u001b[0mresponse\u001b[0m \u001b[1;33m=\u001b[0m \u001b[0mdata\u001b[0m\u001b[1;33m.\u001b[0m\u001b[0mgetMapId\u001b[0m\u001b[1;33m(\u001b[0m\u001b[0mrequest\u001b[0m\u001b[1;33m)\u001b[0m\u001b[1;33m\u001b[0m\u001b[1;33m\u001b[0m\u001b[0m\n\u001b[0m\u001b[0;32m    131\u001b[0m     \u001b[0mresponse\u001b[0m\u001b[1;33m[\u001b[0m\u001b[1;34m'image'\u001b[0m\u001b[1;33m]\u001b[0m \u001b[1;33m=\u001b[0m \u001b[0mself\u001b[0m\u001b[1;33m\u001b[0m\u001b[1;33m\u001b[0m\u001b[0m\n\u001b[0;32m    132\u001b[0m     \u001b[1;32mreturn\u001b[0m \u001b[0mresponse\u001b[0m\u001b[1;33m\u001b[0m\u001b[1;33m\u001b[0m\u001b[0m\n",
      "\u001b[1;32mD:\\anaconda\\lib\\site-packages\\ee\\data.py\u001b[0m in \u001b[0;36mgetMapId\u001b[1;34m(params)\u001b[0m\n\u001b[0;32m    571\u001b[0m   \u001b[1;31m# Make it return only the name field, as otherwise it echoes the entire\u001b[0m\u001b[1;33m\u001b[0m\u001b[1;33m\u001b[0m\u001b[0m\n\u001b[0;32m    572\u001b[0m   \u001b[1;31m# request, which might be large.\u001b[0m\u001b[1;33m\u001b[0m\u001b[1;33m\u001b[0m\u001b[0m\n\u001b[1;32m--> 573\u001b[1;33m   result = _execute_cloud_call(\n\u001b[0m\u001b[0;32m    574\u001b[0m       _get_cloud_api_resource().projects().maps().create(\n\u001b[0;32m    575\u001b[0m           parent=_get_projects_path(), fields='name', body=request))\n",
      "\u001b[1;32mD:\\anaconda\\lib\\site-packages\\ee\\data.py\u001b[0m in \u001b[0;36m_execute_cloud_call\u001b[1;34m(call, num_retries)\u001b[0m\n\u001b[0;32m    334\u001b[0m     \u001b[1;32mreturn\u001b[0m \u001b[0mcall\u001b[0m\u001b[1;33m.\u001b[0m\u001b[0mexecute\u001b[0m\u001b[1;33m(\u001b[0m\u001b[0mnum_retries\u001b[0m\u001b[1;33m=\u001b[0m\u001b[0mnum_retries\u001b[0m\u001b[1;33m)\u001b[0m\u001b[1;33m\u001b[0m\u001b[1;33m\u001b[0m\u001b[0m\n\u001b[0;32m    335\u001b[0m   \u001b[1;32mexcept\u001b[0m \u001b[0mgoogleapiclient\u001b[0m\u001b[1;33m.\u001b[0m\u001b[0merrors\u001b[0m\u001b[1;33m.\u001b[0m\u001b[0mHttpError\u001b[0m \u001b[1;32mas\u001b[0m \u001b[0me\u001b[0m\u001b[1;33m:\u001b[0m\u001b[1;33m\u001b[0m\u001b[1;33m\u001b[0m\u001b[0m\n\u001b[1;32m--> 336\u001b[1;33m     \u001b[1;32mraise\u001b[0m \u001b[0m_translate_cloud_exception\u001b[0m\u001b[1;33m(\u001b[0m\u001b[0me\u001b[0m\u001b[1;33m)\u001b[0m\u001b[1;33m\u001b[0m\u001b[1;33m\u001b[0m\u001b[0m\n\u001b[0m\u001b[0;32m    337\u001b[0m \u001b[1;33m\u001b[0m\u001b[0m\n\u001b[0;32m    338\u001b[0m \u001b[1;33m\u001b[0m\u001b[0m\n",
      "\u001b[1;31mEEException\u001b[0m: Classifier training failed: 'Only one class.'."
     ]
    }
   ],
   "source": [
    "'''添加影像集'''\n",
    "#xun_year_evi(evi_collections,\"EVI\")\n",
    "#xun_year_lswi(lswi_collections,\"LSWI\")\n",
    "xun_month_evi(evi_collections,\"EVI\")\n",
    "xun_month_lswi(lswi_collections,\"LSWI\")\n",
    "# xun_day_evi(evi_collections,\"EVI\")\n",
    "# xun_day_lswi(lswi_collections,\"LSWI\")"
   ]
  },
  {
   "cell_type": "code",
   "execution_count": 4,
   "id": "fdd09a58",
   "metadata": {},
   "outputs": [],
   "source": [
    "def xun_year_evi(collections,zhishu_name):\n",
    "    for year in range(2000,2021):\n",
    "        date = (f\"{year}-01-01\",f\"{year}-12-31\")\n",
    "        print(str(date[0]),str(date[1]))\n",
    "        col_mean = collections.filterDate(str(date[0]),str(date[1])).map(clipp).mean()\n",
    "        training = col_mean.sampleRegions({'collection': xunlian,'properties': ['Id'],'scale': 30})\n",
    "        trained = ee.Classifier.smileRandomForest(numberOfTrees=30).train(training, 'Id')\n",
    "        result = col_mean.classify(trained)       \n",
    "        #Map.addLayer(result.randomVisualizer(),{}, f'{zhishu_name}-classfied-{year}')\n",
    "        print(f'{zhishu_name}-{year}-is trained ok')\n",
    "    print(f'{zhishu_name}-is trained ok')\n",
    "    print('---------------------------')"
   ]
  },
  {
   "cell_type": "code",
   "execution_count": 5,
   "id": "074c5cff",
   "metadata": {},
   "outputs": [],
   "source": [
    "def xun_year_lswi(collections,zhishu_name):\n",
    "    for year in range(2000,2021):\n",
    "        date = (f\"{year}-01-01\",f\"{year}-12-31\")\n",
    "        print(str(date[0]),str(date[1]))\n",
    "        col_mean = collections.filterDate(str(date[0]),str(date[1])).select(['B4', 'B5', 'pixel_qa']).map(cloudMaskL7).map(lswi_).map(clipp).mean()\n",
    "        print(col_mean.getInfo())\n",
    "        training = col_mean.sampleRegions({'collection': xunlian,'properties': ['Id'],'scale': 30})\n",
    "        trained = ee.Classifier.smileRandomForest(numberOfTrees=30).train(training, 'Id')\n",
    "        result = col_mean.classify(trained)       \n",
    "        #Map.addLayer(result.randomVisualizer(),{}, f'{zhishu_name}-classfied-{year}')\n",
    "        print(f'{zhishu_name}-{year}-is trained ok')\n",
    "    print(f'{zhishu_name}-is trained ok')\n",
    "    print('---------------------------')"
   ]
  },
  {
   "cell_type": "code",
   "execution_count": 25,
   "id": "9820d590",
   "metadata": {},
   "outputs": [
    {
     "data": {
      "application/vnd.jupyter.widget-view+json": {
       "model_id": "5d1a25a6c20348608900b42415877d79",
       "version_major": 2,
       "version_minor": 0
      },
      "text/plain": [
       "  0%|          | 0/1000 [00:00<?, ?it/s]"
      ]
     },
     "metadata": {},
     "output_type": "display_data"
    }
   ],
   "source": [
    "from tqdm.notebook import tqdm\n",
    "from time import sleep\n",
    "\n",
    "for i in tqdm(range(1000)):\n",
    "    sleep(0.001)\n"
   ]
  }
 ],
 "metadata": {
  "kernelspec": {
   "display_name": "Python 3 (ipykernel)",
   "language": "python",
   "name": "python3"
  },
  "language_info": {
   "codemirror_mode": {
    "name": "ipython",
    "version": 3
   },
   "file_extension": ".py",
   "mimetype": "text/x-python",
   "name": "python",
   "nbconvert_exporter": "python",
   "pygments_lexer": "ipython3",
   "version": "3.8.13"
<<<<<<< HEAD
=======
  },
  "toc": {
   "base_numbering": 1,
   "nav_menu": {},
   "number_sections": true,
   "sideBar": true,
   "skip_h1_title": false,
   "title_cell": "Table of Contents",
   "title_sidebar": "Contents",
   "toc_cell": false,
   "toc_position": {},
   "toc_section_display": true,
   "toc_window_display": false
  },
  "varInspector": {
   "cols": {
    "lenName": 16,
    "lenType": 16,
    "lenVar": 40
   },
   "kernels_config": {
    "python": {
     "delete_cmd_postfix": "",
     "delete_cmd_prefix": "del ",
     "library": "var_list.py",
     "varRefreshCmd": "print(var_dic_list())"
    },
    "r": {
     "delete_cmd_postfix": ") ",
     "delete_cmd_prefix": "rm(",
     "library": "var_list.r",
     "varRefreshCmd": "cat(var_dic_list()) "
    }
   },
   "types_to_exclude": [
    "module",
    "function",
    "builtin_function_or_method",
    "instance",
    "_Feature"
   ],
   "window_display": false
>>>>>>> 9323533 (first commit)
  }
 },
 "nbformat": 4,
 "nbformat_minor": 5
}
